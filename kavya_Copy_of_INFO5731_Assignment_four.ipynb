{
  "nbformat": 4,
  "nbformat_minor": 0,
  "metadata": {
    "colab": {
      "name": "kavya_Copy of INFO5731_Assignment_four.ipynb",
      "provenance": [],
      "collapsed_sections": [],
      "include_colab_link": true
    },
    "kernelspec": {
      "name": "python3",
      "display_name": "Python 3"
    }
  },
  "cells": [
    {
      "cell_type": "markdown",
      "metadata": {
        "id": "view-in-github",
        "colab_type": "text"
      },
      "source": [
        "<a href=\"https://colab.research.google.com/github/kavyaperavali/kavya_INFO-5731_spring_2020/blob/master/kavya_Copy_of_INFO5731_Assignment_four.ipynb\" target=\"_parent\"><img src=\"https://colab.research.google.com/assets/colab-badge.svg\" alt=\"Open In Colab\"/></a>"
      ]
    },
    {
      "cell_type": "markdown",
      "metadata": {
        "id": "USSdXHuqnwv9",
        "colab_type": "text"
      },
      "source": [
        "# **INFO5731 Assignment Four**\n",
        "\n",
        "In this assignment, you are required to conduct topic modeling, sentiment analysis based on **the dataset you created from assignment three**."
      ]
    },
    {
      "cell_type": "markdown",
      "metadata": {
        "id": "YWxodXh5n4xF",
        "colab_type": "text"
      },
      "source": [
        "# **Question 1: Topic Modeling**"
      ]
    },
    {
      "cell_type": "markdown",
      "metadata": {
        "id": "TenBkDJ5n95k",
        "colab_type": "text"
      },
      "source": [
        "(30 points). This question is designed to help you develop a feel for the way topic modeling works, the connection to the human meanings of documents. Based on the dataset from assignment three, write a python program to **identify the top 10 topics in the dataset**. Before answering this question, please review the materials in lesson 8, especially the code for LDA and LSA. The following information should be reported:\n",
        "\n",
        "(1) Features (top n-gram phrases) used for topic modeling.\n",
        "\n",
        "(2) Top 10 clusters for topic modeling.\n",
        "\n",
        "(3) Summarize and describe the topic for each cluster. \n"
      ]
    },
    {
      "cell_type": "code",
      "metadata": {
        "id": "PuFPKhC0m1fd",
        "colab_type": "code",
        "colab": {}
      },
      "source": [
        "# Write your code here\n",
        "import nltk\n",
        "nltk.download()\n"
      ],
      "execution_count": 0,
      "outputs": []
    },
    {
      "cell_type": "code",
      "metadata": {
        "id": "2EY8cUnQ22Qn",
        "colab_type": "code",
        "colab": {}
      },
      "source": [
        "import re\n",
        "import numpy as np\n",
        "import pandas as pd\n",
        "from pprint import pprint\n",
        "import gensim\n",
        "import gensim.corpora as corpora\n",
        "from gensim.utils import simple_preprocess\n",
        "from gensim.models import CoherenceModel\n",
        "!pip install pyLDAvis\n",
        "import pyLDAvis\n",
        "import pyLDAvis.gensim  \n",
        "import matplotlib.pyplot as plt\n",
        "import logging\n",
        "logging.basicConfig(format='%(asctime)s : %(levelname)s : %(message)s', level=logging.ERROR)\n",
        "import warnings\n",
        "warnings.filterwarnings(\"ignore\",category=DeprecationWarning)\n",
        "import csv\n",
        "from nltk.tokenize import RegexpTokenizer"
      ],
      "execution_count": 0,
      "outputs": []
    },
    {
      "cell_type": "code",
      "metadata": {
        "id": "IXVxpCZ84nX5",
        "colab_type": "code",
        "colab": {
          "base_uri": "https://localhost:8080/",
          "height": 406
        },
        "outputId": "dbb911cf-6451-499b-8853-81faa61b8b4b"
      },
      "source": [
        "#Importing the dataset and converting data into lowercase.\n",
        "with open('/content/sentiment_analysis_required_data_set.csv', 'r', encoding = \"ISO-8859-1\") as file:\n",
        "  data_file = pd.read_csv (file, error_bad_lines=False)  \n",
        "#data_file['clean_text']=data_file['clean_text'].str.lower()\n",
        "#data_file['sentiment']=data_file['sentiment'].str.lower()\n",
        "data_file"
      ],
      "execution_count": 73,
      "outputs": [
        {
          "output_type": "execute_result",
          "data": {
            "text/html": [
              "<div>\n",
              "<style scoped>\n",
              "    .dataframe tbody tr th:only-of-type {\n",
              "        vertical-align: middle;\n",
              "    }\n",
              "\n",
              "    .dataframe tbody tr th {\n",
              "        vertical-align: top;\n",
              "    }\n",
              "\n",
              "    .dataframe thead th {\n",
              "        text-align: right;\n",
              "    }\n",
              "</style>\n",
              "<table border=\"1\" class=\"dataframe\">\n",
              "  <thead>\n",
              "    <tr style=\"text-align: right;\">\n",
              "      <th></th>\n",
              "      <th>Document_id</th>\n",
              "      <th>clean_text</th>\n",
              "      <th>sentiment</th>\n",
              "    </tr>\n",
              "  </thead>\n",
              "  <tbody>\n",
              "    <tr>\n",
              "      <th>0</th>\n",
              "      <td>0</td>\n",
              "      <td>I was a person that saw all the hype and claim...</td>\n",
              "      <td>Positive</td>\n",
              "    </tr>\n",
              "    <tr>\n",
              "      <th>1</th>\n",
              "      <td>1</td>\n",
              "      <td>Every once in a while a movie comes  that trul...</td>\n",
              "      <td>Positive</td>\n",
              "    </tr>\n",
              "    <tr>\n",
              "      <th>2</th>\n",
              "      <td>2</td>\n",
              "      <td>This is a movie that only those who have felt ...</td>\n",
              "      <td>Positive</td>\n",
              "    </tr>\n",
              "    <tr>\n",
              "      <th>3</th>\n",
              "      <td>3</td>\n",
              "      <td>Truly a masterpiece  The Best Hollywood film o...</td>\n",
              "      <td>Positive</td>\n",
              "    </tr>\n",
              "    <tr>\n",
              "      <th>4</th>\n",
              "      <td>4</td>\n",
              "      <td>Joaquin Phoenix gives a tour de force performa...</td>\n",
              "      <td>Positive</td>\n",
              "    </tr>\n",
              "    <tr>\n",
              "      <th>...</th>\n",
              "      <td>...</td>\n",
              "      <td>...</td>\n",
              "      <td>...</td>\n",
              "    </tr>\n",
              "    <tr>\n",
              "      <th>95</th>\n",
              "      <td>95</td>\n",
              "      <td>Dark  depressing and unsettling film with a ha...</td>\n",
              "      <td>Positive</td>\n",
              "    </tr>\n",
              "    <tr>\n",
              "      <th>96</th>\n",
              "      <td>96</td>\n",
              "      <td>I just didn t get the hype about this movie  A...</td>\n",
              "      <td>Negative</td>\n",
              "    </tr>\n",
              "    <tr>\n",
              "      <th>97</th>\n",
              "      <td>97</td>\n",
              "      <td>JOKER is a gift to the audiences  I felt as a ...</td>\n",
              "      <td>Positive</td>\n",
              "    </tr>\n",
              "    <tr>\n",
              "      <th>98</th>\n",
              "      <td>98</td>\n",
              "      <td>Story was just really unconvincing  Nobody rea...</td>\n",
              "      <td>Negative</td>\n",
              "    </tr>\n",
              "    <tr>\n",
              "      <th>99</th>\n",
              "      <td>99</td>\n",
              "      <td>It premiered last night in Sydney and I was lu...</td>\n",
              "      <td>Positive</td>\n",
              "    </tr>\n",
              "  </tbody>\n",
              "</table>\n",
              "<p>100 rows × 3 columns</p>\n",
              "</div>"
            ],
            "text/plain": [
              "    Document_id                                         clean_text sentiment\n",
              "0             0  I was a person that saw all the hype and claim...  Positive\n",
              "1             1  Every once in a while a movie comes  that trul...  Positive\n",
              "2             2  This is a movie that only those who have felt ...  Positive\n",
              "3             3  Truly a masterpiece  The Best Hollywood film o...  Positive\n",
              "4             4  Joaquin Phoenix gives a tour de force performa...  Positive\n",
              "..          ...                                                ...       ...\n",
              "95           95  Dark  depressing and unsettling film with a ha...  Positive\n",
              "96           96  I just didn t get the hype about this movie  A...  Negative\n",
              "97           97  JOKER is a gift to the audiences  I felt as a ...  Positive\n",
              "98           98  Story was just really unconvincing  Nobody rea...  Negative\n",
              "99           99  It premiered last night in Sydney and I was lu...  Positive\n",
              "\n",
              "[100 rows x 3 columns]"
            ]
          },
          "metadata": {
            "tags": []
          },
          "execution_count": 73
        }
      ]
    },
    {
      "cell_type": "code",
      "metadata": {
        "id": "il0Ic1zpizT-",
        "colab_type": "code",
        "colab": {
          "base_uri": "https://localhost:8080/",
          "height": 70
        },
        "outputId": "02a0e525-405a-4348-9ebf-4aecd0d0ed2d"
      },
      "source": [
        "!pip install stop-words\n",
        "from nltk.corpus import stopwords\n",
        "from nltk.stem.porter import PorterStemmer\n",
        "from gensim import corpora, models\n",
        "nltk.download('wordnet')\n",
        "from nltk.tokenize import RegexpTokenizer\n",
        "from nltk.stem.wordnet import WordNetLemmatizer"
      ],
      "execution_count": 50,
      "outputs": [
        {
          "output_type": "stream",
          "text": [
            "Requirement already satisfied: stop-words in /usr/local/lib/python3.6/dist-packages (2018.7.23)\n",
            "[nltk_data] Downloading package wordnet to /root/nltk_data...\n",
            "[nltk_data]   Package wordnet is already up-to-date!\n"
          ],
          "name": "stdout"
        }
      ]
    },
    {
      "cell_type": "code",
      "metadata": {
        "id": "8Y5-HAMujClE",
        "colab_type": "code",
        "colab": {}
      },
      "source": [
        "tokenizer = RegexpTokenizer(r'\\w+')\n",
        "tokens = []\n",
        "for i in data_file['clean_text']:\n",
        "    # clean and tokenize document string\n",
        "    raw = i.lower()\n",
        "    if(i=='spoiler content'):\n",
        "      continue\n",
        "    tokens.append(tokenizer.tokenize(raw))  "
      ],
      "execution_count": 0,
      "outputs": []
    },
    {
      "cell_type": "code",
      "metadata": {
        "id": "dFZ_G0DVZKWc",
        "colab_type": "code",
        "colab": {
          "base_uri": "https://localhost:8080/",
          "height": 52
        },
        "outputId": "5d68af4a-698b-4dc7-e883-11bc546d4113"
      },
      "source": [
        "# Build the bigram and trigram models\n",
        "bigram = gensim.models.Phrases(tokens, min_count=5, threshold=100) # higher threshold fewer phrases.\n",
        "trigram = gensim.models.Phrases(bigram[tokens], threshold=100)  \n",
        "\n",
        "# Faster way to get a sentence clubbed as a trigram/bigram\n",
        "bigram_mod = gensim.models.phrases.Phraser(bigram)\n",
        "trigram_mod = gensim.models.phrases.Phraser(trigram)"
      ],
      "execution_count": 67,
      "outputs": [
        {
          "output_type": "stream",
          "text": [
            "/usr/local/lib/python3.6/dist-packages/gensim/models/phrases.py:598: UserWarning: For a faster implementation, use the gensim.models.phrases.Phraser class\n",
            "  warnings.warn(\"For a faster implementation, use the gensim.models.phrases.Phraser class\")\n"
          ],
          "name": "stderr"
        }
      ]
    },
    {
      "cell_type": "code",
      "metadata": {
        "id": "w6W3LlEBex9b",
        "colab_type": "code",
        "colab": {}
      },
      "source": [
        "def make_bigrams(tokens):\n",
        "    return [bigram_mod[doc] for doc in tokens]\n",
        "\n",
        "def make_trigrams(tokens):\n",
        "    return [trigram_mod[bigram_mod[doc]] for doc in tokens]   "
      ],
      "execution_count": 0,
      "outputs": []
    },
    {
      "cell_type": "code",
      "metadata": {
        "id": "r5JIWaQ5ZKkt",
        "colab_type": "code",
        "colab": {}
      },
      "source": [
        "data_words_bigrams = make_bigrams(tokens)\n",
        "data_words_trigrams=make_trigrams(data_words_bigrams)\n"
      ],
      "execution_count": 0,
      "outputs": []
    },
    {
      "cell_type": "code",
      "metadata": {
        "id": "zBFOk_VYczFv",
        "colab_type": "code",
        "colab": {}
      },
      "source": [
        "id2word = corpora.Dictionary(data_words_trigrams)\n",
        "corpus = [id2word.doc2bow(t) for t in data_words_trigrams]\n",
        "\n"
      ],
      "execution_count": 0,
      "outputs": []
    },
    {
      "cell_type": "code",
      "metadata": {
        "id": "JoaV5HdwvfhD",
        "colab_type": "code",
        "colab": {
          "base_uri": "https://localhost:8080/",
          "height": 603
        },
        "outputId": "c13c5dfd-6f60-4cd6-b15b-c6cfbac497ae"
      },
      "source": [
        "lda_model = gensim.models.ldamodel.LdaModel(corpus=corpus,\n",
        "                                           id2word=id2word,\n",
        "                                           num_topics=10, \n",
        "                                           random_state=100,\n",
        "                                           update_every=1,\n",
        "                                           chunksize=100,\n",
        "                                           passes=10,\n",
        "                                           alpha='auto',\n",
        "                                           per_word_topics=True)\n",
        "#1.2 Top 10 Clusters of Topic Modelling\n",
        "pprint(lda_model.print_topics())\n",
        "doc_lda = lda_model[corpus]"
      ],
      "execution_count": 75,
      "outputs": [
        {
          "output_type": "stream",
          "text": [
            "[(0,\n",
            "  '0.014*\"the\" + 0.014*\"to\" + 0.014*\"and\" + 0.014*\"damn\" + 0.014*\"get\" + '\n",
            "  '0.014*\"will\" + 0.014*\"he\" + 0.013*\"on\" + 0.013*\"ur\" + 0.013*\"a\"'),\n",
            " (1,\n",
            "  '0.023*\"the\" + 0.020*\"movie\" + 0.019*\"and\" + 0.019*\"to\" + 0.018*\"what\" + '\n",
            "  '0.017*\"a\" + 0.017*\"get\" + 0.017*\"u\" + 0.017*\"ur\" + 0.017*\"damn\"'),\n",
            " (2,\n",
            "  '0.039*\"movie\" + 0.035*\"the\" + 0.034*\"to\" + 0.031*\"and\" + 0.026*\"do\" + '\n",
            "  '0.024*\"a\" + 0.023*\"ur\" + 0.023*\"i\" + 0.022*\"what\" + 0.022*\"he\"'),\n",
            " (3,\n",
            "  '0.023*\"the\" + 0.017*\"to\" + 0.016*\"a\" + 0.016*\"movie\" + 0.016*\"and\" + '\n",
            "  '0.015*\"acting\" + 0.015*\"really\" + 0.015*\"u\" + 0.015*\"joaquin\" + '\n",
            "  '0.015*\"will\"'),\n",
            " (4,\n",
            "  '0.013*\"the\" + 0.013*\"and\" + 0.013*\"to\" + 0.013*\"movie\" + 0.013*\"damn\" + '\n",
            "  '0.013*\"u\" + 0.013*\"it\" + 0.013*\"do\" + 0.013*\"on\" + 0.013*\"what\"'),\n",
            " (5,\n",
            "  '0.023*\"the\" + 0.016*\"movie\" + 0.016*\"he\" + 0.016*\"really\" + 0.016*\"to\" + '\n",
            "  '0.016*\"i\" + 0.016*\"a\" + 0.016*\"and\" + 0.015*\"damn\" + 0.015*\"what\"'),\n",
            " (6,\n",
            "  '0.047*\"the\" + 0.027*\"a\" + 0.026*\"to\" + 0.024*\"ur\" + 0.023*\"and\" + '\n",
            "  '0.022*\"on\" + 0.022*\"damn\" + 0.021*\"movie\" + 0.021*\"really\" + 0.020*\"for\"'),\n",
            " (7,\n",
            "  '0.053*\"the\" + 0.036*\"movie\" + 0.033*\"and\" + 0.032*\"a\" + 0.031*\"to\" + '\n",
            "  '0.025*\"damn\" + 0.022*\"i\" + 0.022*\"on\" + 0.021*\"ur\" + 0.021*\"what\"'),\n",
            " (8,\n",
            "  '0.018*\"the\" + 0.015*\"to\" + 0.015*\"and\" + 0.015*\"i\" + 0.015*\"a\" + '\n",
            "  '0.015*\"for\" + 0.014*\"movie\" + 0.014*\"on\" + 0.014*\"joaquin\" + '\n",
            "  '0.014*\"acting\"'),\n",
            " (9,\n",
            "  '0.053*\"the\" + 0.031*\"a\" + 0.028*\"and\" + 0.027*\"to\" + 0.023*\"movie\" + '\n",
            "  '0.022*\"acting\" + 0.022*\"joaquin\" + 0.022*\"for\" + 0.021*\"will\" + '\n",
            "  '0.021*\"get\"')]\n"
          ],
          "name": "stdout"
        }
      ]
    },
    {
      "cell_type": "code",
      "metadata": {
        "id": "ghDJ2DKh1nC8",
        "colab_type": "code",
        "colab": {
          "base_uri": "https://localhost:8080/",
          "height": 87
        },
        "outputId": "66ee2a70-40f5-48e8-845f-398ccc3987e8"
      },
      "source": [
        "# Compute Perplexity\n",
        "print('\\nPerplexity: ', lda_model.log_perplexity(corpus))  # a measure of how good the model is. lower the better.\n",
        "\n",
        "# Compute Coherence Score\n",
        "coherence_model_lda = CoherenceModel(model=lda_model, texts =data_words_trigrams, dictionary=id2word, coherence='c_v')\n",
        "coherence_lda = coherence_model_lda.get_coherence()\n",
        "print('\\nCoherence Score: ', coherence_lda)"
      ],
      "execution_count": 80,
      "outputs": [
        {
          "output_type": "stream",
          "text": [
            "\n",
            "Perplexity:  -4.331538741284725\n",
            "\n",
            "Coherence Score:  0.9999999999999998\n"
          ],
          "name": "stdout"
        }
      ]
    },
    {
      "cell_type": "code",
      "metadata": {
        "id": "_APoz_Xq3GTC",
        "colab_type": "code",
        "colab": {
          "base_uri": "https://localhost:8080/",
          "height": 861
        },
        "outputId": "79c152c5-45f6-4aa2-d31b-62a65fa03365"
      },
      "source": [
        "# Visualize the topics\n",
        "pyLDAvis.enable_notebook()\n",
        "vis = pyLDAvis.gensim.prepare(lda_model, corpus, id2word)\n",
        "vis"
      ],
      "execution_count": 81,
      "outputs": [
        {
          "output_type": "execute_result",
          "data": {
            "text/html": [
              "\n",
              "<link rel=\"stylesheet\" type=\"text/css\" href=\"https://cdn.rawgit.com/bmabey/pyLDAvis/files/ldavis.v1.0.0.css\">\n",
              "\n",
              "\n",
              "<div id=\"ldavis_el122140175875595264832810359\"></div>\n",
              "<script type=\"text/javascript\">\n",
              "\n",
              "var ldavis_el122140175875595264832810359_data = {\"mdsDat\": {\"x\": [-0.01043417061885242, -0.013029481221102559, -0.015383544405866636, -0.00672489263461774, 0.0022716341884437452, 0.004689016115573978, 0.004755524684440555, 0.0077749639809296615, 0.012505021018009259, 0.013575928893042159], \"y\": [-0.004408591640269775, 0.004766215279259321, -0.00022199998098317172, -0.0011087191098500275, 0.0016883580429847625, -0.0007092564959983968, -0.0003947882850786716, -0.00026713459497210683, 0.00021454458317644027, 0.00044137220173162044], \"topics\": [1, 2, 3, 4, 5, 6, 7, 8, 9, 10], \"cluster\": [1, 1, 1, 1, 1, 1, 1, 1, 1, 1], \"Freq\": [59.20100402832031, 22.69757652282715, 17.79587745666504, 0.08372315019369125, 0.04221164062619209, 0.040417544543743134, 0.040407098829746246, 0.03804880753159523, 0.03163423389196396, 0.029105061665177345]}, \"tinfo\": {\"Term\": [\"the\", \"a\", \"to\", \"and\", \"movie\", \"joaquin\", \"acting\", \"for\", \"get\", \"really\", \"damn\", \"will\", \"ur\", \"u\", \"it\", \"on\", \"i\", \"he\", \"what\", \"do\", \"niro\", \"wine\", \"was\", \"turn\", \"best\", \"keeps\", \"win\", \"your\", \"mention\", \"sad\", \"wine\", \"was\", \"niro\", \"turn\", \"acting\", \"keeps\", \"joaquin\", \"for\", \"mention\", \"best\", \"did\", \"your\", \"sad\", \"win\", \"but\", \"joker\", \"will\", \"suspense\", \"the\", \"get\", \"teach\", \"it\", \"missed\", \"thriller\", \"unpredictable\", \"a\", \"really\", \"s\", \"all\", \"plot\", \"he\", \"and\", \"to\", \"damn\", \"u\", \"on\", \"what\", \"do\", \"ur\", \"i\", \"movie\", \"door\", \"time\", \"movie\", \"do\", \"interesting\", \"sign\", \"of\", \"enjoy\", \"as\", \"compelling\", \"cellphones\", \"gladiator\", \"am\", \"ur\", \"that\", \"storyline\", \"to\", \"experience\", \"i\", \"what\", \"not\", \"close\", \"confident\", \"he\", \"u\", \"you\", \"curtains\", \"disturb\", \"and\", \"oscar\", \"for\", \"on\", \"get\", \"it\", \"the\", \"a\", \"really\", \"damn\", \"will\", \"joaquin\", \"acting\", \"that\", \"compelling\", \"experience\", \"is\", \"damn\", \"sign\", \"movie\", \"plot\", \"star\", \"door\", \"this\", \"i\", \"interesting\", \"on\", \"deep\", \"and\", \"did\", \"a\", \"unpredictable\", \"ur\", \"what\", \"gladiator\", \"the\", \"of\", \"teach\", \"as\", \"very\", \"to\", \"your\", \"all\", \"u\", \"really\", \"he\", \"it\", \"will\", \"joaquin\", \"do\", \"get\", \"acting\", \"for\", \"close\", \"put\", \"teach\", \"win\", \"ur\", \"confident\", \"forget\", \"missed\", \"best\", \"your\", \"niro\", \"interesting\", \"quite\", \"in\", \"on\", \"damn\", \"as\", \"hand\", \"mention\", \"did\", \"sign\", \"disturb\", \"star\", \"that\", \"cellphones\", \"am\", \"curtains\", \"villain\", \"really\", \"oscar\", \"i\", \"the\", \"for\", \"u\", \"do\", \"a\", \"to\", \"get\", \"joaquin\", \"acting\", \"and\", \"movie\", \"he\", \"will\", \"what\", \"it\", \"sign\", \"close\", \"villain\", \"of\", \"you\", \"compelling\", \"disturb\", \"as\", \"enjoy\", \"forget\", \"in\", \"niro\", \"oscar\", \"deep\", \"am\", \"put\", \"experience\", \"very\", \"mention\", \"unpredictable\", \"toes\", \"win\", \"your\", \"cellphones\", \"that\", \"suspense\", \"star\", \"this\", \"missed\", \"turn\", \"what\", \"get\", \"u\", \"ur\", \"movie\", \"damn\", \"joaquin\", \"the\", \"to\", \"and\", \"really\", \"a\", \"i\", \"he\", \"it\", \"will\", \"on\", \"for\", \"acting\", \"do\", \"that\", \"win\", \"forget\", \"sign\", \"interesting\", \"deep\", \"missed\", \"best\", \"am\", \"compelling\", \"you\", \"confident\", \"in\", \"storyline\", \"toes\", \"very\", \"dark\", \"niro\", \"was\", \"quite\", \"teach\", \"s\", \"time\", \"suspense\", \"thriller\", \"plot\", \"gladiator\", \"of\", \"oscar\", \"experience\", \"close\", \"the\", \"to\", \"acting\", \"really\", \"u\", \"joaquin\", \"a\", \"movie\", \"will\", \"damn\", \"get\", \"and\", \"what\", \"it\", \"i\", \"ur\", \"do\", \"on\", \"he\", \"for\", \"compelling\", \"villain\", \"your\", \"storyline\", \"all\", \"not\", \"as\", \"toes\", \"sad\", \"in\", \"sign\", \"is\", \"teach\", \"you\", \"wine\", \"dark\", \"hand\", \"that\", \"missed\", \"very\", \"joker\", \"turn\", \"confident\", \"gladiator\", \"time\", \"keeps\", \"thriller\", \"star\", \"close\", \"niro\", \"cellphones\", \"the\", \"he\", \"really\", \"i\", \"damn\", \"movie\", \"what\", \"ur\", \"to\", \"will\", \"on\", \"get\", \"a\", \"and\", \"it\", \"u\", \"do\", \"acting\", \"joaquin\", \"for\", \"toes\", \"your\", \"sign\", \"you\", \"storyline\", \"mention\", \"missed\", \"door\", \"compelling\", \"hand\", \"experience\", \"is\", \"deep\", \"star\", \"turn\", \"of\", \"joker\", \"enjoy\", \"gladiator\", \"as\", \"sad\", \"very\", \"curtains\", \"unpredictable\", \"best\", \"put\", \"that\", \"win\", \"forget\", \"keeps\", \"thriller\", \"the\", \"i\", \"for\", \"to\", \"and\", \"on\", \"joaquin\", \"acting\", \"ur\", \"damn\", \"he\", \"a\", \"do\", \"u\", \"movie\", \"really\", \"it\", \"what\", \"will\", \"get\", \"sign\", \"compelling\", \"is\", \"door\", \"villain\", \"that\", \"deep\", \"interesting\", \"not\", \"enjoy\", \"as\", \"missed\", \"star\", \"of\", \"unpredictable\", \"experience\", \"storyline\", \"you\", \"all\", \"curtains\", \"time\", \"put\", \"dark\", \"this\", \"forget\", \"disturb\", \"toes\", \"am\", \"close\", \"win\", \"thriller\", \"wine\", \"mention\", \"niro\", \"turn\", \"but\", \"the\", \"damn\", \"to\", \"get\", \"will\", \"he\", \"and\", \"on\", \"ur\", \"acting\", \"it\", \"really\", \"a\", \"movie\", \"for\", \"u\", \"what\", \"i\", \"joaquin\", \"do\", \"that\", \"compelling\", \"door\", \"sign\", \"experience\", \"interesting\", \"is\", \"as\", \"gladiator\", \"star\", \"of\", \"time\", \"enjoy\", \"storyline\", \"confident\", \"deep\", \"close\", \"this\", \"oscar\", \"very\", \"plot\", \"forget\", \"in\", \"quite\", \"dark\", \"curtains\", \"am\", \"not\", \"villain\", \"put\", \"teach\", \"disturb\", \"toes\", \"unpredictable\", \"you\", \"thriller\", \"sad\", \"the\", \"and\", \"to\", \"movie\", \"damn\", \"u\", \"it\", \"do\", \"on\", \"what\", \"he\", \"get\", \"i\", \"will\", \"for\", \"ur\", \"acting\", \"a\", \"joaquin\", \"really\", \"best\"], \"Freq\": [499.0, 299.0, 298.0, 298.0, 297.0, 200.0, 200.0, 200.0, 200.0, 199.0, 199.0, 200.0, 198.0, 199.0, 200.0, 199.0, 199.0, 199.0, 199.0, 199.0, 100.0, 100.0, 100.0, 100.0, 100.0, 100.0, 100.0, 100.0, 100.0, 100.0, 71.0065689086914, 70.83949279785156, 69.60126495361328, 69.25696563720703, 134.87547302246094, 67.20256805419922, 132.47921752929688, 132.4445343017578, 66.19904327392578, 65.9250259399414, 65.5434341430664, 65.25344848632812, 65.0560073852539, 64.94527435302734, 65.01144409179688, 64.82720184326172, 129.37771606445312, 64.68214416503906, 320.7250671386719, 126.8211441040039, 63.30781173706055, 126.1720962524414, 63.109554290771484, 62.65206527709961, 62.357635498046875, 184.92489624023438, 123.1075668334961, 61.66177749633789, 61.42688751220703, 61.240238189697266, 115.47886657714844, 166.32374572753906, 163.76611328125, 113.67105102539062, 113.79351806640625, 113.28514862060547, 108.52180480957031, 108.59342193603516, 106.39838409423828, 106.08319091796875, 140.39743041992188, 32.82490158081055, 30.97728729248047, 90.81889343261719, 60.6882438659668, 29.33254051208496, 27.801368713378906, 27.86153793334961, 27.799190521240234, 27.533926010131836, 27.272533416748047, 27.434438705444336, 27.285537719726562, 27.31972312927246, 53.375858306884766, 26.624244689941406, 26.57784652709961, 78.74832153320312, 26.209426879882812, 52.09524917602539, 51.884063720703125, 25.97490882873535, 25.694849014282227, 25.231870651245117, 50.215492248535156, 49.911495208740234, 24.646400451660156, 24.53642463684082, 24.45380973815918, 72.466796875, 24.139509201049805, 45.69325637817383, 45.33196258544922, 44.603694915771484, 41.57814407348633, 81.89566802978516, 55.15420150756836, 41.41691970825195, 39.234432220458984, 39.0411376953125, 37.621063232421875, 37.495826721191406, 24.87904930114746, 24.114578247070312, 23.51831817626953, 23.43306541442871, 45.667293548583984, 22.101167678833008, 65.75657653808594, 21.833593368530273, 21.209911346435547, 20.448022842407227, 20.30319595336914, 40.32692337036133, 20.101768493652344, 40.1515998840332, 20.104991912841797, 59.41775894165039, 19.854440689086914, 58.7955322265625, 19.62167739868164, 38.63713455200195, 38.446990966796875, 19.24954605102539, 95.69738006591797, 19.0312442779541, 19.074304580688477, 18.829742431640625, 18.80960464477539, 55.560298919677734, 18.25328826904297, 18.093637466430664, 35.29281997680664, 34.8365478515625, 33.596588134765625, 32.097591400146484, 31.55806541442871, 29.93203353881836, 29.729490280151367, 28.40542984008789, 27.84880256652832, 22.102365493774414, 0.11481088399887085, 0.10991179198026657, 0.10621698945760727, 0.10379032790660858, 0.2054201364517212, 0.09952394664287567, 0.0992821678519249, 0.09932886064052582, 0.09951206296682358, 0.09897429496049881, 0.09839045256376266, 0.09710013121366501, 0.09717879444360733, 0.09653744101524353, 0.19002239406108856, 0.18930698931217194, 0.09481024742126465, 0.09431689977645874, 0.0943918451666832, 0.09412257373332977, 0.09232428669929504, 0.0919019803404808, 0.091175876557827, 0.09058554470539093, 0.09131233394145966, 0.09062948822975159, 0.09002240002155304, 0.08981525897979736, 0.1786072999238968, 0.08911310881376266, 0.17197126150131226, 0.4049280881881714, 0.1721385419368744, 0.16811245679855347, 0.1665409356355667, 0.23331788182258606, 0.22542454302310944, 0.15484268963336945, 0.1549016386270523, 0.15431998670101166, 0.19852648675441742, 0.18033073842525482, 0.1372605413198471, 0.131464883685112, 0.12722927331924438, 0.12675245106220245, 0.06441555917263031, 0.05716875195503235, 0.0569472536444664, 0.05619997903704643, 0.05612754076719284, 0.05506638437509537, 0.05500709265470505, 0.054317571222782135, 0.05424218624830246, 0.05386938154697418, 0.0538296215236187, 0.05409027636051178, 0.05363676697015762, 0.05360020697116852, 0.05365126579999924, 0.05333458632230759, 0.05299003794789314, 0.05319882556796074, 0.053367383778095245, 0.05322899669408798, 0.05316720902919769, 0.05323157086968422, 0.05283043906092644, 0.05278231203556061, 0.05216546356678009, 0.052748750895261765, 0.05235926806926727, 0.05244456231594086, 0.05251745134592056, 0.05263940989971161, 0.0783688947558403, 0.07373888790607452, 0.07350766658782959, 0.07309331744909286, 0.08708910644054413, 0.0713927298784256, 0.07017229497432709, 0.09830598533153534, 0.0803026407957077, 0.08030392229557037, 0.06652949750423431, 0.07414139062166214, 0.06489323079586029, 0.061926353722810745, 0.061945173889398575, 0.06111494451761246, 0.058950815349817276, 0.058830443769693375, 0.05848323926329613, 0.056979700922966, 0.05910995230078697, 0.055513206869363785, 0.055114246904850006, 0.054663825780153275, 0.05417978763580322, 0.05424327775835991, 0.05416404828429222, 0.05422593280673027, 0.053852010518312454, 0.05333010479807854, 0.05372823029756546, 0.05353610962629318, 0.0536070317029953, 0.05338166281580925, 0.05318478122353554, 0.05297338217496872, 0.05300135537981987, 0.05323868989944458, 0.0532008521258831, 0.05275881290435791, 0.05270819365978241, 0.052704811096191406, 0.05242109298706055, 0.05258489400148392, 0.05244769528508186, 0.05215992406010628, 0.05190751329064369, 0.05161602050065994, 0.051698777824640274, 0.05129198357462883, 0.051479775458574295, 0.09460421651601791, 0.07209651172161102, 0.06381501257419586, 0.06270424276590347, 0.06233641132712364, 0.06211379915475845, 0.06721337884664536, 0.06670184433460236, 0.06078600883483887, 0.060086555778980255, 0.06012545898556709, 0.0642697662115097, 0.0598258376121521, 0.059438660740852356, 0.059363581240177155, 0.058879416435956955, 0.05791473761200905, 0.05655136704444885, 0.05604518577456474, 0.05517204850912094, 0.05493374913930893, 0.05474216118454933, 0.05451793223619461, 0.05431323125958443, 0.05410341918468475, 0.05382984131574631, 0.053599704056978226, 0.053760167211294174, 0.05372786149382591, 0.05338987335562706, 0.0530349500477314, 0.053131479769945145, 0.0533243864774704, 0.05331964045763016, 0.05317024514079094, 0.052768707275390625, 0.05263809859752655, 0.052149392664432526, 0.05256032571196556, 0.052358224987983704, 0.052457645535469055, 0.052544500678777695, 0.05211929231882095, 0.05196772515773773, 0.051996633410453796, 0.05226434767246246, 0.052110351622104645, 0.051807284355163574, 0.051895637065172195, 0.05213871970772743, 0.05192554369568825, 0.09316375851631165, 0.06607762724161148, 0.06594705581665039, 0.06465376168489456, 0.062210455536842346, 0.0670616403222084, 0.06101398542523384, 0.06085813790559769, 0.06543317437171936, 0.06011810153722763, 0.05970562621951103, 0.05969780310988426, 0.06412619352340698, 0.06402216106653214, 0.05944865196943283, 0.05921350419521332, 0.05912388861179352, 0.0590096190571785, 0.05583959445357323, 0.055616941303014755, 0.05246860906481743, 0.05239974707365036, 0.05118574574589729, 0.05152113735675812, 0.05133214220404625, 0.05138362571597099, 0.05126865580677986, 0.05087234452366829, 0.05070266127586365, 0.05106635019183159, 0.050666097551584244, 0.05070767551660538, 0.05083394795656204, 0.050560105592012405, 0.05093524977564812, 0.05044790357351303, 0.05064936354756355, 0.05040951818227768, 0.0503217838704586, 0.05019981041550636, 0.050477247685194016, 0.05027339980006218, 0.0502542145550251, 0.05027269944548607, 0.05041896179318428, 0.05021793022751808, 0.04977159947156906, 0.05025072023272514, 0.05006967484951019, 0.0502767451107502, 0.050126027315855026, 0.06914378702640533, 0.05734393745660782, 0.056340403854846954, 0.05997296795248985, 0.059668511152267456, 0.055958233773708344, 0.055607717484235764, 0.05549606308341026, 0.055113162845373154, 0.05462701991200447, 0.05428919568657875, 0.0564253069460392, 0.054168861359357834, 0.05415814742445946, 0.056034427136182785, 0.054059844464063644, 0.05399332568049431, 0.0538194365799427, 0.053630389273166656, 0.053615596145391464, 0.04313713312149048, 0.04290153086185455, 0.04295111447572708, 0.04280715063214302, 0.04308101534843445, 0.04272712394595146, 0.0429842546582222, 0.0428142324090004, 0.0430477075278759, 0.04290568456053734, 0.042808908969163895, 0.04296416416764259, 0.042795371264219284, 0.04277356341481209, 0.042923055589199066, 0.042640578001737595, 0.04280756041407585, 0.04292953386902809, 0.04293585196137428, 0.042872924357652664, 0.042744170874357224, 0.04286451265215874, 0.042835645377635956, 0.042772162705659866, 0.04280621185898781, 0.04283525422215462, 0.04283798858523369, 0.04281572997570038, 0.04273000732064247, 0.04287293180823326, 0.042830053716897964, 0.04300523176789284, 0.04286540299654007, 0.04287111759185791, 0.042826708406209946, 0.042812712490558624, 0.04540069401264191, 0.043800171464681625, 0.04429993778467178, 0.043664298951625824, 0.04363586753606796, 0.04362926259636879, 0.04397100210189819, 0.04352312907576561, 0.04350931569933891, 0.04345499351620674, 0.04339871183037758, 0.04336877539753914, 0.04346255213022232, 0.04345899075269699, 0.04328343644738197, 0.043268002569675446, 0.04323214292526245, 0.04321058839559555, 0.04317248612642288, 0.043090514838695526, 0.039581410586833954, 0.03958296775817871, 0.039581310003995895, 0.03958206623792648, 0.039581939578056335, 0.03958279639482498, 0.039582084864377975, 0.039581913501024246, 0.03958193585276604, 0.03958253562450409, 0.039581578224897385, 0.03958185762166977, 0.03958248719573021, 0.039582300931215286, 0.039582375437021255, 0.03958093747496605, 0.039581067860126495, 0.03958158567547798, 0.039582811295986176, 0.03958222270011902, 0.03958319127559662, 0.039581842720508575, 0.039581213146448135, 0.03958241268992424, 0.039581526070833206, 0.03958212211728096, 0.03958165645599365, 0.039581526070833206, 0.03958190232515335, 0.03958186134696007, 0.03958223760128021, 0.03958228975534439, 0.039582572877407074, 0.03958233445882797, 0.039582446217536926, 0.03958234190940857, 0.03958287835121155, 0.0395907498896122, 0.039587896317243576, 0.03958720713853836, 0.039586182683706284, 0.03958582505583763, 0.039585623890161514, 0.03958556428551674, 0.0395854227244854, 0.03958538919687271, 0.039585161954164505, 0.039584849029779434, 0.039584800601005554, 0.039584681391716, 0.03958458453416824, 0.03958434611558914, 0.03958434611558914, 0.03958425298333168, 0.03958403691649437, 0.039583511650562286, 0.039582621306180954, 0.039582446217536926], \"Total\": [499.0, 299.0, 298.0, 298.0, 297.0, 200.0, 200.0, 200.0, 200.0, 199.0, 199.0, 200.0, 198.0, 199.0, 200.0, 199.0, 199.0, 199.0, 199.0, 199.0, 100.0, 100.0, 100.0, 100.0, 100.0, 100.0, 100.0, 100.0, 100.0, 100.0, 100.89459228515625, 100.74769592285156, 100.65036010742188, 100.67497253417969, 200.69427490234375, 100.61216735839844, 200.5137176513672, 200.72113037109375, 100.45235443115234, 100.56673431396484, 100.34378814697266, 100.35425567626953, 100.46912384033203, 100.40988159179688, 100.55560302734375, 100.40963745117188, 200.42726135253906, 100.57279968261719, 499.16326904296875, 200.31553649902344, 100.22291564941406, 200.2924041748047, 100.26817321777344, 100.31809997558594, 100.24072265625, 299.4528503417969, 199.871826171875, 100.32475280761719, 100.3291015625, 100.13317108154297, 199.749755859375, 298.7586364746094, 298.6618347167969, 199.09378051757812, 199.4980010986328, 199.27297973632812, 199.31593322753906, 199.48855590820312, 198.94781494140625, 199.00636291503906, 297.5131530761719, 99.5447006225586, 99.91376495361328, 297.5131530761719, 199.48855590820312, 99.65316772460938, 99.55735778808594, 99.8828353881836, 99.95219421386719, 99.83539581298828, 99.50946044921875, 100.27191162109375, 99.84346008300781, 100.20693969726562, 198.94781494140625, 99.42003631591797, 99.98426055908203, 298.6618347167969, 99.59075927734375, 199.00636291503906, 199.31593322753906, 100.21434020996094, 100.05026245117188, 100.01351165771484, 199.749755859375, 199.4980010986328, 100.29358673095703, 100.19689178466797, 100.23180389404297, 298.7586364746094, 100.07595825195312, 200.72113037109375, 199.27297973632812, 200.31553649902344, 200.2924041748047, 499.16326904296875, 299.4528503417969, 199.871826171875, 199.09378051757812, 200.42726135253906, 200.5137176513672, 200.69427490234375, 99.42003631591797, 99.50946044921875, 99.59075927734375, 99.77993774414062, 199.09378051757812, 99.55735778808594, 297.5131530761719, 100.13317108154297, 99.87720489501953, 99.5447006225586, 100.05501556396484, 199.00636291503906, 99.65316772460938, 199.27297973632812, 100.03534698486328, 298.7586364746094, 100.34378814697266, 299.4528503417969, 100.24072265625, 198.94781494140625, 199.31593322753906, 99.84346008300781, 499.16326904296875, 99.8828353881836, 100.22291564941406, 99.83539581298828, 100.08187103271484, 298.6618347167969, 100.35425567626953, 100.3291015625, 199.4980010986328, 199.871826171875, 199.749755859375, 200.2924041748047, 200.42726135253906, 200.5137176513672, 199.48855590820312, 200.31553649902344, 200.69427490234375, 200.72113037109375, 100.05026245117188, 100.22195434570312, 100.22291564941406, 100.40988159179688, 198.94781494140625, 100.01351165771484, 100.16004180908203, 100.26817321777344, 100.56673431396484, 100.35425567626953, 100.65036010742188, 99.65316772460938, 100.1779556274414, 100.15859985351562, 199.27297973632812, 199.09378051757812, 99.83539581298828, 100.24678039550781, 100.45235443115234, 100.34378814697266, 99.55735778808594, 100.23180389404297, 99.87720489501953, 99.42003631591797, 100.27191162109375, 100.20693969726562, 100.19689178466797, 100.22007751464844, 199.871826171875, 100.07595825195312, 199.00636291503906, 499.16326904296875, 200.72113037109375, 199.4980010986328, 199.48855590820312, 299.4528503417969, 298.6618347167969, 200.31553649902344, 200.5137176513672, 200.69427490234375, 298.7586364746094, 297.5131530761719, 199.749755859375, 200.42726135253906, 199.31593322753906, 200.2924041748047, 99.55735778808594, 100.05026245117188, 100.22007751464844, 99.8828353881836, 100.29358673095703, 99.50946044921875, 100.23180389404297, 99.83539581298828, 99.95219421386719, 100.16004180908203, 100.15859985351562, 100.65036010742188, 100.07595825195312, 100.03534698486328, 100.20693969726562, 100.22195434570312, 99.59075927734375, 100.08187103271484, 100.45235443115234, 100.24072265625, 100.24951934814453, 100.40988159179688, 100.35425567626953, 100.27191162109375, 99.42003631591797, 100.57279968261719, 99.87720489501953, 100.05501556396484, 100.26817321777344, 100.67497253417969, 199.31593322753906, 200.31553649902344, 199.4980010986328, 198.94781494140625, 297.5131530761719, 199.09378051757812, 200.5137176513672, 499.16326904296875, 298.6618347167969, 298.7586364746094, 199.871826171875, 299.4528503417969, 199.00636291503906, 199.749755859375, 200.2924041748047, 200.42726135253906, 199.27297973632812, 200.72113037109375, 200.69427490234375, 199.48855590820312, 99.42003631591797, 100.40988159179688, 100.16004180908203, 99.55735778808594, 99.65316772460938, 100.03534698486328, 100.26817321777344, 100.56673431396484, 100.20693969726562, 99.50946044921875, 100.29358673095703, 100.01351165771484, 100.15859985351562, 99.98426055908203, 100.24951934814453, 100.08187103271484, 100.18301391601562, 100.65036010742188, 100.74769592285156, 100.1779556274414, 100.22291564941406, 100.32475280761719, 99.91376495361328, 100.57279968261719, 100.31809997558594, 100.13317108154297, 99.84346008300781, 99.8828353881836, 100.07595825195312, 99.59075927734375, 100.05026245117188, 499.16326904296875, 298.6618347167969, 200.69427490234375, 199.871826171875, 199.4980010986328, 200.5137176513672, 299.4528503417969, 297.5131530761719, 200.42726135253906, 199.09378051757812, 200.31553649902344, 298.7586364746094, 199.31593322753906, 200.2924041748047, 199.00636291503906, 198.94781494140625, 199.48855590820312, 199.27297973632812, 199.749755859375, 200.72113037109375, 99.50946044921875, 100.22007751464844, 100.35425567626953, 99.98426055908203, 100.3291015625, 100.21434020996094, 99.83539581298828, 100.24951934814453, 100.46912384033203, 100.15859985351562, 99.55735778808594, 99.77993774414062, 100.22291564941406, 100.29358673095703, 100.89459228515625, 100.18301391601562, 100.24678039550781, 99.42003631591797, 100.26817321777344, 100.08187103271484, 100.40963745117188, 100.67497253417969, 100.01351165771484, 99.84346008300781, 99.91376495361328, 100.61216735839844, 100.31809997558594, 99.87720489501953, 100.05026245117188, 100.65036010742188, 100.27191162109375, 499.16326904296875, 199.749755859375, 199.871826171875, 199.00636291503906, 199.09378051757812, 297.5131530761719, 199.31593322753906, 198.94781494140625, 298.6618347167969, 200.42726135253906, 199.27297973632812, 200.31553649902344, 299.4528503417969, 298.7586364746094, 200.2924041748047, 199.4980010986328, 199.48855590820312, 200.69427490234375, 200.5137176513672, 200.72113037109375, 100.24951934814453, 100.35425567626953, 99.55735778808594, 100.29358673095703, 99.98426055908203, 100.45235443115234, 100.26817321777344, 99.5447006225586, 99.50946044921875, 100.24678039550781, 99.59075927734375, 99.77993774414062, 100.03534698486328, 99.87720489501953, 100.67497253417969, 99.8828353881836, 100.40963745117188, 99.95219421386719, 99.84346008300781, 99.83539581298828, 100.46912384033203, 100.08187103271484, 100.19689178466797, 100.24072265625, 100.56673431396484, 100.22195434570312, 99.42003631591797, 100.40988159179688, 100.16004180908203, 100.61216735839844, 100.31809997558594, 499.16326904296875, 199.00636291503906, 200.72113037109375, 298.6618347167969, 298.7586364746094, 199.27297973632812, 200.5137176513672, 200.69427490234375, 198.94781494140625, 199.09378051757812, 199.749755859375, 299.4528503417969, 199.48855590820312, 199.4980010986328, 297.5131530761719, 199.871826171875, 200.2924041748047, 199.31593322753906, 200.42726135253906, 200.31553649902344, 99.55735778808594, 99.50946044921875, 99.77993774414062, 99.5447006225586, 100.22007751464844, 99.42003631591797, 100.03534698486328, 99.65316772460938, 100.21434020996094, 99.95219421386719, 99.83539581298828, 100.26817321777344, 99.87720489501953, 99.8828353881836, 100.24072265625, 99.59075927734375, 99.98426055908203, 100.29358673095703, 100.3291015625, 100.19689178466797, 99.91376495361328, 100.22195434570312, 100.18301391601562, 100.05501556396484, 100.16004180908203, 100.23180389404297, 100.24951934814453, 100.20693969726562, 100.05026245117188, 100.40988159179688, 100.31809997558594, 100.89459228515625, 100.45235443115234, 100.65036010742188, 100.67497253417969, 100.55560302734375, 499.16326904296875, 199.09378051757812, 298.6618347167969, 200.31553649902344, 200.42726135253906, 199.749755859375, 298.7586364746094, 199.27297973632812, 198.94781494140625, 200.69427490234375, 200.2924041748047, 199.871826171875, 299.4528503417969, 297.5131530761719, 200.72113037109375, 199.4980010986328, 199.31593322753906, 199.00636291503906, 200.5137176513672, 199.48855590820312, 99.42003631591797, 99.50946044921875, 99.5447006225586, 99.55735778808594, 99.59075927734375, 99.65316772460938, 99.77993774414062, 99.83539581298828, 99.84346008300781, 99.87720489501953, 99.8828353881836, 99.91376495361328, 99.95219421386719, 99.98426055908203, 100.01351165771484, 100.03534698486328, 100.05026245117188, 100.05501556396484, 100.07595825195312, 100.08187103271484, 100.13317108154297, 100.16004180908203, 100.15859985351562, 100.1779556274414, 100.18301391601562, 100.19689178466797, 100.20693969726562, 100.21434020996094, 100.22007751464844, 100.22195434570312, 100.22291564941406, 100.23180389404297, 100.24951934814453, 100.24072265625, 100.29358673095703, 100.31809997558594, 100.46912384033203, 499.16326904296875, 298.7586364746094, 298.6618347167969, 297.5131530761719, 199.09378051757812, 199.4980010986328, 200.2924041748047, 199.48855590820312, 199.27297973632812, 199.31593322753906, 199.749755859375, 200.31553649902344, 199.00636291503906, 200.42726135253906, 200.72113037109375, 198.94781494140625, 200.69427490234375, 299.4528503417969, 200.5137176513672, 199.871826171875, 100.56673431396484], \"Category\": [\"Default\", \"Default\", \"Default\", \"Default\", \"Default\", \"Default\", \"Default\", \"Default\", \"Default\", \"Default\", \"Default\", \"Default\", \"Default\", \"Default\", \"Default\", \"Default\", \"Default\", \"Default\", \"Default\", \"Default\", \"Default\", \"Default\", \"Default\", \"Default\", \"Default\", \"Default\", \"Default\", \"Default\", \"Default\", \"Default\", \"Topic1\", \"Topic1\", \"Topic1\", \"Topic1\", \"Topic1\", \"Topic1\", \"Topic1\", \"Topic1\", \"Topic1\", \"Topic1\", \"Topic1\", \"Topic1\", \"Topic1\", \"Topic1\", \"Topic1\", \"Topic1\", \"Topic1\", \"Topic1\", \"Topic1\", \"Topic1\", \"Topic1\", \"Topic1\", \"Topic1\", \"Topic1\", \"Topic1\", \"Topic1\", \"Topic1\", \"Topic1\", \"Topic1\", \"Topic1\", \"Topic1\", \"Topic1\", \"Topic1\", \"Topic1\", \"Topic1\", \"Topic1\", \"Topic1\", \"Topic1\", \"Topic1\", \"Topic1\", \"Topic1\", \"Topic2\", \"Topic2\", \"Topic2\", \"Topic2\", \"Topic2\", \"Topic2\", \"Topic2\", \"Topic2\", \"Topic2\", \"Topic2\", \"Topic2\", \"Topic2\", \"Topic2\", \"Topic2\", \"Topic2\", \"Topic2\", \"Topic2\", \"Topic2\", \"Topic2\", \"Topic2\", \"Topic2\", \"Topic2\", \"Topic2\", \"Topic2\", \"Topic2\", \"Topic2\", \"Topic2\", \"Topic2\", \"Topic2\", \"Topic2\", \"Topic2\", \"Topic2\", \"Topic2\", \"Topic2\", \"Topic2\", \"Topic2\", \"Topic2\", \"Topic2\", \"Topic2\", \"Topic2\", \"Topic2\", \"Topic3\", \"Topic3\", \"Topic3\", \"Topic3\", \"Topic3\", \"Topic3\", \"Topic3\", \"Topic3\", \"Topic3\", \"Topic3\", \"Topic3\", \"Topic3\", \"Topic3\", \"Topic3\", \"Topic3\", \"Topic3\", \"Topic3\", \"Topic3\", \"Topic3\", \"Topic3\", \"Topic3\", \"Topic3\", \"Topic3\", \"Topic3\", \"Topic3\", \"Topic3\", \"Topic3\", \"Topic3\", \"Topic3\", \"Topic3\", \"Topic3\", \"Topic3\", \"Topic3\", \"Topic3\", \"Topic3\", \"Topic3\", \"Topic3\", \"Topic3\", \"Topic3\", \"Topic3\", \"Topic4\", \"Topic4\", \"Topic4\", \"Topic4\", \"Topic4\", \"Topic4\", \"Topic4\", \"Topic4\", \"Topic4\", \"Topic4\", \"Topic4\", \"Topic4\", \"Topic4\", \"Topic4\", \"Topic4\", \"Topic4\", \"Topic4\", \"Topic4\", \"Topic4\", \"Topic4\", \"Topic4\", \"Topic4\", \"Topic4\", \"Topic4\", \"Topic4\", \"Topic4\", \"Topic4\", \"Topic4\", \"Topic4\", \"Topic4\", \"Topic4\", \"Topic4\", \"Topic4\", \"Topic4\", \"Topic4\", \"Topic4\", \"Topic4\", \"Topic4\", \"Topic4\", \"Topic4\", \"Topic4\", \"Topic4\", \"Topic4\", \"Topic4\", \"Topic4\", \"Topic4\", \"Topic5\", \"Topic5\", \"Topic5\", \"Topic5\", \"Topic5\", \"Topic5\", \"Topic5\", \"Topic5\", \"Topic5\", \"Topic5\", \"Topic5\", \"Topic5\", \"Topic5\", \"Topic5\", \"Topic5\", \"Topic5\", \"Topic5\", \"Topic5\", \"Topic5\", \"Topic5\", \"Topic5\", \"Topic5\", \"Topic5\", \"Topic5\", \"Topic5\", \"Topic5\", \"Topic5\", \"Topic5\", \"Topic5\", \"Topic5\", \"Topic5\", \"Topic5\", \"Topic5\", \"Topic5\", \"Topic5\", \"Topic5\", \"Topic5\", \"Topic5\", \"Topic5\", \"Topic5\", \"Topic5\", \"Topic5\", \"Topic5\", \"Topic5\", \"Topic5\", \"Topic5\", \"Topic5\", \"Topic5\", \"Topic5\", \"Topic5\", \"Topic6\", \"Topic6\", \"Topic6\", \"Topic6\", \"Topic6\", \"Topic6\", \"Topic6\", \"Topic6\", \"Topic6\", \"Topic6\", \"Topic6\", \"Topic6\", \"Topic6\", \"Topic6\", \"Topic6\", \"Topic6\", \"Topic6\", \"Topic6\", \"Topic6\", \"Topic6\", \"Topic6\", \"Topic6\", \"Topic6\", \"Topic6\", \"Topic6\", \"Topic6\", \"Topic6\", \"Topic6\", \"Topic6\", \"Topic6\", \"Topic6\", \"Topic6\", \"Topic6\", \"Topic6\", \"Topic6\", \"Topic6\", \"Topic6\", \"Topic6\", \"Topic6\", \"Topic6\", \"Topic6\", \"Topic6\", \"Topic6\", \"Topic6\", \"Topic6\", \"Topic6\", \"Topic6\", \"Topic6\", \"Topic6\", \"Topic6\", \"Topic6\", \"Topic7\", \"Topic7\", \"Topic7\", \"Topic7\", \"Topic7\", \"Topic7\", \"Topic7\", \"Topic7\", \"Topic7\", \"Topic7\", \"Topic7\", \"Topic7\", \"Topic7\", \"Topic7\", \"Topic7\", \"Topic7\", \"Topic7\", \"Topic7\", \"Topic7\", \"Topic7\", \"Topic7\", \"Topic7\", \"Topic7\", \"Topic7\", \"Topic7\", \"Topic7\", \"Topic7\", \"Topic7\", \"Topic7\", \"Topic7\", \"Topic7\", \"Topic7\", \"Topic7\", \"Topic7\", \"Topic7\", \"Topic7\", \"Topic7\", \"Topic7\", \"Topic7\", \"Topic7\", \"Topic7\", \"Topic7\", \"Topic7\", \"Topic7\", \"Topic7\", \"Topic7\", \"Topic7\", \"Topic7\", \"Topic7\", \"Topic7\", \"Topic7\", \"Topic8\", \"Topic8\", \"Topic8\", \"Topic8\", \"Topic8\", \"Topic8\", \"Topic8\", \"Topic8\", \"Topic8\", \"Topic8\", \"Topic8\", \"Topic8\", \"Topic8\", \"Topic8\", \"Topic8\", \"Topic8\", \"Topic8\", \"Topic8\", \"Topic8\", \"Topic8\", \"Topic8\", \"Topic8\", \"Topic8\", \"Topic8\", \"Topic8\", \"Topic8\", \"Topic8\", \"Topic8\", \"Topic8\", \"Topic8\", \"Topic8\", \"Topic8\", \"Topic8\", \"Topic8\", \"Topic8\", \"Topic8\", \"Topic8\", \"Topic8\", \"Topic8\", \"Topic8\", \"Topic8\", \"Topic8\", \"Topic8\", \"Topic8\", \"Topic8\", \"Topic8\", \"Topic8\", \"Topic8\", \"Topic8\", \"Topic8\", \"Topic8\", \"Topic9\", \"Topic9\", \"Topic9\", \"Topic9\", \"Topic9\", \"Topic9\", \"Topic9\", \"Topic9\", \"Topic9\", \"Topic9\", \"Topic9\", \"Topic9\", \"Topic9\", \"Topic9\", \"Topic9\", \"Topic9\", \"Topic9\", \"Topic9\", \"Topic9\", \"Topic9\", \"Topic9\", \"Topic9\", \"Topic9\", \"Topic9\", \"Topic9\", \"Topic9\", \"Topic9\", \"Topic9\", \"Topic9\", \"Topic9\", \"Topic9\", \"Topic9\", \"Topic9\", \"Topic9\", \"Topic9\", \"Topic9\", \"Topic9\", \"Topic9\", \"Topic9\", \"Topic9\", \"Topic9\", \"Topic9\", \"Topic9\", \"Topic9\", \"Topic9\", \"Topic9\", \"Topic9\", \"Topic9\", \"Topic9\", \"Topic9\", \"Topic9\", \"Topic9\", \"Topic9\", \"Topic9\", \"Topic9\", \"Topic9\", \"Topic10\", \"Topic10\", \"Topic10\", \"Topic10\", \"Topic10\", \"Topic10\", \"Topic10\", \"Topic10\", \"Topic10\", \"Topic10\", \"Topic10\", \"Topic10\", \"Topic10\", \"Topic10\", \"Topic10\", \"Topic10\", \"Topic10\", \"Topic10\", \"Topic10\", \"Topic10\", \"Topic10\", \"Topic10\", \"Topic10\", \"Topic10\", \"Topic10\", \"Topic10\", \"Topic10\", \"Topic10\", \"Topic10\", \"Topic10\", \"Topic10\", \"Topic10\", \"Topic10\", \"Topic10\", \"Topic10\", \"Topic10\", \"Topic10\", \"Topic10\", \"Topic10\", \"Topic10\", \"Topic10\", \"Topic10\", \"Topic10\", \"Topic10\", \"Topic10\", \"Topic10\", \"Topic10\", \"Topic10\", \"Topic10\", \"Topic10\", \"Topic10\", \"Topic10\", \"Topic10\", \"Topic10\", \"Topic10\", \"Topic10\", \"Topic10\", \"Topic10\"], \"logprob\": [30.0, 29.0, 28.0, 27.0, 26.0, 25.0, 24.0, 23.0, 22.0, 21.0, 20.0, 19.0, 18.0, 17.0, 16.0, 15.0, 14.0, 13.0, 12.0, 11.0, 10.0, 9.0, 8.0, 7.0, 6.0, 5.0, 4.0, 3.0, 2.0, 1.0, -4.4430999755859375, -4.445499897003174, -4.463099956512451, -4.468100070953369, -3.8015999794006348, -4.498199939727783, -3.819499969482422, -3.819700002670288, -4.513199806213379, -4.517399787902832, -4.523200035095215, -4.527599811553955, -4.530700206756592, -4.532400131225586, -4.531300067901611, -4.534200191497803, -3.8431999683380127, -4.536399841308594, -2.93530011177063, -3.863100051879883, -4.5578999519348145, -3.868299961090088, -4.560999870300293, -4.568299770355225, -4.572999954223633, -3.4860000610351562, -3.892899990081787, -4.584199905395508, -4.588099956512451, -4.591100215911865, -3.9567999839782715, -3.5920000076293945, -3.6075000762939453, -3.972599983215332, -3.9714999198913574, -3.9760000705718994, -4.019000053405762, -4.0183000564575195, -4.038700103759766, -4.0416998863220215, -3.761399984359741, -4.25600004196167, -4.314000129699707, -3.2383999824523926, -3.6414999961853027, -4.368500232696533, -4.422100067138672, -4.420000076293945, -4.4222002029418945, -4.43179988861084, -4.441400051116943, -4.435400009155273, -4.440899848937988, -4.439599990844727, -3.76990008354187, -4.465400218963623, -4.467199802398682, -3.38100004196167, -4.481100082397461, -3.7941999435424805, -3.7981998920440674, -4.490099906921387, -4.500899791717529, -4.519100189208984, -3.830899953842163, -3.8369998931884766, -4.542600154876709, -4.547100067138672, -4.5503997802734375, -3.464099884033203, -4.563399791717529, -3.925299882888794, -3.933199882507324, -3.949399948120117, -4.019700050354004, -3.3417999744415283, -3.7370998859405518, -4.023499965667725, -4.077700138092041, -4.082600116729736, -4.119699954986572, -4.123000144958496, -4.289899826049805, -4.321100234985352, -4.346199989318848, -4.349800109863281, -3.6826000213623047, -4.408299922943115, -3.318000078201294, -4.420499801635742, -4.44950008392334, -4.486100196838379, -4.493199825286865, -3.8069000244140625, -4.5030999183654785, -3.811300039291382, -4.502999782562256, -3.419300079345703, -4.515500068664551, -3.4298999309539795, -4.527299880981445, -3.8496999740600586, -3.8547000885009766, -4.546500205993652, -2.942699909210205, -4.5578999519348145, -4.555600166320801, -4.56850004196167, -4.5696001052856445, -3.4865000247955322, -4.599599838256836, -4.608399868011475, -3.9402999877929688, -3.9532999992370605, -3.989500045776367, -4.035200119018555, -4.05210018157959, -4.105000019073486, -4.111800193786621, -4.157400131225586, -4.17710018157959, -4.408299922943115, -4.309199810028076, -4.352799892425537, -4.38700008392334, -4.410099983215332, -3.727400064468384, -4.452099800109863, -4.454500198364258, -4.454100131988525, -4.452199935913086, -4.457600116729736, -4.463500022888184, -4.4766998291015625, -4.475900173187256, -4.482600212097168, -3.805299997329712, -3.8090999126434326, -4.5005998611450195, -4.505799770355225, -4.505000114440918, -4.507900238037109, -4.527200222015381, -4.531799793243408, -4.539700031280518, -4.546199798583984, -4.5381999015808105, -4.5457000732421875, -4.5524001121521, -4.554699897766113, -3.867300033569336, -4.562600135803223, -3.9052000045776367, -3.048799991607666, -3.9042000770568848, -3.9279000759124756, -3.9372000694274902, -3.600100040435791, -3.634500026702881, -4.0100998878479, -4.009699821472168, -4.013500213623047, -3.7616000175476074, -3.8577001094818115, -4.1305999755859375, -4.173699855804443, -4.206500053405762, -4.210299968719482, -4.202300071716309, -4.321700096130371, -4.325500011444092, -4.338799953460693, -4.340000152587891, -4.359099864959717, -4.360199928283691, -4.372799873352051, -4.374199867248535, -4.381100177764893, -4.381800174713135, -4.376999855041504, -4.38539981842041, -4.386099815368652, -4.385200023651123, -4.39109992980957, -4.397600173950195, -4.393599987030029, -4.390500068664551, -4.393099784851074, -4.394199848175049, -4.39300012588501, -4.400599956512451, -4.401500225067139, -4.4131999015808105, -4.402100086212158, -4.4095001220703125, -4.407899856567383, -4.406499862670898, -4.404200077056885, -4.006199836730957, -4.0671000480651855, -4.070300102233887, -4.075900077819824, -3.900700092315674, -4.0995001792907715, -4.116700172424316, -3.779599905014038, -3.9818999767303467, -3.9818999767303467, -4.170000076293945, -4.061699867248535, -4.194900035858154, -4.241700172424316, -4.241399765014648, -4.254899978637695, -4.290999889373779, -4.293000221252441, -4.298900127410889, -4.324999809265137, -4.244800090789795, -4.307600021362305, -4.314799785614014, -4.322999954223633, -4.331900119781494, -4.3308000564575195, -4.332200050354004, -4.331099987030029, -4.3379998207092285, -4.347700119018555, -4.3403000831604, -4.343900203704834, -4.342599868774414, -4.346799850463867, -4.350500106811523, -4.354400157928467, -4.353899955749512, -4.3495001792907715, -4.350200176239014, -4.358500003814697, -4.359499931335449, -4.359499931335449, -4.3649001121521, -4.361800193786621, -4.3643999099731445, -4.369900226593018, -4.374800205230713, -4.38040018081665, -4.378799915313721, -4.38670015335083, -4.382999897003174, -3.7744998931884766, -4.046199798583984, -4.1682000160217285, -4.185800075531006, -4.191699981689453, -4.195300102233887, -4.116399765014648, -4.124000072479248, -4.216899871826172, -4.228499889373779, -4.227799892425537, -4.161099910736084, -4.232800006866455, -4.239299774169922, -4.240600109100342, -4.248700141906738, -4.2652997970581055, -4.289100170135498, -4.298099994659424, -4.313799858093262, -4.31790018081665, -4.321300029754639, -4.325399875640869, -4.32919979095459, -4.333099842071533, -4.338200092315674, -4.342400074005127, -4.339399814605713, -4.340000152587891, -4.346399784088135, -4.353000164031982, -4.351200103759766, -4.347599983215332, -4.347700119018555, -4.350500106811523, -4.358099937438965, -4.360499858856201, -4.369900226593018, -4.361999988555908, -4.365900039672852, -4.363999843597412, -4.362299919128418, -4.3703999519348145, -4.3734002113342285, -4.372799873352051, -4.367700099945068, -4.37060022354126, -4.376399993896484, -4.37470006942749, -4.370100021362305, -4.374199867248535, -3.789599895477295, -4.1331000328063965, -4.1350998878479, -4.154900074005127, -4.19350004196167, -4.1184000968933105, -4.212900161743164, -4.215400218963623, -4.142899990081787, -4.227700233459473, -4.234600067138672, -4.2347002029418945, -4.163099765777588, -4.164700031280518, -4.238900184631348, -4.242800235748291, -4.24429988861084, -4.246300220489502, -4.301499843597412, -4.305500030517578, -4.303599834442139, -4.304900169372559, -4.328400135040283, -4.321899890899658, -4.325500011444092, -4.32450008392334, -4.3267998695373535, -4.334499835968018, -4.337900161743164, -4.330699920654297, -4.338600158691406, -4.337800025939941, -4.335299968719482, -4.340700149536133, -4.3333001136779785, -4.342899799346924, -4.338900089263916, -4.343699932098389, -4.345399856567383, -4.347799777984619, -4.342299938201904, -4.346399784088135, -4.346700191497803, -4.346399784088135, -4.343500137329102, -4.347499847412109, -4.356400012969971, -4.346799850463867, -4.350399971008301, -4.34630012512207, -4.349299907684326, -4.027699947357178, -4.214799880981445, -4.232399940490723, -4.169899940490723, -4.175000190734863, -4.239200115203857, -4.245500087738037, -4.247499942779541, -4.254499912261963, -4.263299942016602, -4.269499778747559, -4.230899810791016, -4.271699905395508, -4.271900177001953, -4.2378997802734375, -4.273799896240234, -4.275000095367432, -4.278200149536133, -4.281700134277344, -4.2820000648498535, -4.314799785614014, -4.320300102233887, -4.319200038909912, -4.322500228881836, -4.316100120544434, -4.324399948120117, -4.318399906158447, -4.322299957275391, -4.31689977645874, -4.320199966430664, -4.322500228881836, -4.31879997253418, -4.322800159454346, -4.323299884796143, -4.319799900054932, -4.326399803161621, -4.322500228881836, -4.319699764251709, -4.319499969482422, -4.321000099182129, -4.323999881744385, -4.321199893951416, -4.321800231933594, -4.323299884796143, -4.322500228881836, -4.321899890899658, -4.321800231933594, -4.322299957275391, -4.3242998123168945, -4.321000099182129, -4.322000026702881, -4.31790018081665, -4.321100234985352, -4.321000099182129, -4.3221001625061035, -4.322400093078613, -4.263700008392334, -4.299600124359131, -4.2881999015808105, -4.302700042724609, -4.303299903869629, -4.303500175476074, -4.2957000732421875, -4.3059000968933105, -4.30620002746582, -4.307499885559082, -4.308800220489502, -4.309500217437744, -4.307300090789795, -4.307400226593018, -4.311399936676025, -4.311800003051758, -4.312600135803223, -4.3130998611450195, -4.314000129699707, -4.315899848937988, -4.317500114440918, -4.317500114440918, -4.317500114440918, -4.317500114440918, -4.317500114440918, -4.317500114440918, -4.317500114440918, -4.317500114440918, -4.317500114440918, -4.317500114440918, -4.317500114440918, -4.317500114440918, -4.317500114440918, -4.317500114440918, -4.317500114440918, -4.317500114440918, -4.317500114440918, -4.317500114440918, -4.317500114440918, -4.317500114440918, -4.317500114440918, -4.317500114440918, -4.317500114440918, -4.317500114440918, -4.317500114440918, -4.317500114440918, -4.317500114440918, -4.317500114440918, -4.317500114440918, -4.317500114440918, -4.317500114440918, -4.317500114440918, -4.317500114440918, -4.317500114440918, -4.317500114440918, -4.317500114440918, -4.317500114440918, -4.317299842834473, -4.317399978637695, -4.317399978637695, -4.317399978637695, -4.317399978637695, -4.317399978637695, -4.317399978637695, -4.317399978637695, -4.317399978637695, -4.317399978637695, -4.317399978637695, -4.317399978637695, -4.317399978637695, -4.317399978637695, -4.317500114440918, -4.317500114440918, -4.317500114440918, -4.317500114440918, -4.317500114440918, -4.317500114440918, -4.317500114440918], \"loglift\": [30.0, 29.0, 28.0, 27.0, 26.0, 25.0, 24.0, 23.0, 22.0, 21.0, 20.0, 19.0, 18.0, 17.0, 16.0, 15.0, 14.0, 13.0, 12.0, 11.0, 10.0, 9.0, 8.0, 7.0, 6.0, 5.0, 4.0, 3.0, 2.0, 1.0, 0.1729000061750412, 0.1720000058412552, 0.15539999306201935, 0.1501999944448471, 0.12680000066757202, 0.12070000171661377, 0.10980000346899033, 0.10849999636411667, 0.10719999670982361, 0.10189999639987946, 0.09830000251531601, 0.09380000084638596, 0.08959999680519104, 0.0885000005364418, 0.08810000121593475, 0.08669999986886978, 0.08649999648332596, 0.0828000009059906, 0.08190000057220459, 0.06710000336170197, 0.06480000168085098, 0.06210000067949295, 0.06129999831318855, 0.05350000038743019, 0.0494999997317791, 0.0421999990940094, 0.03959999978542328, 0.03750000149011612, 0.03359999880194664, 0.032499998807907104, -0.02370000071823597, -0.061500001698732376, -0.07660000026226044, -0.03620000183582306, -0.03720000013709068, -0.04050000011920929, -0.08370000123977661, -0.08389999717473984, -0.10159999877214432, -0.10490000247955322, -0.22669999301433563, 0.3734999895095825, 0.31189998984336853, 0.2962999939918518, 0.2928999960422516, 0.2599000036716461, 0.20730000734329224, 0.2062000036239624, 0.20319999754428864, 0.19480000436306, 0.18850000202655792, 0.1868000030517578, 0.18569999933242798, 0.18330000340938568, 0.1671999990940094, 0.16539999842643738, 0.15800000727176666, 0.14990000426769257, 0.14800000190734863, 0.14259999990463257, 0.13699999451637268, 0.13269999623298645, 0.12349999696016312, 0.10570000112056732, 0.10220000147819519, 0.09740000218153, 0.07940000295639038, 0.07590000331401825, 0.0722000002861023, 0.06639999896287918, 0.06080000102519989, 0.002899999963119626, 0.002199999988079071, -0.019200000911951065, -0.0892999991774559, -0.3246000111103058, -0.20890000462532043, -0.09109999984502792, -0.1412999927997589, -0.15289999544620514, -0.19040000438690186, -0.19460000097751617, 0.3409000039100647, 0.30880001187324524, 0.28290000557899475, 0.2773999869823456, 0.25380000472068787, 0.22110000252723694, 0.2167000025510788, 0.20319999754428864, 0.17669999599456787, 0.14350000023841858, 0.13130000233650208, 0.1298999935388565, 0.12530000507831573, 0.1242000013589859, 0.12160000205039978, 0.1111999973654747, 0.10599999874830246, 0.09830000251531601, 0.09529999643564224, 0.08739999681711197, 0.08060000091791153, 0.08009999990463257, 0.07450000196695328, 0.06830000132322311, 0.06710000336170197, 0.05810000002384186, 0.05460000038146973, 0.04439999908208847, 0.021800000220537186, 0.013299999758601189, -0.005900000222027302, -0.020800000056624413, -0.05640000104904175, -0.10480000078678131, -0.12240000069141388, -0.17569999396800995, -0.17739999294281006, -0.22709999978542328, -0.24879999458789825, -0.47999998927116394, 0.31529998779296875, 0.26989999413490295, 0.23569999635219574, 0.21080000698566437, 0.20970000326633453, 0.17270000278949738, 0.1688999980688095, 0.16820000112056732, 0.1670999974012375, 0.16380000114440918, 0.15489999949932098, 0.1517000049352646, 0.14730000495910645, 0.14079999923706055, 0.13009999692440033, 0.12720000743865967, 0.12600000202655792, 0.11670000106096268, 0.11540000140666962, 0.1137000024318695, 0.10220000147819519, 0.0908999964594841, 0.08649999648332596, 0.08460000157356262, 0.08410000056028366, 0.07720000296831131, 0.0706000030040741, 0.06800000369548798, 0.06520000100135803, 0.06159999966621399, 0.031599998474121094, -0.031599998474121094, 0.024000000208616257, 0.006500000134110451, -0.002899999963119626, -0.07190000265836716, -0.10369999706745148, -0.07980000227689743, -0.0803999975323677, -0.08510000258684158, -0.23109999299049377, -0.3230000138282776, -0.19750000536441803, -0.24410000443458557, -0.2712000012397766, -0.2799000144004822, 0.4271000027656555, 0.3027999997138977, 0.2971999943256378, 0.2874000072479248, 0.28200000524520874, 0.27079999446868896, 0.26249998807907104, 0.25380000472068787, 0.25119999051094055, 0.24230000376701355, 0.24150000512599945, 0.24150000512599945, 0.23880000412464142, 0.23849999904632568, 0.23770000040531158, 0.23170000314712524, 0.23149999976158142, 0.2304999977350235, 0.23000000417232513, 0.22949999570846558, 0.22830000519752502, 0.22789999842643738, 0.22089999914169312, 0.2207999974489212, 0.2175000011920929, 0.21709999442100525, 0.2167000025510788, 0.21649999916553497, 0.21580000221729279, 0.21400000154972076, -0.07100000232458115, -0.13689999282360077, -0.13590000569820404, -0.1387999951839447, -0.366100013256073, -0.163100004196167, -0.1875, -0.7623999714851379, -0.45100000500679016, -0.4512999951839447, -0.23759999871253967, -0.5335000157356262, -0.2581000030040741, -0.3086000084877014, -0.3111000061035156, -0.32519999146461487, -0.3555000126361847, -0.36480000615119934, -0.37059998512268066, -0.3905999958515167, 0.38600000739097595, 0.3133000135421753, 0.3084999918937683, 0.30640000104904175, 0.29649999737739563, 0.2939000129699707, 0.29010000824928284, 0.2881999909877777, 0.2849000096321106, 0.28220000863075256, 0.2816999852657318, 0.2809999883174896, 0.2808000147342682, 0.2784000039100647, 0.2720000147819519, 0.26969999074935913, 0.26919999718666077, 0.26899999380111694, 0.26739999651908875, 0.2646999955177307, 0.26330000162124634, 0.2621999979019165, 0.26089999079704285, 0.2574999928474426, 0.2574000060558319, 0.25369998812675476, 0.251800000667572, 0.24570000171661377, 0.24539999663829803, 0.24240000545978546, 0.24140000343322754, -0.7573000192642212, -0.5153999924659729, -0.23989999294281006, -0.2533000111579895, -0.2574000060558319, -0.26600000262260437, -0.5881999731063843, -0.5892999768257141, -0.287200003862381, -0.2921000123023987, -0.29760000109672546, -0.6305999755859375, -0.29750001430511475, -0.30889999866485596, -0.3037000000476837, -0.311599999666214, -0.33090001344680786, -0.35359999537467957, -0.36500000953674316, -0.3856000006198883, 0.31200000643730164, 0.30140000581741333, 0.29600000381469727, 0.29589998722076416, 0.28859999775886536, 0.2847000062465668, 0.2842000126838684, 0.28299999237060547, 0.2802000045776367, 0.2770000100135803, 0.27639999985694885, 0.2759999930858612, 0.2752000093460083, 0.274399995803833, 0.2655999958515167, 0.26510000228881836, 0.2619999945163727, 0.26089999079704285, 0.26030001044273376, 0.2583000063896179, 0.25690001249313354, 0.25589999556541443, 0.25440001487731934, 0.2531999945640564, 0.2529999911785126, 0.25119999051094055, 0.25119999051094055, 0.24979999661445618, 0.24969999492168427, 0.2484000027179718, 0.24809999763965607, -0.7724000215530396, -0.20010000467300415, -0.20270000398159027, -0.21809999644756317, -0.257099986076355, -0.5837000012397766, -0.2775999903678894, -0.2782999873161316, -0.6121000051498413, -0.2980000078678131, -0.29910001158714294, -0.3043999969959259, -0.6348999738693237, -0.6341999769210815, -0.3084999918937683, -0.3084999918937683, -0.3100000023841858, -0.31790000200271606, -0.37220001220703125, -0.3772999942302704, 0.3188999891281128, 0.3165000081062317, 0.3009999990463257, 0.3001999855041504, 0.2996000051498413, 0.29589998722076416, 0.2955000102519989, 0.29499998688697815, 0.2919999957084656, 0.29179999232292175, 0.2904999852180481, 0.28940001130104065, 0.28929999470710754, 0.2854999899864197, 0.2849999964237213, 0.2831999957561493, 0.28200000524520874, 0.2818000018596649, 0.28110000491142273, 0.27880001068115234, 0.27799999713897705, 0.2777999937534332, 0.27630001306533813, 0.27619999647140503, 0.2757999897003174, 0.275299996137619, 0.274399995803833, 0.27410000562667847, 0.2728999853134155, 0.272599995136261, 0.27250000834465027, -1.0104000568389893, -0.27799999713897705, -0.3041999936103821, -0.6391000151634216, -0.6445000171661377, -0.30379998683929443, -0.31630000472068787, -0.3192000091075897, -0.3174000084400177, -0.32690000534057617, -0.33640000224113464, -0.7027000188827515, -0.33739998936653137, -0.3375999927520752, -0.7031999826431274, -0.34130001068115234, -0.34459999203681946, -0.34299999475479126, -0.35199999809265137, -0.35179999470710754, 0.31459999084472656, 0.30959999561309814, 0.30799999833106995, 0.3070000112056732, 0.30660000443458557, 0.30640000104904175, 0.3061999976634979, 0.3061000108718872, 0.3059000074863434, 0.3052000105381012, 0.3041999936103821, 0.3034000098705292, 0.3034000098705292, 0.3028999865055084, 0.3027999997138977, 0.302700012922287, 0.3025999963283539, 0.30239999294281006, 0.30219998955726624, 0.3019999861717224, 0.3018999993801117, 0.30160000920295715, 0.3012999892234802, 0.3010999858379364, 0.30079999566078186, 0.30079999566078186, 0.30070000886917114, 0.30059999227523804, 0.3001999855041504, 0.29989999532699585, 0.29980000853538513, 0.29820001125335693, 0.2992999851703644, 0.29750001430511475, 0.2962000072002411, 0.2971000075340271, -1.246500015258789, -0.36320000886917114, -0.7573999762535095, -0.3723999857902527, -0.3736000061035156, -0.37040001153945923, -0.7652000188827515, -0.37049999833106995, -0.36910000443458557, -0.3790999948978424, -0.3783999979496002, -0.37700000405311584, -0.7791000008583069, -0.7727000117301941, -0.3831999897956848, -0.3774999976158142, -0.3774000108242035, -0.37630000710487366, -0.3847000002861023, -0.3815000057220459, 0.3133000135421753, 0.3124000132083893, 0.31200000643730164, 0.31189998984336853, 0.311599999666214, 0.3109999895095825, 0.30970001220703125, 0.3091000020503998, 0.3089999854564667, 0.30869999527931213, 0.3086000084877014, 0.3082999885082245, 0.30799999833106995, 0.3075999915599823, 0.30730000138282776, 0.30709999799728394, 0.3068999946117401, 0.3068999946117401, 0.3066999912261963, 0.30660000443458557, 0.3061999976634979, 0.3059000074863434, 0.3059000074863434, 0.30570000410079956, 0.30559998750686646, 0.30550000071525574, 0.305400013923645, 0.3052999973297119, 0.3052999973297119, 0.3052000105381012, 0.3052000105381012, 0.3052000105381012, 0.3050000071525574, 0.3050999939441681, 0.304500013589859, 0.3043000102043152, 0.3027999997138977, -1.3000999689102173, -0.786899983882904, -0.7864999771118164, -0.7827000021934509, -0.38100001215934753, -0.3831000030040741, -0.3871000111103058, -0.382999986410141, -0.38199999928474426, -0.3822000026702881, -0.38440001010894775, -0.3871999979019165, -0.3806000053882599, -0.387800008058548, -0.38920000195503235, -0.38040000200271606, -0.38909998536109924, -0.7893000245094299, -0.3882000148296356, -0.38499999046325684, 0.301800012588501]}, \"token.table\": {\"Topic\": [1, 2, 3, 1, 2, 3, 1, 2, 3, 1, 2, 3, 1, 2, 3, 1, 2, 3, 1, 2, 3, 1, 2, 3, 1, 2, 3, 1, 2, 3, 1, 2, 3, 1, 2, 3, 1, 2, 3, 1, 2, 3, 1, 2, 3, 1, 2, 3, 1, 2, 3, 1, 2, 3, 1, 2, 3, 1, 2, 3, 1, 2, 3, 1, 2, 3, 1, 2, 3, 1, 2, 3, 1, 2, 3, 1, 2, 3, 1, 2, 3, 1, 2, 3, 1, 2, 3, 1, 2, 3, 1, 2, 3, 1, 2, 3, 1, 2, 3, 1, 2, 3, 1, 2, 3, 1, 2, 3, 1, 2, 3, 1, 2, 3, 1, 2, 3, 1, 2, 3, 1, 2, 3, 1, 2, 3, 1, 2, 3, 1, 2, 3, 1, 2, 3, 1, 2, 3, 1, 2, 3, 1, 2, 3, 1, 2, 3, 1, 2, 3, 1, 2, 3, 1, 2, 3, 1, 2, 3, 1, 2, 3, 1, 2, 3, 1, 2, 3, 1, 2, 3, 1, 2, 3, 1, 2, 3, 1, 2, 3, 1, 2, 3, 1, 2, 3, 1, 2, 3, 1, 2, 3, 1, 2, 3, 1, 2, 3, 1, 2, 3, 1, 2, 3, 1, 2, 3, 1, 2, 3, 1, 2, 3, 1, 2, 3, 1, 2, 3, 1, 2, 3, 1, 2, 3], \"Freq\": [0.6177934408187866, 0.183668315410614, 0.19702601432800293, 0.6726649403572083, 0.18436001241207123, 0.139515683054924, 0.6079990863800049, 0.1993439495563507, 0.17940956354141235, 0.578802227973938, 0.2694424092769623, 0.13971088826656342, 0.555632472038269, 0.24099721014499664, 0.1974838376045227, 0.5308738350868225, 0.2804616391658783, 0.19031326472759247, 0.6562806367874146, 0.21876020729541779, 0.11932375282049179, 0.6464085578918457, 0.20883968472480774, 0.13922645151615143, 0.5884000658988953, 0.26926782727241516, 0.12964747846126556, 0.5797086358070374, 0.25986939668655396, 0.1599196195602417, 0.4823662042617798, 0.27133098244667053, 0.2411831021308899, 0.5699229836463928, 0.24996621906757355, 0.179975688457489, 0.5888406038284302, 0.24950873851776123, 0.15968559682369232, 0.5725944638252258, 0.19588758051395416, 0.2310469001531601, 0.5889222025871277, 0.21959809958934784, 0.17967118322849274, 0.5797950625419617, 0.2099258005619049, 0.19992932677268982, 0.6577387452125549, 0.14948607981204987, 0.19931477308273315, 0.598612368106842, 0.23944495618343353, 0.1596299707889557, 0.5463972687721252, 0.3057819604873657, 0.1503845602273941, 0.4621039628982544, 0.3315093517303467, 0.20091477036476135, 0.5402582883834839, 0.2801339328289032, 0.18008609116077423, 0.49201351404190063, 0.2610684037208557, 0.24098621308803558, 0.6576288342475891, 0.2291736751794815, 0.10960480570793152, 0.5990412831306458, 0.21964846551418304, 0.17971238493919373, 0.633999764919281, 0.22464558482170105, 0.1397794783115387, 0.530830979347229, 0.2704233229160309, 0.19029788672924042, 0.6084983348846436, 0.2294338047504425, 0.15960612893104553, 0.5757203698158264, 0.2503131926059723, 0.17021296918392181, 0.5326462984085083, 0.26129817962646484, 0.20099860429763794, 0.5890657305717468, 0.23961997032165527, 0.16973081231117249, 0.5017402172088623, 0.2910093069076538, 0.20069608092308044, 0.5411909818649292, 0.22048521041870117, 0.2305072546005249, 0.6290802955627441, 0.20969341695308685, 0.15976642072200775, 0.6583091020584106, 0.1895132213830948, 0.14961570501327515, 0.6473482251167297, 0.1693064570426941, 0.17926566302776337, 0.6659234166145325, 0.1888439655303955, 0.13914817571640015, 0.6570279002189636, 0.16923445463180542, 0.16923445463180542, 0.6283150315284729, 0.18949183821678162, 0.17951858043670654, 0.4705674350261688, 0.30586883425712585, 0.22183893620967865, 0.6954768896102905, 0.15896615386009216, 0.14903075993061066, 0.578759491443634, 0.25944390892982483, 0.1596577912569046, 0.5306217074394226, 0.2803284525871277, 0.1902228742837906, 0.5670613050460815, 0.2258208841085434, 0.20072966814041138, 0.5795598030090332, 0.23981784284114838, 0.17986337840557098, 0.6091887354850769, 0.1697739064693451, 0.2197074145078659, 0.6086490750312805, 0.22949063777923584, 0.1596456617116928, 0.5889519453048706, 0.239573672413826, 0.15971577167510986, 0.6153944134712219, 0.20513145625591278, 0.17511221766471863, 0.6179930567741394, 0.21928785741329193, 0.16944970190525055, 0.6469649076461792, 0.1891128271818161, 0.15925291180610657, 0.4921785891056061, 0.2812449038028717, 0.22097814083099365, 0.5506762266159058, 0.2302827686071396, 0.21025818586349487, 0.5500865578651428, 0.2700425088405609, 0.18002833425998688, 0.6462979912757874, 0.21874701976776123, 0.1292596012353897, 0.6285987496376038, 0.16962188482284546, 0.1895774006843567, 0.48280006647109985, 0.27157503366470337, 0.25145837664604187, 0.6430761814117432, 0.1642749011516571, 0.19232183694839478, 0.5796810984611511, 0.21987903118133545, 0.19989003241062164, 0.6280023455619812, 0.19936582446098328, 0.1694609373807907, 0.5204488039016724, 0.3102675676345825, 0.17014673352241516, 0.5491160154342651, 0.26451319456100464, 0.18750303983688354, 0.6084817051887512, 0.21945242583751678, 0.16957686841487885, 0.6853739023208618, 0.1589272916316986, 0.1489943265914917, 0.5714343190193176, 0.2506290674209595, 0.17544035613536835, 0.6185110807418823, 0.17956773936748505, 0.19951970875263214, 0.5328030586242676, 0.2664015293121338, 0.19603130221366882, 0.5795255303382874, 0.22981184720993042, 0.18984457850456238, 0.5986824631690979, 0.22949492931365967, 0.15964864194393158, 0.704730749130249, 0.12903520464897156, 0.15881256759166718, 0.5468704700469971, 0.2608923316001892, 0.19065208733081818, 0.643625020980835, 0.19458431005477905, 0.15965892374515533, 0.6473466157913208, 0.19918358325958252, 0.1493876874446869, 0.7037047147750854, 0.17840401828289032, 0.10902467370033264, 0.5982436537742615, 0.24926818907260895, 0.14956091344356537, 0.6477054953575134, 0.1594351977109909, 0.17936459183692932], \"Term\": [\"a\", \"a\", \"a\", \"acting\", \"acting\", \"acting\", \"all\", \"all\", \"all\", \"am\", \"am\", \"am\", \"and\", \"and\", \"and\", \"as\", \"as\", \"as\", \"best\", \"best\", \"best\", \"but\", \"but\", \"but\", \"cellphones\", \"cellphones\", \"cellphones\", \"close\", \"close\", \"close\", \"compelling\", \"compelling\", \"compelling\", \"confident\", \"confident\", \"confident\", \"curtains\", \"curtains\", \"curtains\", \"damn\", \"damn\", \"damn\", \"dark\", \"dark\", \"dark\", \"deep\", \"deep\", \"deep\", \"did\", \"did\", \"did\", \"disturb\", \"disturb\", \"disturb\", \"do\", \"do\", \"do\", \"door\", \"door\", \"door\", \"enjoy\", \"enjoy\", \"enjoy\", \"experience\", \"experience\", \"experience\", \"for\", \"for\", \"for\", \"forget\", \"forget\", \"forget\", \"get\", \"get\", \"get\", \"gladiator\", \"gladiator\", \"gladiator\", \"hand\", \"hand\", \"hand\", \"he\", \"he\", \"he\", \"i\", \"i\", \"i\", \"in\", \"in\", \"in\", \"interesting\", \"interesting\", \"interesting\", \"is\", \"is\", \"is\", \"it\", \"it\", \"it\", \"joaquin\", \"joaquin\", \"joaquin\", \"joker\", \"joker\", \"joker\", \"keeps\", \"keeps\", \"keeps\", \"mention\", \"mention\", \"mention\", \"missed\", \"missed\", \"missed\", \"movie\", \"movie\", \"movie\", \"niro\", \"niro\", \"niro\", \"not\", \"not\", \"not\", \"of\", \"of\", \"of\", \"on\", \"on\", \"on\", \"oscar\", \"oscar\", \"oscar\", \"plot\", \"plot\", \"plot\", \"put\", \"put\", \"put\", \"quite\", \"quite\", \"quite\", \"really\", \"really\", \"really\", \"s\", \"s\", \"s\", \"sad\", \"sad\", \"sad\", \"sign\", \"sign\", \"sign\", \"star\", \"star\", \"star\", \"storyline\", \"storyline\", \"storyline\", \"suspense\", \"suspense\", \"suspense\", \"teach\", \"teach\", \"teach\", \"that\", \"that\", \"that\", \"the\", \"the\", \"the\", \"this\", \"this\", \"this\", \"thriller\", \"thriller\", \"thriller\", \"time\", \"time\", \"time\", \"to\", \"to\", \"to\", \"toes\", \"toes\", \"toes\", \"turn\", \"turn\", \"turn\", \"u\", \"u\", \"u\", \"unpredictable\", \"unpredictable\", \"unpredictable\", \"ur\", \"ur\", \"ur\", \"very\", \"very\", \"very\", \"villain\", \"villain\", \"villain\", \"was\", \"was\", \"was\", \"what\", \"what\", \"what\", \"will\", \"will\", \"will\", \"win\", \"win\", \"win\", \"wine\", \"wine\", \"wine\", \"you\", \"you\", \"you\", \"your\", \"your\", \"your\"]}, \"R\": 30, \"lambda.step\": 0.01, \"plot.opts\": {\"xlab\": \"PC1\", \"ylab\": \"PC2\"}, \"topic.order\": [10, 3, 8, 7, 2, 4, 6, 9, 1, 5]};\n",
              "\n",
              "function LDAvis_load_lib(url, callback){\n",
              "  var s = document.createElement('script');\n",
              "  s.src = url;\n",
              "  s.async = true;\n",
              "  s.onreadystatechange = s.onload = callback;\n",
              "  s.onerror = function(){console.warn(\"failed to load library \" + url);};\n",
              "  document.getElementsByTagName(\"head\")[0].appendChild(s);\n",
              "}\n",
              "\n",
              "if(typeof(LDAvis) !== \"undefined\"){\n",
              "   // already loaded: just create the visualization\n",
              "   !function(LDAvis){\n",
              "       new LDAvis(\"#\" + \"ldavis_el122140175875595264832810359\", ldavis_el122140175875595264832810359_data);\n",
              "   }(LDAvis);\n",
              "}else if(typeof define === \"function\" && define.amd){\n",
              "   // require.js is available: use it to load d3/LDAvis\n",
              "   require.config({paths: {d3: \"https://cdnjs.cloudflare.com/ajax/libs/d3/3.5.5/d3.min\"}});\n",
              "   require([\"d3\"], function(d3){\n",
              "      window.d3 = d3;\n",
              "      LDAvis_load_lib(\"https://cdn.rawgit.com/bmabey/pyLDAvis/files/ldavis.v1.0.0.js\", function(){\n",
              "        new LDAvis(\"#\" + \"ldavis_el122140175875595264832810359\", ldavis_el122140175875595264832810359_data);\n",
              "      });\n",
              "    });\n",
              "}else{\n",
              "    // require.js not available: dynamically load d3 & LDAvis\n",
              "    LDAvis_load_lib(\"https://cdnjs.cloudflare.com/ajax/libs/d3/3.5.5/d3.min.js\", function(){\n",
              "         LDAvis_load_lib(\"https://cdn.rawgit.com/bmabey/pyLDAvis/files/ldavis.v1.0.0.js\", function(){\n",
              "                 new LDAvis(\"#\" + \"ldavis_el122140175875595264832810359\", ldavis_el122140175875595264832810359_data);\n",
              "            })\n",
              "         });\n",
              "}\n",
              "</script>"
            ],
            "text/plain": [
              "PreparedData(topic_coordinates=              x         y  topics  cluster       Freq\n",
              "topic                                                \n",
              "9     -0.010434 -0.004409       1        1  59.201004\n",
              "2     -0.013029  0.004766       2        1  22.697577\n",
              "7     -0.015384 -0.000222       3        1  17.795877\n",
              "6     -0.006725 -0.001109       4        1   0.083723\n",
              "1      0.002272  0.001688       5        1   0.042212\n",
              "3      0.004689 -0.000709       6        1   0.040418\n",
              "5      0.004756 -0.000395       7        1   0.040407\n",
              "8      0.007775 -0.000267       8        1   0.038049\n",
              "0      0.012505  0.000215       9        1   0.031634\n",
              "4      0.013576  0.000441      10        1   0.029105, topic_info=       Term        Freq       Total Category  logprob  loglift\n",
              "56      the  499.000000  499.000000  Default  30.0000  30.0000\n",
              "0         a  299.000000  299.000000  Default  29.0000  29.0000\n",
              "60       to  298.000000  298.000000  Default  28.0000  28.0000\n",
              "4       and  298.000000  298.000000  Default  27.0000  27.0000\n",
              "38    movie  297.000000  297.000000  Default  26.0000  26.0000\n",
              "..      ...         ...         ...      ...      ...      ...\n",
              "1    acting    0.039584  200.694275  Topic10  -4.3175  -0.3891\n",
              "0         a    0.039584  299.452850  Topic10  -4.3175  -0.7893\n",
              "33  joaquin    0.039584  200.513718  Topic10  -4.3175  -0.3882\n",
              "47   really    0.039583  199.871826  Topic10  -4.3175  -0.3850\n",
              "6      best    0.039582  100.566734  Topic10  -4.3175   0.3018\n",
              "\n",
              "[515 rows x 6 columns], token_table=      Topic      Freq    Term\n",
              "term                         \n",
              "0         1  0.617793       a\n",
              "0         2  0.183668       a\n",
              "0         3  0.197026       a\n",
              "1         1  0.672665  acting\n",
              "1         2  0.184360  acting\n",
              "...     ...       ...     ...\n",
              "73        2  0.249268     you\n",
              "73        3  0.149561     you\n",
              "74        1  0.647705    your\n",
              "74        2  0.159435    your\n",
              "74        3  0.179365    your\n",
              "\n",
              "[225 rows x 3 columns], R=30, lambda_step=0.01, plot_opts={'xlab': 'PC1', 'ylab': 'PC2'}, topic_order=[10, 3, 8, 7, 2, 4, 6, 9, 1, 5])"
            ]
          },
          "metadata": {
            "tags": []
          },
          "execution_count": 81
        }
      ]
    },
    {
      "cell_type": "markdown",
      "metadata": {
        "id": "SXu8qeWT5can",
        "colab_type": "text"
      },
      "source": [
        "Topic 1"
      ]
    },
    {
      "cell_type": "markdown",
      "metadata": {
        "id": "AfpMRCrRwN6Z",
        "colab_type": "text"
      },
      "source": [
        "# **Question 2: Sentiment Analysis**"
      ]
    },
    {
      "cell_type": "markdown",
      "metadata": {
        "id": "1dCQEbDawWCw",
        "colab_type": "text"
      },
      "source": [
        "(30 points). Sentiment analysis also known as opinion mining is a sub field within Natural Language Processing (NLP) that builds machine learning algorithms to classify a text according to the sentimental polarities of opinions it contains, e.g., positive, negative, neutral. The purpose of this question is to develop a machine learning classifier for sentiment analysis. Based on the dataset from assignment three, write a python program to implement a sentiment classifier and evaluate its performance. Notice: **80% data for training and 20% data for testing**.  \n",
        "\n",
        "(1) Features used for sentiment classification and explain why you select these features.\n",
        "\n",
        "(2) Select two of the supervised learning algorithm from scikit-learn library: https://scikit-learn.org/stable/supervised_learning.html#supervised-learning, to build a sentiment classifier respectively. \n",
        "\n",
        "(3) Compare the performance over accuracy, precision, recall, and F1 score for the two algorithms you selected. Here is the reference of how to calculate these metrics: https://towardsdatascience.com/accuracy-precision-recall-or-f1-331fb37c5cb9. "
      ]
    },
    {
      "cell_type": "code",
      "metadata": {
        "id": "vATjQNTY8buA",
        "colab_type": "code",
        "colab": {}
      },
      "source": [
        "# Write your code here\n",
        "\n",
        "\n",
        "\n"
      ],
      "execution_count": 0,
      "outputs": []
    },
    {
      "cell_type": "markdown",
      "metadata": {
        "id": "E5mmYIfN8eYV",
        "colab_type": "text"
      },
      "source": [
        "# **Question 3: House price prediction**"
      ]
    },
    {
      "cell_type": "markdown",
      "metadata": {
        "id": "hsi2y4z88ngX",
        "colab_type": "text"
      },
      "source": [
        "(40 points). You are required to build a **regression** model to predict the house price with 79 explanatory variables describing (almost) every aspect of residential homes. The purpose of this question is to practice regression analysis, an supervised learning model. The training data, testing data, and data description files can be download here: https://github.com/unt-iialab/INFO5731_Spring2020/blob/master/Assignments/assignment4-question3-data.zip. Here is an axample for implementation: https://towardsdatascience.com/linear-regression-in-python-predict-the-bay-areas-home-price-5c91c8378878. \n"
      ]
    },
    {
      "cell_type": "code",
      "metadata": {
        "id": "XfvMKJjIXS5G",
        "colab_type": "code",
        "colab": {}
      },
      "source": [
        "# Write your code here"
      ],
      "execution_count": 0,
      "outputs": []
    }
  ]
}