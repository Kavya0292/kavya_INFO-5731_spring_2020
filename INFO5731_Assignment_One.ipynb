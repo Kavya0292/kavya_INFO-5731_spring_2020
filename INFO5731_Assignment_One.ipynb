{
  "nbformat": 4,
  "nbformat_minor": 0,
  "metadata": {
    "colab": {
      "name": " INFO5731_Assignment_One.ipynb",
      "provenance": [],
      "collapsed_sections": [],
      "include_colab_link": true
    },
    "kernelspec": {
      "name": "python3",
      "display_name": "Python 3"
    }
  },
  "cells": [
    {
      "cell_type": "markdown",
      "metadata": {
        "id": "view-in-github",
        "colab_type": "text"
      },
      "source": [
        "<a href=\"https://colab.research.google.com/github/kavyaperavali/kavya_INFO-5731_spring_2020/blob/master/INFO5731_Assignment_One.ipynb\" target=\"_parent\"><img src=\"https://colab.research.google.com/assets/colab-badge.svg\" alt=\"Open In Colab\"/></a>"
      ]
    },
    {
      "cell_type": "markdown",
      "metadata": {
        "id": "Ryk8D1Q4Wsrp",
        "colab_type": "text"
      },
      "source": [
        "# **INFO5731 Assignment One**"
      ]
    },
    {
      "cell_type": "markdown",
      "metadata": {
        "id": "90_NR8c5XGWc",
        "colab_type": "text"
      },
      "source": [
        "# Question 1\n",
        "\n",
        "(20 points). Write a Python program to generate 12 random numbers between 1 and 100. Sort the list of numbers in ascending order and print it out. Sort the list of numbers in descending order and print it out. Calculate the average for the group and print it out."
      ]
    },
    {
      "cell_type": "code",
      "metadata": {
        "id": "5QX6bJjGWXY9",
        "colab_type": "code",
        "outputId": "747e1c82-45a1-44a7-84d4-6c740f49d33a",
        "colab": {
          "base_uri": "https://localhost:8080/",
          "height": 138
        }
      },
      "source": [
        "# Your code here\n",
        "import random\n",
        "random_numbers = random.sample(range(1, 100), 12) \n",
        "print (\"Generating 12 Random numbers between 1 and 100 are : \" +  str(random_numbers))    # printing 12 random numbers generated between 1 and 100\n",
        "print(\"--------------------------------------------------------------------------------------------------\")\n",
        "random_numbers.sort()                                                           \n",
        "print(\"Arranging the numbers in ascending order: \" + str(random_numbers))                 # printing the generated numbers in ascending order\n",
        "print(\"--------------------------------------------------------------------------------------------\")\n",
        "random_numbers.sort(reverse = True)  \n",
        "print(\"Arranging the numbers in descending order: \" + str(random_numbers))                # printing the generated numbers in descending order\n",
        "print(\"-------------------------------------------------------------------------------------------\")\n",
        "def Average(random_numbers): \n",
        "    return sum(random_numbers) / len(random_numbers)     \n",
        "average = Average(random_numbers) \n",
        "print(\"Average of all the random numbers generated =\", round(average, 12))                # printing the average of generated random numbers."
      ],
      "execution_count": 0,
      "outputs": [
        {
          "output_type": "stream",
          "text": [
            "Generating 12 Random numbers between 1 and 100 are : [42, 71, 76, 86, 53, 88, 89, 21, 98, 62, 25, 73]\n",
            "--------------------------------------------------------------------------------------------------\n",
            "Arranging the numbers in ascending order: [21, 25, 42, 53, 62, 71, 73, 76, 86, 88, 89, 98]\n",
            "--------------------------------------------------------------------------------------------\n",
            "Arranging the numbers in descending order: [98, 89, 88, 86, 76, 73, 71, 62, 53, 42, 25, 21]\n",
            "-------------------------------------------------------------------------------------------\n",
            "Average of all the random numbers generated = 65.333333333333\n"
          ],
          "name": "stdout"
        }
      ]
    },
    {
      "cell_type": "markdown",
      "metadata": {
        "id": "1F_PZdH9Sh49",
        "colab_type": "text"
      },
      "source": [
        "# Question 2\n",
        "(25 points). Write a program that will do the following string formatting tasks:\n",
        "\n",
        "(1) Ask the user to enter two sentences.\n",
        "\n",
        "(2) Make each sentence into a list. Each element in the list should correspond to a word in the sentence. For example, if the sentence is \"Alas! Am I alive? This is my first python program\", the program should print out ['Alas, '!', 'Am', 'I', 'alive, '?', 'This', 'is', 'my', 'first', 'python', 'program'].\n",
        "\n",
        "(3) Compare the two sentences. Print out a list of words that occur in both sentences.\n",
        "\n",
        "(4) Remove any punctuation from the sentence and print it back out. It should remove at least the following characters, but it can remove more: period(“.”), comma (“,”), semicolon (“;”), and colon (“:”)\n",
        "\n",
        "(5) Count the number of vowels in the sentences. Print out each vowel and the number of times it appears in the sentences, such as: a:2, e:1, i:0, etc"
      ]
    },
    {
      "cell_type": "code",
      "metadata": {
        "id": "Y0oOSlsOS0cq",
        "colab_type": "code",
        "outputId": "afe23d16-ec1b-4767-cee8-2c80bfb7eede",
        "colab": {
          "base_uri": "https://localhost:8080/",
          "height": 381
        }
      },
      "source": [
        "# Your code here\n",
        "\n",
        "#Question_2.1:\n",
        "\n",
        "sentence_1 = input(\"Enter the first sentence: \") \n",
        "print(sentence_1)\n",
        "print(\"---------------------------------------------------------------------------------------------------\")\n",
        "\n",
        "sentence_2 = input(\"Enter the second sentence: \") \n",
        "print(sentence_2) \n",
        "print(\"----------------------------------------------------------------------------------------------------\")\n",
        "\n",
        "#Question_2.2\n",
        "\n",
        "word_list_1 = sentence_1.split()\n",
        "print(\"splitting first sentence into list of words: \" + str(word_list_1))\n",
        "print(\"----------------------------------------------------------------------------------------------------\")\n",
        "\n",
        "word_list_2 = sentence_2.split()\n",
        "print(\"splitting second sentence into list of words: \" + str(word_list_2))\n",
        "print(\"----------------------------------------------------------------------------------------------------\")\n",
        "\n",
        "#Question_2.3\n",
        "\n",
        "list_of_words_that_occur_in_both_sentences = set(word_list_1)&set(word_list_2) \n",
        "print(\"list of words that occur in both the sentences:\" + str(list_of_words_that_occur_in_both_sentences))\n",
        "print(\"----------------------------------------------------------------------------------------------------\")\n",
        "\n",
        "#Question_2.4\n",
        "\n",
        "punctuation = '''!()-[]{};:'\"\\,<>./?@#$%^&*_~'''\n",
        "no_punctuation_for_sentence_1 = \"\"\n",
        "for char in sentence_1:\n",
        "   if char not in punctuation:\n",
        "      no_punctuation_for_sentence_1 = no_punctuation_for_sentence_1 + char\n",
        "print(\"First sentence without punctuation:\" + str(no_punctuation_for_sentence_1))\n",
        "print(\"----------------------------------------------------------------------------------------------------\")\n",
        "\n",
        "no_punctuation_for_sentence_2 = \"\"\n",
        "for char in sentence_2:\n",
        "   if char not in punctuation:\n",
        "       no_punctuation_for_sentence_2 = no_punctuation_for_sentence_2 + char\n",
        "print(\"Second sentence without punctuation:\" + str(no_punctuation_for_sentence_2))\n",
        "print(\"---------------------------------------------------------------------------------------------------\")\n",
        "\n",
        "#Question_2.5\n",
        "\n",
        "def Check_Vowels(sentence_1,vowels_1): \n",
        "    final_1 = [each for each in sentence_1 if each in vowels_1] \n",
        "    print(\"counting the number of vowels in the first sentence:\" + str(len(final_1)))\n",
        "    sentence_1 = sentence_1.casefold()\n",
        "    count_1 = {}.fromkeys(vowels_1, 0)\n",
        "    for character in sentence_1: \n",
        "        if character in count_1: \n",
        "            count_1[character] += 1    \n",
        "    return count_1    \n",
        "vowels_1 = \"AaEeIiOoUu\"\n",
        "print(\"printing out each vowel and number of times it appears in the first sentence: \" + str(Check_Vowels(sentence_1, vowels_1)))\n",
        "print(\"---------------------------------------------------------------------------------------------------\")\n",
        "\n",
        "def Check_Vowels(sentence_2,vowels_2): \n",
        "    final_2 = [each for each in sentence_2 if each in vowels_2] \n",
        "    print(\"counting the number of vowels in the second sentence:\" + str(len(final_2)))\n",
        "    sentence_2 = sentence_2.casefold()\n",
        "    count_2 = {}.fromkeys(vowels_2, 0)\n",
        "    for character in sentence_2: \n",
        "        if character in count_2: \n",
        "            count_2[character] += 1    \n",
        "    return count_2    \n",
        "vowels_2 = \"AaEeIiOoUu\"\n",
        "print(\"printing out each vowel and number of times it appears in the second sentence: \" + str(Check_Vowels(sentence_2, vowels_2)))\n"
      ],
      "execution_count": 0,
      "outputs": [
        {
          "output_type": "stream",
          "text": [
            "Enter the first sentence: \"Alas! Am I alive? This is my first python program\"\n",
            "\"Alas! Am I alive? This is my first python program\"\n",
            "---------------------------------------------------------------------------------------------------\n",
            "Enter the second sentence: \"Alas! Am I alive?\"\n",
            "\"Alas! Am I alive?\"\n",
            "----------------------------------------------------------------------------------------------------\n",
            "splitting first sentence into list of words: ['\"Alas!', 'Am', 'I', 'alive?', 'This', 'is', 'my', 'first', 'python', 'program\"']\n",
            "----------------------------------------------------------------------------------------------------\n",
            "splitting second sentence into list of words: ['\"Alas!', 'Am', 'I', 'alive?\"']\n",
            "----------------------------------------------------------------------------------------------------\n",
            "list of words that occur in both the sentences:{'I', 'Am', '\"Alas!'}\n",
            "----------------------------------------------------------------------------------------------------\n",
            "First sentence without punctuation:Alas Am I alive This is my first python program\n",
            "----------------------------------------------------------------------------------------------------\n",
            "Second sentence without punctuation:Alas Am I alive\n",
            "---------------------------------------------------------------------------------------------------\n",
            "counting the number of vowels in the first sentence:13\n",
            "printing out each vowel and number of times it appears in the first sentence: {'A': 0, 'a': 5, 'E': 0, 'e': 1, 'I': 0, 'i': 5, 'O': 0, 'o': 2, 'U': 0, 'u': 0}\n",
            "---------------------------------------------------------------------------------------------------\n",
            "counting the number of vowels in the second sentence:7\n",
            "printing out each vowel and number of times it appears in the second sentence: {'A': 0, 'a': 4, 'E': 0, 'e': 1, 'I': 0, 'i': 2, 'O': 0, 'o': 0, 'U': 0, 'u': 0}\n"
          ],
          "name": "stdout"
        }
      ]
    },
    {
      "cell_type": "markdown",
      "metadata": {
        "id": "CmFoI4jDS9nx",
        "colab_type": "text"
      },
      "source": [
        "# Question 3 \n",
        "\n",
        "(15 points). The formula that describes the volume V of a sphere with radius r is the following:\n",
        "\n",
        "$ V=\\frac{4}{3}\\ast\\ \\pi\\ast\\ r^3 $\n",
        "\n",
        "Write a program to calculate the value of V when r is in the range of 1–10. Output the result in the following format:\n",
        "\n",
        "\tr\tV\n",
        "\t1\t…\n",
        "\t2\t…\n",
        "\t3\t…\n"
      ]
    },
    {
      "cell_type": "code",
      "metadata": {
        "id": "pEyqeioAT95b",
        "colab_type": "code",
        "outputId": "2c145285-82b5-4517-8107-fd49d6588169",
        "colab": {
          "base_uri": "https://localhost:8080/",
          "height": 208
        }
      },
      "source": [
        "import pandas as p\n",
        "pi = 3.14\n",
        "values_of_volumes = []\n",
        "values_of_radius = []\n",
        "for radius in range(1,11):\n",
        "  values_of_radius.append(radius)\n",
        "  volume_of_sphere = 4.0/3.0*pi* radius**3\n",
        "  values_of_volumes.append(volume_of_sphere)  \n",
        "column_1 = p.DataFrame(values_of_radius,columns=['r'])\n",
        "column_2 = p.DataFrame(values_of_volumes,columns=['v'])\n",
        "table =p.concat([column_1,column_2],axis=1)\n",
        "print(table.to_string(index=False))"
      ],
      "execution_count": 0,
      "outputs": [
        {
          "output_type": "stream",
          "text": [
            "  r            v\n",
            "  1     4.186667\n",
            "  2    33.493333\n",
            "  3   113.040000\n",
            "  4   267.946667\n",
            "  5   523.333333\n",
            "  6   904.320000\n",
            "  7  1436.026667\n",
            "  8  2143.573333\n",
            "  9  3052.080000\n",
            " 10  4186.666667\n"
          ],
          "name": "stdout"
        }
      ]
    },
    {
      "cell_type": "markdown",
      "metadata": {
        "id": "z3tBE7E-Xn5X",
        "colab_type": "text"
      },
      "source": [
        "# Question 4\n",
        "\n",
        "(40 points). In the field of Data Science, data is often formatted as a comma-delimited (CSV) file, where each line in a file corresponds to a field's value. Refer to Chapter 9 (p. 106) for more information on comma-delimited files. To answer this question, you will need to download the file [Assignment1_denton_housing.csv](https://github.com/unt-iialab/INFO5731_Spring2020/blob/master/Assignments/Assignment1_denton_housing.csv) included with this assignment. The [file Assignment1_denton_housing.csv](https://github.com/unt-iialab/INFO5731_Spring2020/blob/master/Assignments/Assignment1_denton_housing.csv) contains statistics about housing in the city of Denton from 2008 to 2014. Write a program to implement the following questions.\n",
        "\n",
        "(1) (10 pts) Calculate the difference in the number of Occupied Housing Units from year to year and print it. The difference must be calculated for the consecutive years such as 2008-2009, 2009-2010 etc. Finally, print the values in the ascending order.\n",
        "\n",
        "(2) (10 pts) For all the years, calculate the percentage of housing units which are vacant an occupied. Print the results in the following format:\n",
        "\n",
        "Year Vacant Housing Units Occupied Housing Units\n",
        "\n",
        "    2008  30%   70%                          \n",
        "\t2009 ----- -----\n",
        "\t2010 ----- -----\n",
        "    2011 ----- -----\n",
        "\t2012 ----- -----\n",
        "    2013 ----- -----\n",
        "\t2014 ----- -----\n",
        "  \n",
        "  \n",
        "\n",
        "(3) (10 pts) Calculate and print the valued and years in which the highest number of housing units were vacant and occupied. Print the results in the following format:  \n",
        "\n",
        "                              Year\tValue\n",
        "\tVacant Housing Units\t  -----   -----\n",
        "\tOccupied Housing Units\t-----   -----\n",
        "\n",
        "(4) (10 pts) Calculate the harmonic mean of the total housing units and print it out. You can find the information about harmonic mean here: https://ncalculators.com/statistics/harmonic-mean-calculator.htm"
      ]
    },
    {
      "cell_type": "code",
      "metadata": {
        "id": "lqGYuHBhcsRH",
        "colab_type": "code",
        "outputId": "36af1123-916e-4a09-b373-308d91c13caf",
        "colab": {
          "base_uri": "https://localhost:8080/",
          "height": 156
        }
      },
      "source": [
        "# Your code here\n",
        "#Question_4.1\n",
        "\n",
        "import pandas as p\n",
        "file_url = \"https://raw.githubusercontent.com/unt-iialab/INFO5731_Spring2020/master/Assignments/Assignment1_denton_housing.csv\"\n",
        "read_the_csv_file = p.read_csv(file_url)\n",
        "read_the_csv_file = read_the_csv_file[read_the_csv_file['title_field']=='Occupied Housing Units']\n",
        "sorting_the_years_in_the_file = read_the_csv_file.sort_values('year')\n",
        "years_after_sorting = sorting_the_years_in_the_file['value'].diff().sort_values()\n",
        "print(' Difference in the number of Occupied Housing Units from year to year:')\n",
        "print(years_after_sorting.to_string(index=False))"
      ],
      "execution_count": 0,
      "outputs": [
        {
          "output_type": "stream",
          "text": [
            " Difference in the number of Occupied Housing Units from year to year:\n",
            " -795.0\n",
            " -303.0\n",
            " 1404.0\n",
            " 1565.0\n",
            " 2622.0\n",
            " 5091.0\n",
            "    NaN\n"
          ],
          "name": "stdout"
        }
      ]
    },
    {
      "cell_type": "code",
      "metadata": {
        "id": "Z0GqbZGSVDBS",
        "colab_type": "code",
        "outputId": "7cf20244-0d71-4ee6-a7b2-bb8b24959fc2",
        "colab": {
          "base_uri": "https://localhost:8080/",
          "height": 156
        }
      },
      "source": [
        "#Question_4.2\n",
        "\n",
        "import pandas as p\n",
        "count_1 =0\n",
        "count_2 =0\n",
        "values_of_vacant_houses = []\n",
        "values_of_occupied_houses = []\n",
        "file_url = \"https://raw.githubusercontent.com/unt-iialab/INFO5731_Spring2020/master/Assignments/Assignment1_denton_housing.csv\"\n",
        "read_the_csv_file = p.read_csv(file_url)\n",
        "read_the_csv_file_1 = read_the_csv_file[(read_the_csv_file['title_field']=='Vacant Housing Units')].sort_values('year')['value'].tolist()\n",
        "read_the_csv_file_2 = read_the_csv_file[(read_the_csv_file['title_field']=='Occupied Housing Units')].sort_values('year')['value'].tolist()\n",
        "read_the_csv_file_3 = read_the_csv_file[(read_the_csv_file['title_field']=='Total Housing Units')].sort_values('year')\n",
        "for vacant in read_the_csv_file_3['value']:\n",
        "    percentage=(read_the_csv_file_1[count_1]/vacant)*100\n",
        "    count_1+=1\n",
        "    values_of_vacant_houses.append(percentage)\n",
        "for occupied in read_the_csv_file_3['value']:\n",
        "    percentage=(read_the_csv_file_1[count_2]/occupied)*100\n",
        "    count_2+=1\n",
        "    values_of_occupied_houses.append(percentage)   \n",
        "vacant =p.DataFrame(values_of_vacant_houses,columns=['Vacant Housing Units'])\n",
        "occupied =p.DataFrame(values_of_occupied_houses,columns=['Occupied Housing Units'])\n",
        "total =p.concat([vacant,occupied],axis=1)\n",
        "total =p.concat([read_the_csv_file_3['year'].reset_index(),total],axis=1)\n",
        "total =total[['year','Vacant Housing Units','Occupied Housing Units']]    \n",
        "print(total.to_string(index=False))"
      ],
      "execution_count": 0,
      "outputs": [
        {
          "output_type": "stream",
          "text": [
            " year  Vacant Housing Units  Occupied Housing Units\n",
            " 2008             10.882653               10.882653\n",
            " 2009              9.071116                9.071116\n",
            " 2010              8.142556                8.142556\n",
            " 2011              9.379522                9.379522\n",
            " 2012              6.677600                6.677600\n",
            " 2013              8.801788                8.801788\n",
            " 2014              5.730111                5.730111\n"
          ],
          "name": "stdout"
        }
      ]
    },
    {
      "cell_type": "code",
      "metadata": {
        "id": "zA9vTCoXyrdX",
        "colab_type": "code",
        "outputId": "3424624c-960e-41b3-cdf7-2a8848a9a3d1",
        "colab": {
          "base_uri": "https://localhost:8080/",
          "height": 69
        }
      },
      "source": [
        "#Question_4.3\n",
        "\n",
        "import pandas as pd\n",
        "file_url=\"https://raw.githubusercontent.com/unt-iialab/INFO5731_Spring2020/master/Assignments/Assignment1_denton_housing.csv\"\n",
        "df=p.read_csv(file_url)\n",
        "df[df['title_field']=='Vacant Housing Units']\n",
        "\n",
        "Maximum_value_vacant=df.loc[df['title_field']=='Vacant Housing Units']\n",
        "Maximum_1=Maximum_value_vacant[Maximum_value_vacant.value==Maximum_value_vacant.value.max()]\n",
        "\n",
        "Maximum_value_occupied=df.loc[df['title_field']=='Occupied Housing Units']\n",
        "Maximum_2=Max_value_occupied[Maximum_value_occupied.value==Maximum_value_occupied.value.max()]\n",
        "\n",
        "df1=pd.concat([Maximum_1,Maximum_2])\n",
        "df1_final=df1[['title_field','year','value']]\n",
        "print(df1_final.to_string(index=False))"
      ],
      "execution_count": 0,
      "outputs": [
        {
          "output_type": "stream",
          "text": [
            "            title_field  year  value\n",
            "   Vacant Housing Units  2008   4483\n",
            " Occupied Housing Units  2014  46295\n"
          ],
          "name": "stdout"
        }
      ]
    },
    {
      "cell_type": "code",
      "metadata": {
        "id": "TFQErwVA0Uey",
        "colab_type": "code",
        "outputId": "2dcc1bbf-4418-4a69-8538-2a440e3bde07",
        "colab": {
          "base_uri": "https://localhost:8080/",
          "height": 34
        }
      },
      "source": [
        "#Question_4.4\n",
        "\n",
        "import pandas as p\n",
        "import numpy as n\n",
        "from scipy import stats\n",
        "file_url = \"https://raw.githubusercontent.com/unt-iialab/INFO5731_Spring2020/master/Assignments/Assignment1_denton_housing.csv\"\n",
        "read_the_csv_file = p.read_csv(file_url)\n",
        "read_the_csv_file=read_the_csv_file[read_the_csv_file['title_field']=='Total Housing Units']\n",
        "harmonic_mean=stats.hmean(read_the_csv_file['value'])\n",
        "print(f\"Hormonic Mean :  {harmonic_mean}\")"
      ],
      "execution_count": 0,
      "outputs": [
        {
          "output_type": "stream",
          "text": [
            "Hormonic Mean :  44398.28543969185\n"
          ],
          "name": "stdout"
        }
      ]
    }
  ]
}