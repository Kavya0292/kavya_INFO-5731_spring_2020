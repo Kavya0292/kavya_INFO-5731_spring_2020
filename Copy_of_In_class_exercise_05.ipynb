{
  "nbformat": 4,
  "nbformat_minor": 0,
  "metadata": {
    "colab": {
      "name": "Copy of In_class_exercise_05.ipynb",
      "provenance": [],
      "collapsed_sections": [],
      "include_colab_link": true
    },
    "kernelspec": {
      "name": "python3",
      "display_name": "Python 3"
    }
  },
  "cells": [
    {
      "cell_type": "markdown",
      "metadata": {
        "id": "view-in-github",
        "colab_type": "text"
      },
      "source": [
        "<a href=\"https://colab.research.google.com/github/kavyaperavali/kavya_INFO-5731_spring_2020/blob/master/Copy_of_In_class_exercise_05.ipynb\" target=\"_parent\"><img src=\"https://colab.research.google.com/assets/colab-badge.svg\" alt=\"Open In Colab\"/></a>"
      ]
    },
    {
      "cell_type": "markdown",
      "metadata": {
        "id": "z7TahL04sVvR",
        "colab_type": "text"
      },
      "source": [
        "# **The fifth in-class-exercise**"
      ]
    },
    {
      "cell_type": "markdown",
      "metadata": {
        "id": "ejyZITr8sjnh",
        "colab_type": "text"
      },
      "source": [
        "## **1. Rule-based information extraction**\n",
        "\n",
        "Use any keywords related to data science, natural language processing, machine learning to search from google scholar, get the **titles** of 100 articles (either by web scraping or manually) about this topic, define a set of patterns to extract the research questions/problems, methods/algorithms/models, datasets, applications, or any other important information about this topic. "
      ]
    },
    {
      "cell_type": "code",
      "metadata": {
        "id": "XvR_O9D8sOUY",
        "colab_type": "code",
        "colab": {}
      },
      "source": [
        "# Write your code here\n",
        "import pandas as pd\n",
        "import csv\n",
        "import re \n",
        "import spacy\n",
        "import string \n",
        "import nltk \n",
        "import numpy as np \n",
        "import math \n",
        "from tqdm import tqdm \n",
        "\n",
        "from spacy.matcher import Matcher \n",
        "from spacy.tokens import Span \n",
        "from spacy import displacy \n",
        "\n"
      ],
      "execution_count": 0,
      "outputs": []
    },
    {
      "cell_type": "code",
      "metadata": {
        "id": "KWjBDsVfuOQo",
        "colab_type": "code",
        "outputId": "62f01d14-4e22-4596-d7ec-8a874ef562f7",
        "colab": {
          "base_uri": "https://localhost:8080/",
          "height": 54
        }
      },
      "source": [
        "pd.set_option('display.max_colwidth', 200)\n",
        "nlp = spacy.load(\"en_core_web_sm\")\n",
        "with open(\"100titles.csv\", newline='', encoding='latin1') as file:\n",
        "    hundred_titles = file.read()\n",
        "hundred_titles"
      ],
      "execution_count": 0,
      "outputs": [
        {
          "output_type": "execute_result",
          "data": {
            "text/plain": [
              "'Data science and its relationship to big data\\r\\nData science and prediction\\r\\nbig data in supply chain management\\r\\nanalytics data science\\r\\nFundamental disruption in big data science \\r\\nRandom Forests for Big Data\\r\\nData Replication Techniques in the Cloud Environments\\r\\nData Analytics Perspective\\r\\nDeep-Learning Big Data Analysis\\r\\nFundamentals of soil science\\r\\n\"A correlated topic model of science\\nConceptual approaches for defining data, information, and knowledge\"\\r\\nWhat to do about missing values in time?series cross?section data\\r\\nReproducible research in computational science\\r\\nNext steps for citizen science\\r\\nComputational social science\\r\\nKEGG for integration and interpretation of large-scale molecular data sets\\r\\n\"Data, information, knowledge and principle: back to metabolism in KEGG\"\\r\\nCalculation of uncertainties of U-Pb isotope data\\r\\nModeling dynamics in time-series?cross-section political economy data\\r\\nChallenges of bigÿdataÿanalysis\\r\\nPlanning early for careers in science\\r\\nThe conundrum of sharing research data\\r\\nBeyond the data deluge\\r\\nFunctionalÿdataÿanalysis\\r\\nDetecting novel associations in largeÿdataÿsets\\r\\nLinking crystallographic model and data quality\\r\\nReducing the dimensionality of data with neural networks\\r\\nA new dawn for citizen science\\r\\nModeling multilevelÿdataÿstructures\\r\\nMasteringÿdataÿmining: The art andÿscienceÿof customer relationship management\\r\\nDistilling free-form natural laws from experimentalÿdata\\r\\nCitation indexing for studyingÿscience\\r\\nThe new scienceÿof networks\\r\\nStudents\\' preconceptions about the epistemology ofÿscience\\r\\nCitation advantage of open access articles\\r\\nThe use of citationÿdataÿin writing the history ofÿscience\\r\\nThe skewness of science\\r\\nA manifesto for reproducible science\\r\\nPrinciples ofÿdata mining\\r\\nPrivacy-preservingÿdata mining\\r\\nData mining: concepts and techniques\\r\\nDataÿpreparation forÿdata mining\\r\\nUntangling textÿdata mining\\r\\nData miningÿapplications in healthcare\\r\\nRelational data mining\\r\\n\"Data warehousing, data mining, and OLAP\"\\r\\nData mining with big data\\r\\nDiscovering knowledge in data: an introduction to data mining\\r\\nTop 10 algorithms in data mining\\r\\nThe WEKA data mining software\\r\\nData mining and knowledge discovery handbook\\r\\nFrom data mining to knowledge discovery in databases\\r\\nData mining: practical machine learning tools and techniques with Java implementations\\r\\nA survey of clustering data mining techniques\\r\\nPrivacy preserving data mining\\r\\nUniqueness of medical data mining\\r\\nData mining for education\\r\\nGeographic data mining and knowledge discovery\\r\\nData mining techniques\\r\\nData mining and knowledge discovery\\r\\nInformation visualization and visual data mining\\r\\nAdvanced data mining techniques\\r\\nThe data warehouse and data mining\\r\\nData mining approaches for intrusion detection\\r\\nData mining with an ant colony optimization algorithm\\r\\nExploratory data mining and data cleaning\\r\\nThe top ten algorithms in data mining\\r\\nPrinciples of data mining\\r\\nData mining with decision trees: theory and applications\\r\\nTowards parameter-free data mining\\r\\nEducational data mining: A survey from 1995 to 2005\\r\\nFeature selection for knowledge discovery and data mining\\r\\nIntroduction to machine learning\\r\\n Machine learning: a probabilistic perspective\\r\\nMachine learning\\r\\nFoundations of machine learning\\r\\nGenetic algorithms and machine learning\\r\\nprograms for machine learning\\r\\nPattern recognition and machine learning\\r\\nScikit-learn: Machine learning in Python\\r\\nWeka: A machine learning workbench\\r\\nGaussian processes in machine learning\\r\\nBioinformatics: the machine learning approach\\r\\nEnsemble methods in machine learning\\r\\n\"Machine learning: Trends, perspectives, and prospects\"\\r\\nDlib-ml: A machine learning toolkit\\r\\nSelection of relevant features in machine learning\\r\\nA few useful things to know about machine learning\\r\\nGaussian processes for machine learning\\r\\nCorrelation-based feature selection for machine learning\\r\\nUCI machine learning repository\\r\\nBayesian reasoning and machine learning\\r\\nAdversarial machine learning\\r\\nData mining: practical machine learning tools and techniques with Java implementations\\r\\nTensorflow: A system for large-scale machine learning\\r\\nQuantum machine learning\\r\\nReadings in machine learning\\r\\nMachine learning for high-speed corner detection\\r\\nMachine learning in automated text categorization\\r\\nMap-reduce for machine learning on multicore\\r\\n'"
            ]
          },
          "metadata": {
            "tags": []
          },
          "execution_count": 15
        }
      ]
    },
    {
      "cell_type": "code",
      "metadata": {
        "id": "fCmboREcU23M",
        "colab_type": "code",
        "outputId": "41597d94-3400-47dd-d05e-ce04d4eedc9b",
        "colab": {
          "base_uri": "https://localhost:8080/",
          "height": 1000
        }
      },
      "source": [
        "doc = nlp(hundred_titles)\n",
        "for tok in doc: \n",
        "  print(tok.text, \"-->\",tok.dep_,\"-->\", tok.pos_) \n",
        "pattern1 = [{'POS':'NOUN'},{'LOWER': 'is'}, {'LOWER': 'and'}, {'POS': 'VERB'}]\n",
        "pattern2 = [{'POS':'adj'},{'LOWER': 'Data'}, {'LOWER': 'science'}, {'POS': 'PROPN'}] \n",
        "pattern3=[{'lower': 'Analytics', 'OP':'?'}, {'lower': 'and'}, {'POS': 'PROPN'}, {'POS': 'PROPN', 'OP': '*'},]  \n",
        "pattern4 = [{'LOWER': 'as','OP':'?'}, {'LOWER':'of'}, {'POS': 'PROPN'},  {'POS': 'VERB'}, {'POS':'NOUN', 'OP':'*'}]\n",
        "pattern5=[{'POS':'PROPN', 'OP':'*'},{'POS':'NOUN', 'OP':'*'},{'ORTH': ':'},{'POS':'PROPN', 'OP':'*'},{'POS':'NOUN', 'OP':'*'}]\n",
        "\n",
        "matcher= Matcher(nlp.vocab) \n",
        "matcher.add(\"matching_1\", None, pattern1,pattern2,pattern3,pattern4,pattern5) \n",
        "matches = matcher(doc)\n",
        "for match_id, start, end in matches:   \n",
        "    string_id = nlp.vocab.strings[match_id]  \n",
        "    span = doc[start:end]  \n",
        "    print(span.text)          \n",
        " \n"
      ],
      "execution_count": 0,
      "outputs": [
        {
          "output_type": "stream",
          "text": [
            "Data --> compound --> NOUN\n",
            "science --> ROOT --> NOUN\n",
            "and --> cc --> CCONJ\n",
            "its --> poss --> DET\n",
            "relationship --> conj --> NOUN\n",
            "to --> prep --> ADP\n",
            "big --> amod --> ADJ\n",
            "data --> pobj --> NOUN\n",
            "\r\n",
            " -->  --> SPACE\n",
            "Data --> compound --> PROPN\n",
            "science --> conj --> NOUN\n",
            "and --> cc --> CCONJ\n",
            "prediction --> conj --> NOUN\n",
            "\r\n",
            " -->  --> SPACE\n",
            "big --> amod --> ADJ\n",
            "data --> conj --> NOUN\n",
            "in --> prep --> ADP\n",
            "supply --> compound --> NOUN\n",
            "chain --> compound --> NOUN\n",
            "management --> nmod --> NOUN\n",
            "\r\n",
            " -->  --> SPACE\n",
            "analytics --> compound --> NOUN\n",
            "data --> compound --> NOUN\n",
            "science --> appos --> NOUN\n",
            "\r\n",
            " -->  --> SPACE\n",
            "Fundamental --> amod --> ADJ\n",
            "disruption --> pobj --> NOUN\n",
            "in --> prep --> ADP\n",
            "big --> amod --> ADJ\n",
            "data --> compound --> NOUN\n",
            "science --> pobj --> NOUN\n",
            "\r\n",
            " -->  --> SPACE\n",
            "Random --> compound --> PROPN\n",
            "Forests --> ROOT --> PROPN\n",
            "for --> prep --> ADP\n",
            "Big --> compound --> PROPN\n",
            "Data --> nmod --> PROPN\n",
            "\r\n",
            " -->  --> SPACE\n",
            "Data --> compound --> PROPN\n",
            "Replication --> compound --> PROPN\n",
            "Techniques --> pobj --> PROPN\n",
            "in --> prep --> ADP\n",
            "the --> det --> DET\n",
            "Cloud --> compound --> PROPN\n",
            "Environments --> poss --> PROPN\n",
            "\r\n",
            " -->  --> SPACE\n",
            "Data --> compound --> PROPN\n",
            "Analytics --> compound --> PROPN\n",
            "Perspective --> pobj --> PROPN\n",
            "\r\n",
            " -->  --> SPACE\n",
            "Deep --> compound --> PROPN\n",
            "- --> punct --> PUNCT\n",
            "Learning --> amod --> PROPN\n",
            "Big --> compound --> PROPN\n",
            "Data --> compound --> PROPN\n",
            "Analysis --> ROOT --> PROPN\n",
            "\r\n",
            " -->  --> SPACE\n",
            "Fundamentals --> ROOT --> PROPN\n",
            "of --> prep --> ADP\n",
            "soil --> compound --> NOUN\n",
            "science --> pobj --> NOUN\n",
            "\r\n",
            " -->  --> SPACE\n",
            "\" --> punct --> PUNCT\n",
            "A --> det --> DET\n",
            "correlated --> amod --> ADJ\n",
            "topic --> compound --> NOUN\n",
            "model --> nsubj --> NOUN\n",
            "of --> prep --> ADP\n",
            "science --> pobj --> NOUN\n",
            "\n",
            " -->  --> SPACE\n",
            "Conceptual --> amod --> PROPN\n",
            "approaches --> ROOT --> VERB\n",
            "for --> prep --> ADP\n",
            "defining --> pcomp --> VERB\n",
            "data --> dobj --> NOUN\n",
            ", --> punct --> PUNCT\n",
            "information --> conj --> NOUN\n",
            ", --> punct --> PUNCT\n",
            "and --> cc --> CCONJ\n",
            "knowledge --> conj --> NOUN\n",
            "\" --> punct --> PUNCT\n",
            "\r\n",
            " -->  --> SPACE\n",
            "What --> dobj --> PRON\n",
            "to --> aux --> PART\n",
            "do --> xcomp --> VERB\n",
            "about --> prep --> ADP\n",
            "missing --> pcomp --> VERB\n",
            "values --> dobj --> NOUN\n",
            "in --> prep --> ADP\n",
            "time?series --> subtok --> NOUN\n",
            "cross?section --> subtok --> NOUN\n",
            "data --> nmod --> NOUN\n",
            "\r\n",
            " -->  --> SPACE\n",
            "Reproducible --> compound --> ADJ\n",
            "research --> ROOT --> NOUN\n",
            "in --> prep --> ADP\n",
            "computational --> amod --> ADJ\n",
            "science --> pobj --> NOUN\n",
            "\r\n",
            " -->  --> SPACE\n",
            "Next --> compound --> ADJ\n",
            "steps --> ROOT --> NOUN\n",
            "for --> prep --> ADP\n",
            "citizen --> compound --> NOUN\n",
            "science --> nmod --> NOUN\n",
            "\r\n",
            " -->  --> SPACE\n",
            "Computational --> nmod --> PROPN\n",
            "social --> amod --> ADJ\n",
            "science --> pobj --> NOUN\n",
            "\r\n",
            " -->  --> SPACE\n",
            "KEGG --> appos --> PROPN\n",
            "for --> prep --> ADP\n",
            "integration --> pobj --> NOUN\n",
            "and --> cc --> CCONJ\n",
            "interpretation --> conj --> NOUN\n",
            "of --> prep --> ADP\n",
            "large --> amod --> ADJ\n",
            "- --> punct --> PUNCT\n",
            "scale --> compound --> NOUN\n",
            "molecular --> amod --> ADJ\n",
            "data --> compound --> NOUN\n",
            "sets --> pobj --> NOUN\n",
            "\r\n",
            " -->  --> SPACE\n",
            "\" --> punct --> PUNCT\n",
            "Data --> nmod --> PROPN\n",
            ", --> punct --> PUNCT\n",
            "information --> conj --> NOUN\n",
            ", --> punct --> PUNCT\n",
            "knowledge --> conj --> NOUN\n",
            "and --> cc --> CCONJ\n",
            "principle --> conj --> NOUN\n",
            ": --> punct --> PUNCT\n",
            "back --> advmod --> ADV\n",
            "to --> prep --> ADP\n",
            "metabolism --> pobj --> NOUN\n",
            "in --> prep --> ADP\n",
            "KEGG --> pobj --> PROPN\n",
            "\" --> ROOT --> PUNCT\n",
            "\r\n",
            " -->  --> SPACE\n",
            "Calculation --> ROOT --> PROPN\n",
            "of --> prep --> ADP\n",
            "uncertainties --> pobj --> NOUN\n",
            "of --> prep --> ADP\n",
            "U --> compound --> PROPN\n",
            "- --> punct --> PUNCT\n",
            "Pb --> compound --> PROPN\n",
            "isotope --> compound --> NOUN\n",
            "data --> poss --> NOUN\n",
            "\r\n",
            " -->  --> SPACE\n",
            "Modeling --> compound --> PROPN\n",
            "dynamics --> pobj --> NOUN\n",
            "in --> prep --> ADP\n",
            "time --> nmod --> NOUN\n",
            "- --> punct --> PUNCT\n",
            "series?cross --> subtok --> NOUN\n",
            "- --> punct --> PUNCT\n",
            "section --> nmod --> NOUN\n",
            "political --> amod --> ADJ\n",
            "economy --> compound --> NOUN\n",
            "data --> pobj --> NOUN\n",
            "\r\n",
            " -->  --> SPACE\n",
            "Challenges --> appos --> NOUN\n",
            "of --> prep --> ADP\n",
            "bigÿdataÿanalysis --> pobj --> NOUN\n",
            "\r\n",
            " -->  --> SPACE\n",
            "Planning --> ROOT --> PROPN\n",
            "early --> advmod --> ADV\n",
            "for --> prep --> ADP\n",
            "careers --> pobj --> NOUN\n",
            "in --> prep --> ADP\n",
            "science --> pobj --> NOUN\n",
            "\r\n",
            " -->  --> SPACE\n",
            "The --> det --> DET\n",
            "conundrum --> ROOT --> NOUN\n",
            "of --> prep --> ADP\n",
            "sharing --> pcomp --> VERB\n",
            "research --> compound --> NOUN\n",
            "data --> dobj --> NOUN\n",
            "\r\n",
            " -->  --> SPACE\n",
            "Beyond --> prep --> ADP\n",
            "the --> det --> DET\n",
            "data --> compound --> NOUN\n",
            "deluge --> pobj --> NOUN\n",
            "\r\n",
            " -->  --> SPACE\n",
            "Functionalÿdataÿanalysis --> ROOT --> PROPN\n",
            "\r\n",
            " -->  --> SPACE\n",
            "Detecting --> ROOT --> VERB\n",
            "novel --> compound --> ADJ\n",
            "associations --> dobj --> NOUN\n",
            "in --> prep --> ADP\n",
            "largeÿdataÿsets --> pobj --> NOUN\n",
            "\r\n",
            " -->  --> SPACE\n",
            "Linking --> acl --> VERB\n",
            "crystallographic --> amod --> ADJ\n",
            "model --> dobj --> NOUN\n",
            "and --> cc --> CCONJ\n",
            "data --> compound --> NOUN\n",
            "quality --> conj --> NOUN\n",
            "\r\n",
            " -->  --> SPACE\n",
            "Reducing --> ROOT --> VERB\n",
            "the --> det --> DET\n",
            "dimensionality --> dobj --> NOUN\n",
            "of --> prep --> ADP\n",
            "data --> pobj --> NOUN\n",
            "with --> prep --> ADP\n",
            "neural --> amod --> ADJ\n",
            "networks --> pobj --> NOUN\n",
            "\r\n",
            " -->  --> SPACE\n",
            "A --> det --> DET\n",
            "new --> amod --> ADJ\n",
            "dawn --> ROOT --> NOUN\n",
            "for --> prep --> ADP\n",
            "citizen --> compound --> NOUN\n",
            "science --> poss --> NOUN\n",
            "\r\n",
            " -->  --> SPACE\n",
            "Modeling --> compound --> PROPN\n",
            "multilevelÿdataÿstructures --> pobj --> NOUN\n",
            "\r\n",
            " -->  --> SPACE\n",
            "Masteringÿdataÿmining --> dep --> NOUN\n",
            ": --> punct --> PUNCT\n",
            "The --> det --> DET\n",
            "art --> nsubj --> NOUN\n",
            "andÿscienceÿof --> ROOT --> NOUN\n",
            "customer --> compound --> NOUN\n",
            "relationship --> compound --> NOUN\n",
            "management --> dobj --> NOUN\n",
            "\r\n",
            " -->  --> SPACE\n",
            "Distilling --> ROOT --> VERB\n",
            "free --> amod --> ADJ\n",
            "- --> punct --> PUNCT\n",
            "form --> nmod --> NOUN\n",
            "natural --> amod --> ADJ\n",
            "laws --> dobj --> NOUN\n",
            "from --> prep --> ADP\n",
            "experimentalÿdata --> nmod --> NOUN\n",
            "\r\n",
            " -->  --> SPACE\n",
            "Citation --> compound --> PROPN\n",
            "indexing --> pobj --> NOUN\n",
            "for --> prep --> ADP\n",
            "studyingÿscience --> pobj --> NOUN\n",
            "\r\n",
            " -->  --> SPACE\n",
            "The --> det --> DET\n",
            "new --> amod --> ADJ\n",
            "scienceÿof --> compound --> NOUN\n",
            "networks --> ROOT --> NOUN\n",
            "\r\n",
            " -->  --> SPACE\n",
            "Students --> poss --> PROPN\n",
            "' --> case --> PART\n",
            "preconceptions --> appos --> NOUN\n",
            "about --> prep --> ADP\n",
            "the --> det --> DET\n",
            "epistemology --> compound --> NOUN\n",
            "ofÿscience --> pobj --> NOUN\n",
            "\r\n",
            " -->  --> SPACE\n",
            "Citation --> compound --> PROPN\n",
            "advantage --> appos --> NOUN\n",
            "of --> prep --> ADP\n",
            "open --> amod --> ADJ\n",
            "access --> compound --> NOUN\n",
            "articles --> pobj --> NOUN\n",
            "\r\n",
            " -->  --> SPACE\n",
            "The --> det --> DET\n",
            "use --> ROOT --> NOUN\n",
            "of --> prep --> ADP\n",
            "citationÿdataÿin --> pobj --> NOUN\n",
            "writing --> acl --> VERB\n",
            "the --> det --> DET\n",
            "history --> compound --> NOUN\n",
            "ofÿscience --> dobj --> NOUN\n",
            "\r\n",
            " -->  --> SPACE\n",
            "The --> det --> DET\n",
            "skewness --> ROOT --> NOUN\n",
            "of --> prep --> ADP\n",
            "science --> pobj --> NOUN\n",
            "\r\n",
            " -->  --> SPACE\n",
            "A --> compound --> DET\n",
            "manifesto --> ROOT --> NOUN\n",
            "for --> prep --> ADP\n",
            "reproducible --> amod --> ADJ\n",
            "science --> pobj --> NOUN\n",
            "\r\n",
            " -->  --> SPACE\n",
            "Principles --> compound --> PROPN\n",
            "ofÿdata --> compound --> VERB\n",
            "mining --> ROOT --> NOUN\n",
            "\r\n",
            " -->  --> SPACE\n",
            "Privacy --> compound --> PROPN\n",
            "- --> punct --> PUNCT\n",
            "preservingÿdata --> compound --> NOUN\n",
            "mining --> conj --> NOUN\n",
            "\r\n",
            " -->  --> SPACE\n",
            "Data --> compound --> PROPN\n",
            "mining --> ROOT --> NOUN\n",
            ": --> punct --> PUNCT\n",
            "concepts --> appos --> NOUN\n",
            "and --> cc --> CCONJ\n",
            "techniques --> conj --> NOUN\n",
            "\r\n",
            " -->  --> SPACE\n",
            "Dataÿpreparation --> nsubj --> PROPN\n",
            "forÿdata --> ROOT --> NOUN\n",
            "mining --> npadvmod --> NOUN\n",
            "\r\n",
            " -->  --> SPACE\n",
            "Untangling --> compound --> PROPN\n",
            "textÿdata --> compound --> NOUN\n",
            "mining --> nmod --> NOUN\n",
            "\r\n",
            " -->  --> SPACE\n",
            "Data --> compound --> PROPN\n",
            "miningÿapplications --> ROOT --> NOUN\n",
            "in --> prep --> ADP\n",
            "healthcare --> pobj --> NOUN\n",
            "\r\n",
            " -->  --> SPACE\n",
            "Relational --> amod --> ADJ\n",
            "data --> compound --> NOUN\n",
            "mining --> ROOT --> NOUN\n",
            "\r\n",
            " -->  --> SPACE\n",
            "\" --> punct --> PUNCT\n",
            "Data --> nsubj --> NOUN\n",
            "warehousing --> ROOT --> NOUN\n",
            ", --> punct --> PUNCT\n",
            "data --> compound --> NOUN\n",
            "mining --> conj --> NOUN\n",
            ", --> punct --> PUNCT\n",
            "and --> cc --> CCONJ\n",
            "OLAP --> conj --> PROPN\n",
            "\" --> punct --> PUNCT\n",
            "\n",
            " -->  --> SPACE\n",
            "Data --> compound --> PROPN\n",
            "mining --> ROOT --> NOUN\n",
            "with --> prep --> ADP\n",
            "big --> amod --> ADJ\n",
            "data --> poss --> NOUN\n",
            "\n",
            " -->  --> SPACE\n",
            "Discovering --> compound --> PROPN\n",
            "knowledge --> pobj --> NOUN\n",
            "in --> prep --> ADP\n",
            "data --> pobj --> NOUN\n",
            ": --> punct --> PUNCT\n",
            "an --> det --> DET\n",
            "introduction --> pobj --> NOUN\n",
            "to --> prep --> ADP\n",
            "data --> compound --> NOUN\n",
            "mining --> pobj --> NOUN\n",
            "\n",
            " -->  --> SPACE\n",
            "Top --> nmod --> PROPN\n",
            "10 --> nummod --> NUM\n",
            "algorithms --> ROOT --> NOUN\n",
            "in --> prep --> ADP\n",
            "data --> compound --> NOUN\n",
            "mining --> pobj --> NOUN\n",
            "\n",
            " -->  --> SPACE\n",
            "The --> det --> DET\n",
            "WEKA --> compound --> PROPN\n",
            "data --> compound --> NOUN\n",
            "mining --> compound --> NOUN\n",
            "software --> nsubj --> NOUN\n",
            "\n",
            " -->  --> SPACE\n",
            "Data --> nmod --> PROPN\n",
            "mining --> nmod --> NOUN\n",
            "and --> cc --> CCONJ\n",
            "knowledge --> conj --> NOUN\n",
            "discovery --> appos --> NOUN\n",
            "handbook --> ROOT --> NOUN\n",
            "\n",
            " -->  --> SPACE\n",
            "From --> ROOT --> ADP\n",
            "data --> compound --> NOUN\n",
            "mining --> pobj --> NOUN\n",
            "to --> prep --> PART\n",
            "knowledge --> compound --> NOUN\n",
            "discovery --> pobj --> NOUN\n",
            "in --> prep --> ADP\n",
            "databases --> pobj --> NOUN\n",
            "\n",
            " -->  --> SPACE\n",
            "Data --> compound --> PROPN\n",
            "mining --> ROOT --> NOUN\n",
            ": --> punct --> PUNCT\n",
            "practical --> amod --> ADJ\n",
            "machine --> npadvmod --> NOUN\n",
            "learning --> compound --> NOUN\n",
            "tools --> appos --> NOUN\n",
            "and --> cc --> CCONJ\n",
            "techniques --> conj --> NOUN\n",
            "with --> prep --> ADP\n",
            "Java --> compound --> PROPN\n",
            "implementations --> pobj --> NOUN\n",
            "\n",
            " -->  --> SPACE\n",
            "A --> det --> DET\n",
            "survey --> ROOT --> NOUN\n",
            "of --> prep --> ADP\n",
            "clustering --> pcomp --> NOUN\n",
            "data --> compound --> NOUN\n",
            "mining --> compound --> NOUN\n",
            "techniques --> dobj --> NOUN\n",
            "\n",
            " -->  --> SPACE\n",
            "Privacy --> nsubj --> PROPN\n",
            "preserving --> ROOT --> VERB\n",
            "data --> compound --> NOUN\n",
            "mining --> dobj --> NOUN\n",
            "\n",
            " -->  --> SPACE\n",
            "Uniqueness --> ROOT --> PROPN\n",
            "of --> prep --> ADP\n",
            "medical --> amod --> ADJ\n",
            "data --> compound --> NOUN\n",
            "mining --> pobj --> NOUN\n",
            "\n",
            " -->  --> SPACE\n",
            "Data --> compound --> PROPN\n",
            "mining --> ROOT --> NOUN\n",
            "for --> prep --> ADP\n",
            "education --> pobj --> NOUN\n",
            "\n",
            " -->  --> SPACE\n",
            "Geographic --> nmod --> PROPN\n",
            "data --> compound --> NOUN\n",
            "mining --> nmod --> NOUN\n",
            "and --> cc --> CCONJ\n",
            "knowledge --> conj --> NOUN\n",
            "discovery --> ROOT --> NOUN\n",
            "\n",
            " -->  --> SPACE\n",
            "Data --> compound --> PROPN\n",
            "mining --> compound --> NOUN\n",
            "techniques --> ROOT --> NOUN\n",
            "\n",
            " -->  --> SPACE\n",
            "Data --> compound --> PROPN\n",
            "mining --> nmod --> NOUN\n",
            "and --> cc --> CCONJ\n",
            "knowledge --> conj --> NOUN\n",
            "discovery --> ROOT --> NOUN\n",
            "\n",
            " -->  --> SPACE\n",
            "Information --> compound --> PROPN\n",
            "visualization --> ROOT --> NOUN\n",
            "and --> cc --> CCONJ\n",
            "visual --> amod --> ADJ\n",
            "data --> compound --> NOUN\n",
            "mining --> conj --> NOUN\n",
            "\n",
            " -->  --> SPACE\n",
            "Advanced --> compound --> ADJ\n",
            "data --> compound --> NOUN\n",
            "mining --> compound --> NOUN\n",
            "techniques --> ROOT --> NOUN\n",
            "\n",
            " -->  --> SPACE\n",
            "The --> det --> DET\n",
            "data --> compound --> NOUN\n",
            "warehouse --> ROOT --> NOUN\n",
            "and --> cc --> CCONJ\n",
            "data --> compound --> NOUN\n",
            "mining --> conj --> NOUN\n",
            "\n",
            " -->  --> SPACE\n",
            "Data --> compound --> PROPN\n",
            "mining --> compound --> NOUN\n",
            "approaches --> conj --> NOUN\n",
            "for --> prep --> ADP\n",
            "intrusion --> compound --> NOUN\n",
            "detection --> pobj --> NOUN\n",
            "\n",
            " -->  --> SPACE\n",
            "Data --> compound --> PROPN\n",
            "mining --> appos --> NOUN\n",
            "with --> prep --> ADP\n",
            "an --> det --> DET\n",
            "ant --> compound --> ADJ\n",
            "colony --> amod --> NOUN\n",
            "optimization --> compound --> NOUN\n",
            "algorithm --> pobj --> NOUN\n",
            "\n",
            " -->  --> SPACE\n",
            "Exploratory --> nmod --> PROPN\n",
            "data --> compound --> NOUN\n",
            "mining --> nmod --> NOUN\n",
            "and --> cc --> CCONJ\n",
            "data --> conj --> NOUN\n",
            "cleaning --> appos --> NOUN\n",
            "\n",
            " -->  --> SPACE\n",
            "The --> det --> DET\n",
            "top --> amod --> ADJ\n",
            "ten --> nummod --> NUM\n",
            "algorithms --> ROOT --> NOUN\n",
            "in --> prep --> ADP\n",
            "data --> compound --> NOUN\n",
            "mining --> pobj --> NOUN\n",
            "\n",
            " -->  --> SPACE\n",
            "Principles --> ROOT --> PROPN\n",
            "of --> prep --> ADP\n",
            "data --> compound --> NOUN\n",
            "mining --> pobj --> NOUN\n",
            "\n",
            " -->  --> SPACE\n",
            "Data --> compound --> PROPN\n",
            "mining --> ROOT --> NOUN\n",
            "with --> prep --> ADP\n",
            "decision --> compound --> NOUN\n",
            "trees --> pobj --> NOUN\n",
            ": --> punct --> PUNCT\n",
            "theory --> conj --> NOUN\n",
            "and --> cc --> CCONJ\n",
            "applications --> conj --> NOUN\n",
            "\n",
            " -->  --> SPACE\n",
            "Towards --> ROOT --> ADP\n",
            "parameter --> npadvmod --> ADJ\n",
            "- --> punct --> PUNCT\n",
            "free --> amod --> ADJ\n",
            "data --> compound --> NOUN\n",
            "mining --> nmod --> NOUN\n",
            "\n",
            " -->  --> SPACE\n",
            "Educational --> amod --> ADJ\n",
            "data --> compound --> NOUN\n",
            "mining --> pobj --> NOUN\n",
            ": --> punct --> PUNCT\n",
            "A --> det --> DET\n",
            "survey --> ROOT --> NOUN\n",
            "from --> prep --> ADP\n",
            "1995 --> pobj --> NUM\n",
            "to --> prep --> ADP\n",
            "2005 --> pobj --> NUM\n",
            "\n",
            " -->  --> SPACE\n",
            "Feature --> compound --> PROPN\n",
            "selection --> pobj --> NOUN\n",
            "for --> prep --> ADP\n",
            "knowledge --> compound --> NOUN\n",
            "discovery --> pobj --> NOUN\n",
            "and --> cc --> CCONJ\n",
            "data --> compound --> NOUN\n",
            "mining --> conj --> NOUN\n",
            "\n",
            " -->  --> SPACE\n",
            "Introduction --> pobj --> PROPN\n",
            "to --> aux --> PART\n",
            "machine --> acl --> VERB\n",
            "learning --> xcomp --> VERB\n",
            "\n",
            "  -->  --> SPACE\n",
            "Machine --> dobj --> PROPN\n",
            "learning --> xcomp --> VERB\n",
            ": --> punct --> PUNCT\n",
            "a --> det --> DET\n",
            "probabilistic --> amod --> ADJ\n",
            "perspective --> appos --> NOUN\n",
            "\n",
            " -->  --> SPACE\n",
            "Machine --> appos --> PROPN\n",
            "learning --> acl --> VERB\n",
            "\n",
            " -->  --> SPACE\n",
            "Foundations --> dobj --> PROPN\n",
            "of --> prep --> ADP\n",
            "machine --> pobj --> NOUN\n",
            "learning --> nmod --> VERB\n",
            "\n",
            " -->  --> SPACE\n",
            "Genetic --> compound --> ADJ\n",
            "algorithms --> appos --> NOUN\n",
            "and --> cc --> CCONJ\n",
            "machine --> conj --> NOUN\n",
            "learning --> acl --> VERB\n",
            "\n",
            " -->  --> SPACE\n",
            "programs --> dobj --> NOUN\n",
            "for --> prep --> ADP\n",
            "machine --> pobj --> NOUN\n",
            "learning --> acl --> VERB\n",
            "\n",
            " -->  --> SPACE\n",
            "Pattern --> compound --> PROPN\n",
            "recognition --> dobj --> NOUN\n",
            "and --> cc --> CCONJ\n",
            "machine --> conj --> NOUN\n",
            "learning --> acl --> VERB\n",
            "\n",
            " -->  --> SPACE\n",
            "Scikit --> compound --> PROPN\n",
            "- --> punct --> PUNCT\n",
            "learn --> ROOT --> VERB\n",
            ": --> punct --> PUNCT\n",
            "Machine --> ROOT --> NOUN\n",
            "learning --> acl --> VERB\n",
            "in --> prep --> ADP\n",
            "Python --> poss --> PROPN\n",
            "\n",
            " -->  --> SPACE\n",
            "Weka --> pobj --> PROPN\n",
            ": --> punct --> PUNCT\n",
            "A --> det --> DET\n",
            "machine --> appos --> NOUN\n",
            "learning --> acl --> VERB\n",
            "workbench --> nmod --> NOUN\n",
            "\n",
            " -->  --> SPACE\n",
            "Gaussian --> compound --> ADJ\n",
            "processes --> dobj --> NOUN\n",
            "in --> prep --> ADP\n",
            "machine --> pobj --> NOUN\n",
            "learning --> acl --> VERB\n",
            "\n",
            " -->  --> SPACE\n",
            "Bioinformatics --> dobj --> PROPN\n",
            ": --> punct --> PUNCT\n",
            "the --> det --> DET\n",
            "machine --> compound --> NOUN\n",
            "learning --> compound --> VERB\n",
            "approach --> appos --> NOUN\n",
            "\n",
            " -->  --> SPACE\n",
            "Ensemble --> amod --> ADJ\n",
            "methods --> ROOT --> NOUN\n",
            "in --> prep --> ADP\n",
            "machine --> pobj --> NOUN\n",
            "learning --> acl --> VERB\n",
            "\n",
            " -->  --> SPACE\n",
            "\" --> punct --> PUNCT\n",
            "Machine --> compound --> NOUN\n",
            "learning --> ROOT --> NOUN\n",
            ": --> punct --> PUNCT\n",
            "Trends --> ROOT --> NOUN\n",
            ", --> punct --> PUNCT\n",
            "perspectives --> conj --> NOUN\n",
            ", --> punct --> PUNCT\n",
            "and --> cc --> CCONJ\n",
            "prospects --> conj --> NOUN\n",
            "\" --> punct --> PUNCT\n",
            "\n",
            " -->  --> SPACE\n",
            "Dlib --> compound --> PROPN\n",
            "- --> punct --> PUNCT\n",
            "ml --> ROOT --> PROPN\n",
            ": --> punct --> PUNCT\n",
            "A --> det --> DET\n",
            "machine --> compound --> NOUN\n",
            "learning --> compound --> VERB\n",
            "toolkit --> ROOT --> NOUN\n",
            "\n",
            " -->  --> SPACE\n",
            "Selection --> ROOT --> PROPN\n",
            "of --> prep --> ADP\n",
            "relevant --> amod --> ADJ\n",
            "features --> pobj --> NOUN\n",
            "in --> prep --> ADP\n",
            "machine --> pobj --> NOUN\n",
            "learning --> acl --> VERB\n",
            "\n",
            " -->  --> SPACE\n",
            "A --> quantmod --> DET\n",
            "few --> amod --> ADJ\n",
            "useful --> amod --> ADJ\n",
            "things --> ROOT --> NOUN\n",
            "to --> aux --> PART\n",
            "know --> relcl --> VERB\n",
            "about --> prep --> ADP\n",
            "machine --> nsubj --> NOUN\n",
            "learning --> pcomp --> VERB\n",
            "\n",
            " -->  --> SPACE\n",
            "Gaussian --> amod --> ADJ\n",
            "processes --> dobj --> NOUN\n",
            "for --> prep --> ADP\n",
            "machine --> compound --> NOUN\n",
            "learning --> pobj --> VERB\n",
            "\n",
            " -->  --> SPACE\n",
            "Correlation --> npadvmod --> PROPN\n",
            "- --> punct --> PUNCT\n",
            "based --> amod --> VERB\n",
            "feature --> compound --> NOUN\n",
            "selection --> dobj --> NOUN\n",
            "for --> prep --> ADP\n",
            "machine --> pobj --> NOUN\n",
            "learning --> acl --> VERB\n",
            "\n",
            " -->  --> SPACE\n",
            "UCI --> compound --> PROPN\n",
            "machine --> dobj --> NOUN\n",
            "learning --> acl --> VERB\n",
            "repository --> amod --> NOUN\n",
            "\n",
            " -->  --> SPACE\n",
            "Bayesian --> amod --> ADJ\n",
            "reasoning --> dobj --> NOUN\n",
            "and --> cc --> CCONJ\n",
            "machine --> conj --> NOUN\n",
            "learning --> acl --> VERB\n",
            "\n",
            " -->  --> SPACE\n",
            "Adversarial --> compound --> ADJ\n",
            "machine --> dobj --> NOUN\n",
            "learning --> xcomp --> VERB\n",
            "\n",
            " -->  --> SPACE\n",
            "Data --> compound --> PROPN\n",
            "mining --> dobj --> NOUN\n",
            ": --> punct --> PUNCT\n",
            "practical --> amod --> ADJ\n",
            "machine --> npadvmod --> NOUN\n",
            "learning --> compound --> NOUN\n",
            "tools --> appos --> NOUN\n",
            "and --> cc --> CCONJ\n",
            "techniques --> conj --> NOUN\n",
            "with --> prep --> ADP\n",
            "Java --> compound --> PROPN\n",
            "implementations --> pobj --> NOUN\n",
            "\n",
            " -->  --> SPACE\n",
            "Tensorflow --> ROOT --> PROPN\n",
            ": --> punct --> PUNCT\n",
            "A --> det --> DET\n",
            "system --> ROOT --> NOUN\n",
            "for --> prep --> ADP\n",
            "large --> amod --> ADJ\n",
            "- --> punct --> PUNCT\n",
            "scale --> compound --> NOUN\n",
            "machine --> pobj --> NOUN\n",
            "learning --> acl --> VERB\n",
            "\n",
            " -->  --> SPACE\n",
            "Quantum --> compound --> PROPN\n",
            "machine --> dobj --> NOUN\n",
            "learning --> acl --> VERB\n",
            "\n",
            " -->  --> SPACE\n",
            "Readings --> dobj --> NOUN\n",
            "in --> prep --> ADP\n",
            "machine --> pobj --> NOUN\n",
            "learning --> acl --> VERB\n",
            "\n",
            " -->  --> SPACE\n",
            "Machine --> dobj --> PROPN\n",
            "learning --> xcomp --> VERB\n",
            "for --> prep --> ADP\n",
            "high --> amod --> ADJ\n",
            "- --> punct --> PUNCT\n",
            "speed --> compound --> NOUN\n",
            "corner --> compound --> NOUN\n",
            "detection --> pobj --> NOUN\n",
            "\n",
            " -->  --> SPACE\n",
            "Machine --> dobj --> PROPN\n",
            "learning --> xcomp --> VERB\n",
            "in --> prep --> ADP\n",
            "automated --> amod --> VERB\n",
            "text --> compound --> NOUN\n",
            "categorization --> pobj --> NOUN\n",
            "\n",
            " -->  --> SPACE\n",
            "Map --> compound --> PROPN\n",
            "- --> punct --> PUNCT\n",
            "reduce --> appos --> VERB\n",
            "for --> prep --> ADP\n",
            "machine --> pobj --> NOUN\n",
            "learning --> acl --> VERB\n",
            "on --> prep --> ADP\n",
            "multicore --> pobj --> NOUN\n",
            "\n",
            " -->  --> SPACE\n",
            "principle:\n",
            ":\n",
            "Masteringÿdataÿmining:\n",
            ":\n",
            "Data mining:\n",
            "mining:\n",
            ":\n",
            "Data mining: concepts\n",
            "mining: concepts\n",
            ": concepts\n",
            "and OLAP\n",
            "data:\n",
            ":\n",
            "Data mining:\n",
            "mining:\n",
            ":\n",
            "decision trees:\n",
            "trees:\n",
            ":\n",
            "decision trees: theory\n",
            "trees: theory\n",
            ": theory\n",
            "data mining:\n",
            "mining:\n",
            ":\n",
            ":\n",
            ":\n",
            ": Machine\n",
            "Weka:\n",
            ":\n",
            "Bioinformatics:\n",
            ":\n",
            "Machine learning:\n",
            "learning:\n",
            ":\n",
            "Machine learning: Trends\n",
            "learning: Trends\n",
            ": Trends\n",
            "ml:\n",
            ":\n",
            "Data mining:\n",
            "mining:\n",
            ":\n",
            "Tensorflow:\n",
            ":\n"
          ],
          "name": "stdout"
        }
      ]
    },
    {
      "cell_type": "markdown",
      "metadata": {
        "id": "Dq_7VGmrsum4",
        "colab_type": "text"
      },
      "source": [
        "## **2. Domain-specific information extraction**\n",
        "\n",
        "For the legal case used in the data cleaning exercise: [01-05-1 Adams v Tanner.txt](https://raw.githubusercontent.com/unt-iialab/INFO5731_Spring2020/master/In_class_exercise/01-05-1%20%20Adams%20v%20Tanner.txt), use [legalNLP](https://lexpredict-lexnlp.readthedocs.io/en/latest/modules/extract/extract.html#nlp-based-extraction-methods) to extract the following inforation from the text (if the information is not exist, just print None):\n",
        "\n",
        "(1) acts, e.g., “section 1 of the Advancing Hope Act, 1986”\n",
        "\n",
        "(2) amounts, e.g., “ten pounds” or “5.8 megawatts”\n",
        "\n",
        "(3) citations, e.g., “10 U.S. 100” or “1998 S. Ct. 1”\n",
        "\n",
        "(4) companies, e.g., “Lexpredict LLC”\n",
        "\n",
        "(5) conditions, e.g., “subject to …” or “unless and until …”\n",
        "\n",
        "(6) constraints, e.g., “no more than”\n",
        "\n",
        "(7) copyright, e.g., “(C) Copyright 2000 Acme”\n",
        "\n",
        "(8) courts, e.g., “Supreme Court of New York”\n",
        "\n",
        "(9) CUSIP, e.g., “392690QT3”\n",
        "\n",
        "(10) dates, e.g., “June 1, 2017” or “2018-01-01”\n",
        "\n",
        "(11) definitions, e.g., “Term shall mean …”\n",
        "\n",
        "(12) distances, e.g., “fifteen miles”\n",
        "\n",
        "(13) durations, e.g., “ten years” or “thirty days”\n",
        "\n",
        "(14) geographic and geopolitical entities, e.g., “New York” or “Norway”\n",
        "\n",
        "(15) money and currency usages, e.g., “$5” or “10 Euro”\n",
        "\n",
        "(16) percents and rates, e.g., “10%” or “50 bps”\n",
        "\n",
        "(17) PII, e.g., “212-212-2121” or “999-999-9999”\n",
        "\n",
        "(18) ratios, e.g.,” 3:1” or “four to three”\n",
        "\n",
        "(19) regulations, e.g., “32 CFR 170”\n",
        "\n",
        "(20) trademarks, e.g., “MyApp (TM)”\n",
        "\n",
        "(21) URLs, e.g., “http://acme.com/”\n",
        "\n",
        "(22) addresses, e.g., “1999 Mount Read Blvd, Rochester, NY, USA, 14615”\n",
        "\n",
        "(23) persons, e.g., “John Doe"
      ]
    },
    {
      "cell_type": "code",
      "metadata": {
        "id": "qc7NtJrLx5tS",
        "colab_type": "code",
        "colab": {}
      },
      "source": [
        "# write your code here\n",
        "!pip install lexnlp"
      ],
      "execution_count": 0,
      "outputs": []
    },
    {
      "cell_type": "code",
      "metadata": {
        "id": "p6RAUGVLWd3O",
        "colab_type": "code",
        "outputId": "af13a590-1953-41b9-b0c1-62c678ffe1d1",
        "colab": {
          "base_uri": "https://localhost:8080/",
          "height": 54
        }
      },
      "source": [
        "with open(\"adam.txt\", \"r\", encoding='cp1252') as adamfile:\n",
        "  data_adam_file = adamfile.read()\n",
        "data_adam_file"
      ],
      "execution_count": 0,
      "outputs": [
        {
          "output_type": "execute_result",
          "data": {
            "text/plain": [
              "'\\n5 Ala. 740\\nSupreme Court of Alabama.\\nADAMS\\nv.\\nTANNER AND HORTON.\\nJune Term, 1843.\\nSynopsis\\nWRIT of Error to the Circuit Court of Sumter.\\n \\n\\n\\nWest Headnotes (2)\\n\\n\\n[1]\\nChattel Mortgages\\nCrops\\nA growing crop has such an existence as to be the subject-matter of a mortgage or other contract which passes an interest to vest in possession, either immediately or at a future time.\\n4 Cases that cite this headnote\\n\\n[2]\\nCreditors’ Remedies\\nLien and Priority\\nUnder St.1821, prohibiting a levy on a crop until it has been gathered, no lien attaches in favor of a fi. fa. on a growing crop, nor does such lien attach until after the crop has been gathered.\\n5 Cases that cite this headnote\\n\\n**1 This was a trial of the right of property under the statute. In November, 1840, an execution issued from the circuit court of Sumter, at the suit of the plaintiff in error, requiring the sheriff of that county, to make of the goods, &c., of Allen Harrison and others, the sum of thirty-seven hundred and seventy-seven 80-100 dollars, besides costs. This execution was levied on thirty bales of cotton, as the property of Allen Harrison, which was claimed, and a bond given to try the right. An issue was made up to try the question of the liability of the cotton to the plaintiff’s execution, and submitted to a jury. On the trial, a bill of exceptions was sealed at the instance of the plaintiff. The plaintiff proved that he recovered his judgment in October, 1839; that an execution *741 was issued thereon on the 7th Nov. thereafter, and that alias and pluries fieri facias’, issued regularly up to the time levy was made; that the cotton levied on was growed on the plantation of Harrison, and cultivated by the hands in his service. It was proved by the claimants, by the production of a written contract, that Harrison, on the twenty-second of May, 1840, in consideration that the claimants were involved, as indorsers for Burton & Harrison of Sumter county, and were then exposed to an execution, amounting to upwards of fourteen thousand dollars, bargained and sold to the claimants all his growing crop of cotton &c., consisting of one hundred and twenty acres, &c. Allen Harrison promised and obliged himself to give up his crop to the use of the claimants at any time to save them from suffering as his indorsers; if the crop matured and was gathered he undertook to deliver the cotton in Gainesville. The claimants came from Tennessee, (where they resided) about the first of September, 1840, bringing with them three or four white laborers, and took possession of the crop and slaves, and with the latter, and white laborers, gathered the cotton, prepared it for market, and when levied on, it was in a ware-house in Gainesville. The plaintiff then proved by Harrison, that the claimants took possession of the crop, while he was absent, and disposed of it without his consent. It was admitted, that the contract was made in good faith.\\nThe court charged the jury, that the plaintiff had no lien by virtue of his judgment, and execution on the growing crop; that Harrison had a right to convey it, without being in any manner restrained by them; that the writing adduced, was a sale of the crop, but if it was not, and the lien of the fieri facias would have attached upon it, when gathered, yet if the claimants obtained possession on the first of September, and controlled the gathering of the crop, then no lien attached, and it was not subject to the levy.\\nAttorneys and Law Firms\\nR. H. SMITH, for the plaintiff, in error, made the following points.--1. The crop of Harrison, must, in May, 1840, have been in an immature state, and it is insisted, was not the subject of a sale. 2. By the common law, a growing crop could be levied on and sold, [1 Salk. Rep. 361; 1 Bos. & P. Rep. 307; 6 East’s Rep. 604, note 1; 2 Johns. Rep. 418, 422; 7 Mass. Rep. 34,] and our statue, [[[Aik. Dig. § 41, p. 167,] which forbids the levy of an *742 execution on a growing crop, is to receive a strict construction. It merely inhibits the levy, but the lien attaches, and a levy and sale may be made after the crop matures, and is gathered. 3. The contract does not purport to convey the growing crop, but is a mere executory agreement, requiring some act to be done by Harrison, in order to invest the claimants with the right of property. [Chit. on Con. 112, 207; 3 Johns. Rep. 338, 424; 5 Wend. Rep. 26; 13 Johns. Rep. 235; 8 Dowl. Rep, 693;] and until this act was done, the crop, no matter by who gathered, because liable to be seized for Harrison’s debts. A court of chancery would not compel a specific performance of the contract at the claimant’s instance. 4. The charge of the court is also objectionable in deciding disputed facts.\\nW. M. MURPHY, with whom was W. G. JONES, for the defendant--cited the act of 1821, [Aik. Dig. 167,] which declares it to be lawful to levy an execution on a planted crop, until it is gathered, and contended that no lien attached in favor of the plaintiff. This being the case, the defendant in execution was not restrained from making the contract which he did with the claimants.\\n**2 The lien of an execution is destroyed by an injunction, because it takes away the right to levy it. In short, whenever the right to levy an execution is but temporarily suspended, or withdrawn, the lien is during that time lost. [[[[Whipple v. Foot, 2 Johns. Rep. 216; 3 Wash. C. C. Rep. 66; 4 How. Rep. 130.]\\nIt is admitted that the contract between the defendant in execution, and the claimants, was in good faith, if so, the severance and removal of the cotton gave the latter a good title against all creditors of the former.\\nOpinion\\n\\nCOLLIER, C. J.\\n\\nThere can be no doubt that a growing crop has such an existence as to be the subject matter of a sale, mortgage, or other contract which possess an interest to vest in possession, either immediately or at some future time. This proposition has frequently been assumed as unquestionable; the point of inquiry generally being, whether under a statute of frauds, such as the 29 Chas. 2, it is a mere chattel, and transferrable by parol without writing. [Chitty on Con. 241-2, 332; Whipple v. Foot, 2 Johns. Rep. 422; Stewart v. Doughty, 9 Johns. Rep. 112; *743 Austin v. Sawyer, 9 Cow. Rep. 39. See also Ravesies v. Lee & Alston, at last term.] The contract set out in the bill of exceptions, we are inclined to think evidences rather a mortgage than an absolute sale. It recites that the claimants are involved as indorsers of a mercantile firm, of which the defendant was a partner; that an execution for upwards of fourteen thousand dollars against their estate, is in the sheriff’s hands, and that a conveyance is made of the crop of cotton, corn and oats, which the grantor agrees to give up at any time to the use of the claimants, so as to prevent injury to them as indorsers. The defendant in execution might at any time have divested the interest which the contract vested in the claimants, by discharging their liability as his indorsers, or a judgment creditor might have satisfied the lien, and when the crop was gathered, have levied on, and sold it under a fieri facias.\\nWe will then consider the writing under which the claimants assert a right, as a mortgage with a power to take possession any time during the year, unless they should be relieved from their engagements as indorsers. It is not pretended that their liability has been satisfied, and it is admitted that the parties have acted with good faith, so that it is a dry question of law, whether the right of the plaintiff, or the claimants shall prevail. Assuming for the present that the execution of the plaintiffs did not operate a lien upon the planted crop previous to the contract of May, 1840, we will inquire whether the defendant in execution had such an interest as could be levied on and sold.\\nThe claimants had previous to the levy of the execution taken possession of the crop, prepared the cotton for market, and removed it to a ware-house. This possession, it is insisted, was a trespass, because it was acquired in the absence of the defendant in execution, and without his consent then given. Conceding the truth of the facts stated in the bill of exceptions, and we think it will not follow, that the possession of the claimants is a nullity, and that the case must be considered as if they had never interfered with the crop. The contract contains an express undertaking to give up the crop at any time the claimants might require it for their indemnity, and if they took possession of it in the absence of the grantor, (though without his consent,) if he subsequently acquiesced in it, the inference would be, if necessary, that their acts were approved by him. Taking this to be clear *744 law, and it will be seen, that the defendant in execution at the time of the levy had nothing more than a mere equitable right to redeem the cotton by paying the debts indorsed by the claimants. He had no possession coupled with this equity, but only a naked equity, which it has been held cannot be reached by an ordinary execution. [Perkins and Elliott v. Mayfield, 5 Porter’s Rep. 182.]\\n**3 This brings us back to the question, whether the execution of the plaintiff was a lien on the growing crop, so as to defeat the mortgage to the claimants. It has been frequently mooted whether, at common law, corn, &c., before it is gathered, can be seized under a fieri facias. Mr. Dane, in remarking upon this point, says, “The American editor of Bacon’s Abridgment, says, ‘Wheat growing in the ground is a chattel, and subject to be taken in execution; and the sheriff may suffer it to grow till harvest, and then cut and sell it; or may perhaps sell it growing, and the purchaser will then be entitled to enter, for the purpose of cutting and carrying it away.” [He cites Whipple v. Foot, ut supra, also Poole’s case, Salk. 368; 1 Bos. & P. 397; 6 East, 604, n.] But Whipple v. Foot seems to be the only case that supports his position, that unripe wheat or corn may be taken in execution; and the same editor states that nothing can be taken in execution which cannot be sold. This position, says the learned commentator, is no doubt law. But it is unnecessary to consider how this matter stands at common law. The first section of the act of 1821, “To prevent sheriffs and other officers from levying executions in certain cases, enacts, that “It shall not be lawful for any sheriff or other officer, to levy a writ of fieri facias or other execution on the planted crop of a debtor, or person against whom an execution may issue, until the crop is gathered.” [Aik. Dig. 167.] Now here is an express inhibition to levy an execution on a crop while it remains on, or in the ground, and until it is severed from the soil to which it owes its growth. In respect to property thus situated, will the lien of an execution attach eo instanti upon its being placed in the hands of an officer? If so, the act cited, will only have the effect of keeping the right to levy it in abeyance until the crop is gathered. The lien of an execution does, not only operate so as to prevent the debtor from disposing of the property on which it attaches, but gives to the creditor the right to have it sold to satisfy his *745 judgment. The lien and the right to levy are intimately connected, and if the latter be taken away, or suspended, the effect, at common law, is the destruction of the former. This principle is fully established by Mansony and Hurtell v. The President, &c. of the Bank of the United States, and its assignees, and the citations contained in the opinion of the court in that case, as also in my opinion in Wood v. Gary, et al., both decided at the last term. That it was competent for the legislature to have made it unlawful to levy an execution on particular property, until its condition was changed, and still to give it a continuing lien, cannot be doubted; but there is nothing in the act in question to indicate that such is its intention. If the object was merely to suspend the sale, until the crop was gathered, it would have been very easy to have said so in explicit terms, but declaring as the statute does, in totidem verbis, that the execution shall not be levied, the legislature must be supposed to have meant what they have expressed. The act was induced by the doubts which existed as to what was the common law, and was intended to remove those doubts by declaring what should be the law in future. It does not create a lien or authorize a levy in a case in which the law, as it then existed, was silent. The idea that the lien attached upon the planted crop as soon as the execution was delivered to the sheriff, though the right to levy it was postponed until a severance took place, is attempted to be deduced from the last words of the section cited, viz: “until the crop is gathered.” These words cannot, upon any just principles of construction be regarded so potent as to give to an execution a retrospective effect. They do not refer to the lien, if they did they would postpone it until the crop was gathered; but it is the levy they relate to and postpone until that event takes place.\\n**4 The right to levy an execution on a planted crop, then, being expressly taken away by the statute, the lien which is connected with and consequent upon that right, never attaches until severance. This being the case, the right of the defendant in execution to make the contract which he did, is unquestionable, and the title of the claimants, coupled as it was with the possession, was paramount to any lien which the execution could exert.\\nThe circuit judge may have mistaken the law in supposing that the contract was a sale, but if he did, an error in that respect was very immaterial, for whether a sale or mortgage, as we have *746 seen, under the facts of the case, the defendant in execution has no interest that could be seised and sold under execution. There is no assumption of any material fact in the charge; but the possession of the claimant, the time when acquired, the gathering of the crop, &c., are all referred to the determination of the jury; who are instructed, if they find them according to the evidence adduced, that no lien ever attached in favor of the plaintiff. The bona fides of the contract was conceded, so that no charge was necessary on that point, and it could not with propriety enter into the inquiry of the jury.\\nIt results from what has been said, that the judgment of the circuit court is affirmed.\\n\\nDISSENTING OPINION.\\n\\nORMOND, J.\\n**4 The statute which presents the question before the court is, that “it shall not be lawful for any sheriff or other officer to levy a writ of fieei facias or other execution, on the planted crop of a debtor, or person against whom an execution may issue, until the crop is gathered.” [Clay’s Dig. 210, § 46.]\\nI shall not enter upon the enquiry, whether, at common law, an execution could be levied upon a growing crop, though I apprehend, it would not be difficult to maintain the affirmative of the proposition. It is sufficient for my purpose, that the statute supposes such to have been the law, as it doubtless was the practice.\\nThis act must be considered in connection with the other acts upon the same subject. The policy of the State, as indicated by these statutes, is undeniably that all the property of a debtor, real and personal, to which he has a legal title, shall be subject to sale by execution, and it appears to me that it would be difficult to assign a reason for the exemption of this species of property from the claims of judgment creditors, and for giving to the defendant in execution the right to dispose of it. It appears to me, with all deference, that the argument that because the sheriff was prohibited from levying on a ““planted crop,” that therefore the execution had lost its lien, and the debtor had the right to sell it, is a non sequitur. The mischief which the statute designed to remedy was, the sacrifice which would be necessarily made by the sale of an immature crop: the statute enables the debtor to retain it until it matures, and by severing it from the soil to put it *747 in a condition to bring its value--the lien in the mean time continuing in the plaintiff in execution.\\n**5 If further confirmation of the correctness of this view were necessary, it will be found, I think, in the language employed by the legislature. The sheriff is forbidden to levy on a “planted crop” until the crop is gathered. Now, if the view taken by the majority of the court, is correct, the right secured to the plaintiff in execution, of levying on the crop after it is gathered, may be frustrated, as it was in this case, by a sale by the defendant in execution, whilst the crop is in an immature state. The construction which has been put upon the statute, involves the singular anomaly, that the legislature, for the protection of the debtor, has forbidden the plaintiff in execution to sell the property of his debtor, because it is not in a condition to bring its value, and yet permits the debtor, voluntarily, by a sale, to submit to the same sacrifice, for his own benefit. It is, in effect, a gift to the defendant in execution, of the growing crop, provided he does not gather it himself, but disposes of it in its then condition. This, I feel a thorough conviction, was not the intention of the legislature; but that it was to secure him from loss, by prohibiting a levy and sale of the crop, until it was gathered, when the temporary suspension of the right to sell, ceased.\\nAll Citations\\n5 Ala. 740, 1843 WL 284\\nEnd of Document\\n© 2019 Thomson Reuters. No claim to original U.S. Government Works.\\nCiting References (9)\\nTreatment\\nTitle\\nDate\\nType\\nDepth\\nHeadnote(s)\\nCited by\\n1.  Booker v. Jones’s Adm’x\\n55 Ala. 266, 271 , Ala.\\nTrover for Conversion of Cotton, with Counts in Case. APPEAL from the Circuit Court of Hale. Tried before the Hon. M. J. SAFFOLD.\\nDec Term 1876\\nCase\\n—\\nCited by\\n2.  Lehman, Durr & Co. v. Marshall\\n47 Ala. 362, 376 , Ala.\\n[TROVER FOR CONVERSION OF COTTON.] APPEAL from the City Court of Montgomery. Tried before Hon. JOHN D. CUNNINGHAM.\\nJan Term 1872\\nCase\\n—\\nCited by\\n3.  Bibb v. Janney\\n45 Ala. 329, 334 , Ala.\\n[GARNISHMENT; WAGES; WAIVER OF EXEMPTION.] APPEAL from City Court of Montgomery. Tried before Hon. JOHN D. CUNNINGHAM.\\nJan Term 1871\\nCase\\n—\\nCited by\\n4.  McKenzie v. Lampley\\n31 Ala. 526, 527 , Ala.\\n[TRIAL OF RIGHT OF PROPERTY IN COTTON.] APPEAL from the Circuit Court of Barbour. Tried before the Hon. S. D. HALE.\\nJan Term 1858\\nCase\\n—\\nCited by\\n5.  Evans v. Lamar\\n21 Ala. 333, 335+ , Ala.\\nERROR to the Circuit Court of Autauga. Tried before the Hon. A. B. MOORE.\\nJun Term 1852\\nCase\\n—\\nCited by\\n 6.  Dewey v. Bowman\\n8 Cal. 145, 147 , Cal.\\nThe judgment of the Court below, against Jacob S. Cohen, should be reversed, for the following reasons: Because the finding of the Court was, so far as Cohen was concerned,...\\nJul Term 1857\\nCase\\n—\\nMentioned by\\n7.  Rees v. Coats\\n65 Ala. 256, 258 , Ala.\\nTrover for Conversion of Three Bales of Cotton. APPEAL from the Circuit Court of Etowah. Tried before the Hon. WM. L. WHITLOCK.\\nNov Term 1880\\nCase\\n—\\nMentioned by\\n8.  Edwards v. Thompson\\n4 S.W. 913, 914 , Tenn.\\nAppeal from circuit court, Weakley county.\\nMay 1887\\nCase\\n—\\n—\\n9.  Growing crops as subject to levy and seizure under attachment or execution\\n103 A.L.R. 464\\nGenerally, at common law, growing crops raised by annual planting, while still attached to the soil, are regarded as personal chattels, subject to levy and seizure under attachment...\\n1936\\nALR\\n—\\n—\\nTable of Authorities (3)\\nTreatment\\nReferenced Title\\nType\\nDepth\\nQuoted\\nPage Number\\nMentioned\\n1.  Austin v. Sawyer\\n9 Cow. 39, N.Y.Sup., 1828\\nParol evidence is not admissible to contradict, or substantially vary, a written contract. And where A. quit-claimed land to W., on which a crop of wheat was growing, reserving the...\\nCase\\n2\\nCited\\n 2.  Perkins v. Mayfield\\n5 Port. 182, Ala., 1837\\nOn writ of error to the Circuit Court of Tuskaloosa.\\nCase\\n2+\\nMentioned\\n3.  Stewart v. Doughty\\n9 Johns. 108, N.Y.Sup., 1812\\nA. let to B. a farm for six years, and A. agreed “to render, yield and pay to A. the one half of all the wheat, rye, corn and other grain, raised on the farm in each year, in the...\\nCase\\n2\\nFilings\\nThere are no Filings for this citation.\\nNegative Treatment\\nThere are no Negative Treatment results for this citation.\\nHistory\\nThere are no History results for this citation.'"
            ]
          },
          "metadata": {
            "tags": []
          },
          "execution_count": 21
        }
      ]
    },
    {
      "cell_type": "code",
      "metadata": {
        "id": "rbQ56jptg7sI",
        "colab_type": "code",
        "outputId": "69ec03a1-afb9-4781-e051-85e0ac153083",
        "colab": {
          "base_uri": "https://localhost:8080/",
          "height": 34
        }
      },
      "source": [
        "#(1) acts, e.g., “section 1 of the Advancing Hope Act, 1986”\n",
        "\n",
        "import lexnlp.extract.en.acts\n",
        "acts_of_adam = []\n",
        "if acts_of_adam in lexnlp.extract.en.acts.get_act_list(data_adam_file):\n",
        "  print(acts_of_adam)\n",
        "else:\n",
        "  print('none')\n",
        "#print(acts_of_adam)\n"
      ],
      "execution_count": 0,
      "outputs": [
        {
          "output_type": "stream",
          "text": [
            "none\n"
          ],
          "name": "stdout"
        }
      ]
    },
    {
      "cell_type": "code",
      "metadata": {
        "id": "Frv4NEKcg_63",
        "colab_type": "code",
        "outputId": "524308b4-24bd-4385-f771-b31f39121648",
        "colab": {
          "base_uri": "https://localhost:8080/",
          "height": 156
        }
      },
      "source": [
        "import nltk\n",
        "nltk.download('punkt')\n",
        "nltk.download('averaged_perceptron_tagger')\n",
        "nltk.download('wordnet')"
      ],
      "execution_count": 0,
      "outputs": [
        {
          "output_type": "stream",
          "text": [
            "[nltk_data] Downloading package punkt to /root/nltk_data...\n",
            "[nltk_data]   Unzipping tokenizers/punkt.zip.\n",
            "[nltk_data] Downloading package averaged_perceptron_tagger to\n",
            "[nltk_data]     /root/nltk_data...\n",
            "[nltk_data]   Unzipping taggers/averaged_perceptron_tagger.zip.\n",
            "[nltk_data] Downloading package wordnet to /root/nltk_data...\n",
            "[nltk_data]   Unzipping corpora/wordnet.zip.\n"
          ],
          "name": "stdout"
        },
        {
          "output_type": "execute_result",
          "data": {
            "text/plain": [
              "True"
            ]
          },
          "metadata": {
            "tags": []
          },
          "execution_count": 25
        }
      ]
    },
    {
      "cell_type": "code",
      "metadata": {
        "id": "Zjdjb26RipkT",
        "colab_type": "code",
        "outputId": "aafe0d3a-a5b5-45d6-bcde-fac2e67a382f",
        "colab": {
          "base_uri": "https://localhost:8080/",
          "height": 54
        }
      },
      "source": [
        "#(2) amounts, e.g., “ten pounds” or “5.8 megawatts”\n",
        "\n",
        "import lexnlp.extract.en.amounts\n",
        "print(list(lexnlp.extract.en.amounts.get_amounts(data_adam_file)))"
      ],
      "execution_count": 0,
      "outputs": [
        {
          "output_type": "stream",
          "text": [
            "[5.0, 740.0, 1843.0, 2.0, 1.0, 4.0, 2.0, 1821.0, 5.0, 1.0, 1840.0, 3777, 80.0, 100.0, 30, 1839.0, 741.0, 22, 1840.0, 14000, 120, 1, 1840.0, 3, 4, 1, 1.0, 1840.0, 2.0, 1.0, 361.0, 1.0, 307.0, 6.0, 604.0, 1.0, 2.0, 418.0, 422.0, 7.0, 34.0, 41.0, 167.0, 742.0, 3.0, 112.0, 207.0, 3.0, 338.0, 424.0, 5.0, 26.0, 13.0, 235.0, 8.0, 693.0, 4.0, 1821.0, 167.0, 2.0, 2.0, 216.0, 3.0, 66.0, 4.0, 130.0, 29.0, 2.0, 241.0, 2.0, 332.0, 2.0, 422.0, 9.0, 112.0, 743.0, 9.0, 39.0, 14000, 1840.0, 744.0, 5.0, 182.0, 3.0, 368.0, 1.0, 397.0, 6.0, 604.0, 1, 1821.0, 167.0, 745.0, 4.0, 746.0, 4.0, 210.0, 46.0, 747.0, 5.0, 5.0, 740.0, 1843.0, 284.0, 2019.0, 9.0, 1.0, 55.0, 266.0, 271.0, 1876.0, 2.0, 47.0, 362.0, 376.0, 1872.0, 3.0, 45.0, 329.0, 334.0, 1871.0, 4.0, 31.0, 526.0, 527.0, 1858.0, 5.0, 21.0, 333.0, 335.0, 1852.0, 6.0, 8.0, 145.0, 147.0, 1857.0, 7.0, 65.0, 256.0, 258.0, 3, 1880.0, 8.0, 4.0, 913.0, 914.0, 1887.0, 9.0, 103.0, 464.0, 1936.0, 3.0, 1.0, 9.0, 39.0, 1828.0, 2.0, 2.0, 5.0, 182.0, 1837.0, 2.0, 3.0, 9.0, 108.0, 1812.0, 6, 1, 2.0]\n"
          ],
          "name": "stdout"
        }
      ]
    },
    {
      "cell_type": "code",
      "metadata": {
        "id": "KFD1mKJfiuxQ",
        "colab_type": "code",
        "outputId": "e9e29192-3511-4667-c55a-eae6e49e1ec5",
        "colab": {
          "base_uri": "https://localhost:8080/",
          "height": 54
        }
      },
      "source": [
        "#(3) citations, e.g., “10 U.S. 100” or “1998 S. Ct. 1”\n",
        "import lexnlp.extract.en.citations\n",
        "print(list(lexnlp.extract.en.citations.get_citations(data_adam_file)))"
      ],
      "execution_count": 0,
      "outputs": [
        {
          "output_type": "stream",
          "text": [
            "[(5, 'Ala.', 'Alabama Reports', 740, None, None, None), (5, 'Ala.', 'Alabama Reports', 740, '1843', None, None), (55, 'Ala.', 'Alabama Reports', 266, '271', None, None), (47, 'Ala.', 'Alabama Reports', 362, '376', None, None), (45, 'Ala.', 'Alabama Reports', 329, '334', None, None), (31, 'Ala.', 'Alabama Reports', 526, '527', None, None), (21, 'Ala.', 'Alabama Reports', 333, '335', None, None), (8, 'Cal.', 'California Reports', 145, '147', None, None), (65, 'Ala.', 'Alabama Reports', 256, '258', None, None), (4, 'S.W.', 'South Western Reporter', 913, '914', None, None), (103, 'A.L.R.', 'American Law Reports', 464, None, None, None), (9, 'Cow.', \"Cowen's Reports\", 39, None, None, None), (5, 'Port.', 'Alabama Reports, Porter', 182, None, None, None), (9, 'Johns.', \"Johnson's Reports\", 108, None, None, None)]\n"
          ],
          "name": "stdout"
        }
      ]
    },
    {
      "cell_type": "code",
      "metadata": {
        "id": "4KLNRwSNjRnc",
        "colab_type": "code",
        "outputId": "0a473b48-8251-4060-bb11-da5ce878d4fe",
        "colab": {
          "base_uri": "https://localhost:8080/",
          "height": 34
        }
      },
      "source": [
        "#(4) companies, e.g., “Lexpredict LLC”\n",
        "import lexnlp.extract.en.entities.nltk_re\n",
        "print(list(lexnlp.extract.en.entities.nltk_re.get_companies(data_adam_file)))"
      ],
      "execution_count": 0,
      "outputs": [
        {
          "output_type": "stream",
          "text": [
            "[Lehman, Durr Co, (17983, 18001)]\n"
          ],
          "name": "stdout"
        }
      ]
    },
    {
      "cell_type": "code",
      "metadata": {
        "id": "TflzOAtzj1e0",
        "colab_type": "code",
        "outputId": "73151512-e823-4ef5-c018-429d27069cbf",
        "colab": {
          "base_uri": "https://localhost:8080/",
          "height": 54
        }
      },
      "source": [
        "#(5) conditions, e.g., “subject to …” or “unless and until …”\n",
        "import lexnlp.extract.en.conditions\n",
        "print(list(lexnlp.extract.en.conditions.get_conditions(data_adam_file)))"
      ],
      "execution_count": 0,
      "outputs": [
        {
          "output_type": "stream",
          "text": [
            "[('until', '[2]\\nCreditors’ Remedies\\nLien and Priority\\nUnder St.1821, prohibiting a levy on a crop', ''), ('until', 'on a growing crop, nor does such lien attach', ''), ('if', 'It was proved by the claimants, by the production of a written contract, that Harrison, on the twenty-second of May, 1840, in consideration that the claimants were involved, as indorsers for Burton & Harrison of Sumter county, and were then exposed to an execution, amounting to upwards of fourteen thousand dollars, bargained and sold to the claimants all his growing crop of cotton &c., consisting of one hundred and twenty acres, &c. Allen Harrison promised and obliged himself to give up his crop to the use of the claimants at any time to save them from suffering as his indorsers;', ''), ('when', 'The claimants came from Tennessee, (where they resided) about the first of September, 1840, bringing with them three or four white laborers, and took possession of the crop and slaves, and with the latter, and white laborers, gathered the cotton, prepared it for market, and', ''), ('if', 'The court charged the jury, that the plaintiff had no lien by virtue of his judgment, and execution on the growing crop; that Harrison had a right to convey it, without being in any manner restrained by them; that the writing adduced, was a sale of the crop, but', ''), ('when', 'it was not, and the lien of the fieri facias would have attached upon it,', ''), ('if', 'gathered, yet', ''), ('not subject to', 'the claimants obtained possession on the first of September, and controlled the gathering of the crop, then no lien attached, and it was', ''), ('until', 'Rep, 693;] and', ''), ('until', '167,] which declares it to be lawful to levy an execution on a planted crop,', ''), ('if', 'It is admitted that the contract between the defendant in execution, and the claimants, was in good faith,', ''), ('when', 'The defendant in execution might at any time have divested the interest which the contract vested in the claimants, by discharging their liability as his indorsers, or a judgment creditor might have satisfied the lien, and', ''), ('unless', 'We will then consider the writing under which the claimants assert a right, as a mortgage with a power to take possession any time during the year,', ''), ('if', 'Conceding the truth of the facts stated in the bill of exceptions, and we think it will not follow, that the possession of the claimants is a nullity, and that the case must be considered as', ''), ('if', 'The contract contains an express undertaking to give up the crop at any time the claimants might require it for their indemnity, and', ''), ('if', 'they took possession of it in the absence of the grantor, (though without his consent,)', ''), ('if', 'he subsequently acquiesced in it, the inference would be,', ''), ('subject to', 'Mr. Dane, in remarking upon this point, says, “The American editor of Bacon’s Abridgment, says, ‘Wheat growing in the ground is a chattel, and', ''), ('until', 'The first section of the act of 1821, “To prevent sheriffs and other officers from levying executions in certain cases, enacts, that “It shall not be lawful for any sheriff or other officer, to levy a writ of fieri facias or other execution on the planted crop of a debtor, or person against whom an execution may issue,', ''), ('until', 'Now here is an express inhibition to levy an execution on a crop while it remains on, or in the ground, and', ''), ('until', 'If so, the act cited, will only have the effect of keeping the right to levy it in abeyance', ''), ('if', 'The lien and the right to levy are intimately connected, and', ''), ('until', 'That it was competent for the legislature to have made it unlawful to levy an execution on particular property,', ''), ('until', 'If the object was merely to suspend the sale,', ''), ('as soon as', 'The idea that the lien attached upon the planted crop', ''), ('until', 'the execution was delivered to the sheriff, though the right to levy it was postponed', ''), ('if', 'They do not refer to the lien,', ''), ('until', 'they did they would postpone it', ''), ('until', 'the crop was gathered; but it is the levy they relate to and postpone', ''), ('until', '**4 The right to levy an execution on a planted crop, then, being expressly taken away by the statute, the lien which is connected with and consequent upon that right, never attaches', ''), ('if', 'The circuit judge may have mistaken the law in supposing that the contract was a sale, but', ''), ('when', 'There is no assumption of any material fact in the charge; but the possession of the claimant, the time', ''), ('if', 'acquired, the gathering of the crop, &c., are all referred to the determination of the jury; who are instructed,', ''), ('until', '**4 The statute which presents the question before the court is, that “it shall not be lawful for any sheriff or other officer to levy a writ of fieei facias or other execution, on the planted crop of a debtor, or person against whom an execution may issue,', ''), ('subject to', 'The policy of the State, as indicated by these statutes, is undeniably that all the property of a debtor, real and personal, to which he has a legal title, shall be', ''), ('until', 'The mischief which the statute designed to remedy was, the sacrifice which would be necessarily made by the sale of an immature crop: the statute enables the debtor to retain it', ''), ('if', '**5', ''), ('until', 'The sheriff is forbidden to levy on a “planted crop”', ''), ('if', 'Now,', ''), ('until', 'This, I feel a thorough conviction, was not the intention of the legislature; but that it was to secure him from loss, by prohibiting a levy and sale of the crop,', ''), ('when', 'it was gathered,', ''), ('subject to', 'Growing crops as', ''), ('subject to', '464\\nGenerally, at common law, growing crops raised by annual planting, while still attached to the soil, are regarded as personal chattels,', ''), ('where', 'And', '')]\n"
          ],
          "name": "stdout"
        }
      ]
    },
    {
      "cell_type": "code",
      "metadata": {
        "id": "3IWcHtRLj7Gv",
        "colab_type": "code",
        "outputId": "1fc00bc6-b642-4fa3-c064-5df2be6fe29b",
        "colab": {
          "base_uri": "https://localhost:8080/",
          "height": 54
        }
      },
      "source": [
        "#(6) constraints, e.g., “no more than”\n",
        "import lexnlp.extract.en.constraints\n",
        "print(list(lexnlp.extract.en.constraints.get_constraints(data_adam_file)))"
      ],
      "execution_count": 0,
      "outputs": [
        {
          "output_type": "stream",
          "text": [
            "[('after', 'on a growing crop, nor does such lien attach until', ''), ('after', '', ' and that alias and pluries fieri facias’, issued regularly up to the time levy was made; that the cotton levied on was growed on the plantation of harrison, and cultivated by the hands in his service.'), ('first of', 'the claimants came from tennessee, (where they resided) about the', ''), ('first of', 'the court charged the jury, that the plaintiff had no lien by virtue of his judgment, and execution on the growing crop; that harrison had a right to convey it, without being in any manner restrained by them; that the writing adduced, was a sale of the crop, but if it was not, and the lien of the fieri facias would have attached upon it, when gathered, yet if the claimants obtained possession on the', ''), ('after', 'it merely inhibits the levy, but the lien attaches, and a levy and sale may be made', ''), ('more than', 'taking this to be clear *744 law, and it will be seen, that the defendant in execution at the time of the levy had nothing', ''), ('before', 'it has been frequently mooted whether, at common law, corn, &c.,', ''), ('before', '**4 the statute which presents the question', ''), ('after', 'now, if the view taken by the majority of the court, is correct, the right secured to the plaintiff in execution, of levying on the crop', ''), ('before', 'tried', ''), ('before', 'tried', ''), ('before', 'tried', ''), ('before', 'tried', ''), ('before', 'tried', ''), ('before', 'tried', '')]\n"
          ],
          "name": "stdout"
        }
      ]
    },
    {
      "cell_type": "code",
      "metadata": {
        "id": "z9i00P6GkJdP",
        "colab_type": "code",
        "outputId": "9f0651d3-9e63-4ec1-e07e-8e438714752d",
        "colab": {
          "base_uri": "https://localhost:8080/",
          "height": 34
        }
      },
      "source": [
        "#(7) copyright, e.g., “(C) Copyright 2000 Acme”\n",
        "import lexnlp.extract.en.copyright\n",
        "print(list(lexnlp.extract.en.copyright.get_copyright(data_adam_file)))"
      ],
      "execution_count": 0,
      "outputs": [
        {
          "output_type": "stream",
          "text": [
            "[('©', '2019', 'Thomson Reuters. No')]\n"
          ],
          "name": "stdout"
        }
      ]
    },
    {
      "cell_type": "code",
      "metadata": {
        "id": "gTDxm41nkThz",
        "colab_type": "code",
        "colab": {}
      },
      "source": [
        "#(8) courts, e.g., “Supreme Court of New York”\n",
        "import lexnlp.extract.en.courts\n",
        "text = \"The case will be heard in E.D. Va. next month\"\n",
        "court_config_data = [entity_config(0, \"Eastern District of Virginia\", 0, [\"E.D. Va.\"]),\n",
        "    entity_config(1, \"Western District of Virginia\", 0, [\"W.D. Va.\"])]\n",
        "for entity, alias in lexnlp.extract.en.courts.get_courts(text, court_config_data):\n",
        "    print(\"entity=\", entity)\n",
        "    print(\"alias=\", alias)"
      ],
      "execution_count": 0,
      "outputs": []
    },
    {
      "cell_type": "code",
      "metadata": {
        "id": "f5ODZdOoqUKE",
        "colab_type": "code",
        "outputId": "4a841825-92c4-4db9-ae44-9bf5afe8e438",
        "colab": {
          "base_uri": "https://localhost:8080/",
          "height": 34
        }
      },
      "source": [
        "#(9) CUSIP, e.g., “392690QT3”\n",
        "import lexnlp.extract.en.cusip\n",
        "print(lexnlp.extract.en.cusip.get_cusip(data_adam_file))"
      ],
      "execution_count": 0,
      "outputs": [
        {
          "output_type": "stream",
          "text": [
            "<generator object get_cusip at 0x7f8edfe3a2b0>\n"
          ],
          "name": "stdout"
        }
      ]
    },
    {
      "cell_type": "code",
      "metadata": {
        "id": "5y28fqUwtqBR",
        "colab_type": "code",
        "outputId": "0834378f-cb52-41fd-92a6-a3e2223ffb0c",
        "colab": {
          "base_uri": "https://localhost:8080/",
          "height": 141
        }
      },
      "source": [
        "#(10) dates, e.g., “June 1, 2017” or “2018-01-01”\n",
        "\n",
        "import lexnlp.extract.en.dates\n"
      ],
      "execution_count": 0,
      "outputs": [
        {
          "output_type": "stream",
          "text": [
            "/usr/local/lib/python3.6/dist-packages/sklearn/base.py:318: UserWarning: Trying to unpickle estimator SelectKBest from version 0.19.0 when using version 0.22.1. This might lead to breaking code or invalid results. Use at your own risk.\n",
            "  collected_tags = _update_if_consistent(collected_tags,\n",
            "/usr/local/lib/python3.6/dist-packages/sklearn/base.py:318: UserWarning: Trying to unpickle estimator LogisticRegressionCV from version 0.19.0 when using version 0.22.1. This might lead to breaking code or invalid results. Use at your own risk.\n",
            "  collected_tags = _update_if_consistent(collected_tags,\n",
            "/usr/local/lib/python3.6/dist-packages/sklearn/base.py:318: UserWarning: Trying to unpickle estimator Pipeline from version 0.19.0 when using version 0.22.1. This might lead to breaking code or invalid results. Use at your own risk.\n",
            "  collected_tags = _update_if_consistent(collected_tags,\n"
          ],
          "name": "stderr"
        }
      ]
    },
    {
      "cell_type": "code",
      "metadata": {
        "id": "WFWWdabJuu0o",
        "colab_type": "code",
        "outputId": "d3caa18c-0a6b-41bf-ca29-86900dca9764",
        "colab": {
          "base_uri": "https://localhost:8080/",
          "height": 54
        }
      },
      "source": [
        "print(list(lexnlp.extract.en.dates.get_dates(data_adam_file)))"
      ],
      "execution_count": 0,
      "outputs": [
        {
          "output_type": "stream",
          "text": [
            "[datetime.date(2020, 6, 1), datetime.date(1840, 11, 1), datetime.date(1839, 10, 1), datetime.date(1840, 5, 1), datetime.date(1840, 9, 1), datetime.date(1840, 5, 1), datetime.date(1840, 5, 1), datetime.date(2020, 12, 1), datetime.date(2020, 12, 1), datetime.date(2020, 1, 1), datetime.date(2020, 1, 1), datetime.date(2020, 1, 1), datetime.date(2020, 3, 21), datetime.date(2020, 6, 1), datetime.date(2020, 7, 1), datetime.date(2020, 11, 1), datetime.date(1887, 5, 1)]\n"
          ],
          "name": "stdout"
        }
      ]
    },
    {
      "cell_type": "code",
      "metadata": {
        "id": "B6-30T9LuxSm",
        "colab_type": "code",
        "outputId": "7be59ae9-7848-4703-a22d-821169224c3a",
        "colab": {
          "base_uri": "https://localhost:8080/",
          "height": 34
        }
      },
      "source": [
        "#(11) definitions, e.g., “Term shall mean …”\n",
        "import lexnlp.extract.en.definitions\n",
        "if acts_of_adam in lexnlp.extract.en.definitions.get_definitions(data_adam_file):\n",
        "  print(acts_of_adam)\n",
        "else:\n",
        "  print('none')"
      ],
      "execution_count": 0,
      "outputs": [
        {
          "output_type": "stream",
          "text": [
            "none\n"
          ],
          "name": "stdout"
        }
      ]
    },
    {
      "cell_type": "code",
      "metadata": {
        "id": "CPKXmYUpvZSs",
        "colab_type": "code",
        "outputId": "364487e9-9400-4084-b53e-fbd3c006c0d2",
        "colab": {
          "base_uri": "https://localhost:8080/",
          "height": 34
        }
      },
      "source": [
        "#(12) distances, e.g., “fifteen miles”\n",
        "import lexnlp.extract.en.distances\n",
        "if acts_of_adam in lexnlp.extract.en.distances.get_distances(data_adam_file):\n",
        "  print(acts_of_adam)\n",
        "else:\n",
        "  print('none')"
      ],
      "execution_count": 0,
      "outputs": [
        {
          "output_type": "stream",
          "text": [
            "none\n"
          ],
          "name": "stdout"
        }
      ]
    },
    {
      "cell_type": "code",
      "metadata": {
        "id": "5US1-niav3E_",
        "colab_type": "code",
        "outputId": "0edac7ba-6c45-4d42-b5e1-3b88c6d197e8",
        "colab": {
          "base_uri": "https://localhost:8080/",
          "height": 34
        }
      },
      "source": [
        "#(13) durations, e.g., “ten years” or “thirty days”\n",
        "import lexnlp.extract.en.durations\n",
        "if acts_of_adam in lexnlp.extract.en.durations.get_durations(data_adam_file):\n",
        "  print(acts_of_adam)\n",
        "else:\n",
        "  print('none')\n",
        "\n"
      ],
      "execution_count": 0,
      "outputs": [
        {
          "output_type": "stream",
          "text": [
            "none\n"
          ],
          "name": "stdout"
        }
      ]
    },
    {
      "cell_type": "code",
      "metadata": {
        "id": "mh8SFP-0wTJB",
        "colab_type": "code",
        "outputId": "9ecf4593-cd03-42f3-c577-0ba028acb390",
        "colab": {
          "base_uri": "https://localhost:8080/",
          "height": 34
        }
      },
      "source": [
        "#(14) geographic and geopolitical entities, e.g., “New York” or “Norway\n",
        "import lexnlp.extract.en.geoentities \n",
        "try:\n",
        "  print(list(lexnlp.extract.en.geoentities.get_geoentities(data_adam_file)))\n",
        "except:\n",
        "  print(None)"
      ],
      "execution_count": 0,
      "outputs": [
        {
          "output_type": "stream",
          "text": [
            "None\n"
          ],
          "name": "stdout"
        }
      ]
    },
    {
      "cell_type": "code",
      "metadata": {
        "id": "MAq0wlfy15OG",
        "colab_type": "code",
        "outputId": "97c1b322-390c-408a-efad-439c146414cb",
        "colab": {
          "base_uri": "https://localhost:8080/",
          "height": 34
        }
      },
      "source": [
        "#(15) money and currency usages, e.g., “$5” or “10 Euro”\n",
        "import lexnlp.extract.en.money\n",
        "print(list(lexnlp.extract.en.money.get_money(data_adam_file)))"
      ],
      "execution_count": 0,
      "outputs": [
        {
          "output_type": "stream",
          "text": [
            "[(100.0, 'USD'), (14000, 'USD'), (14000, 'USD')]\n"
          ],
          "name": "stdout"
        }
      ]
    },
    {
      "cell_type": "code",
      "metadata": {
        "id": "LHu5yUqm2UKX",
        "colab_type": "code",
        "outputId": "912b022f-9889-4463-f7fb-128c8f238144",
        "colab": {
          "base_uri": "https://localhost:8080/",
          "height": 34
        }
      },
      "source": [
        "#(16) percents and rates, e.g., “10%” or “50 bps”\n",
        "import lexnlp.extract.en.percents\n",
        "\n",
        "\n",
        "if acts_of_adam in lexnlp.extract.en.percents.get_percents(data_adam_file):\n",
        "  print(acts_of_adam)\n",
        "else:\n",
        "  print('none')\n"
      ],
      "execution_count": 0,
      "outputs": [
        {
          "output_type": "stream",
          "text": [
            "none\n"
          ],
          "name": "stdout"
        }
      ]
    },
    {
      "cell_type": "code",
      "metadata": {
        "id": "bzQwR1iN2-qs",
        "colab_type": "code",
        "outputId": "6773c50b-1e07-47f6-dc7b-d054f9ad8faa",
        "colab": {
          "base_uri": "https://localhost:8080/",
          "height": 34
        }
      },
      "source": [
        "#(17) PII, e.g., “212-212-2121” or “999-999-9999”\n",
        "import lexnlp.extract.en.pii\n",
        "if acts_of_adam in lexnlp.extract.en.pii.get_pii(data_adam_file):\n",
        "  print(acts_of_adam)\n",
        "else:\n",
        "  print('none')\n"
      ],
      "execution_count": 0,
      "outputs": [
        {
          "output_type": "stream",
          "text": [
            "none\n"
          ],
          "name": "stdout"
        }
      ]
    },
    {
      "cell_type": "code",
      "metadata": {
        "id": "cj2QQ6-Q3c4M",
        "colab_type": "code",
        "outputId": "ce779991-9cb3-4885-f187-94568c882798",
        "colab": {
          "base_uri": "https://localhost:8080/",
          "height": 34
        }
      },
      "source": [
        "#(18) ratios, e.g.,” 3:1” or “four to three”\n",
        "import lexnlp.extract.en.ratios\n",
        "if acts_of_adam in lexnlp.extract.en.ratios.get_ratios(data_adam_file):\n",
        "  print(acts_of_adam)\n",
        "else:\n",
        "  print('none')"
      ],
      "execution_count": 0,
      "outputs": [
        {
          "output_type": "stream",
          "text": [
            "none\n"
          ],
          "name": "stdout"
        }
      ]
    },
    {
      "cell_type": "code",
      "metadata": {
        "id": "OWug_yV-3-kM",
        "colab_type": "code",
        "outputId": "6a6b03d0-c5a1-41d7-8761-daef4c74c8ae",
        "colab": {
          "base_uri": "https://localhost:8080/",
          "height": 34
        }
      },
      "source": [
        "#(19) regulations, e.g., “32 CFR 170”\n",
        "import lexnlp.extract.en.regulations\n",
        "if acts_of_adam in lexnlp.extract.en.regulations.get_regulations(data_adam_file):\n",
        "  print(acts_of_adam)\n",
        "else:\n",
        "  print('none')"
      ],
      "execution_count": 0,
      "outputs": [
        {
          "output_type": "stream",
          "text": [
            "none\n"
          ],
          "name": "stdout"
        }
      ]
    },
    {
      "cell_type": "code",
      "metadata": {
        "id": "RHltLzqD4z9e",
        "colab_type": "code",
        "outputId": "822bc594-f618-42c7-f88c-335cfab2d69d",
        "colab": {
          "base_uri": "https://localhost:8080/",
          "height": 34
        }
      },
      "source": [
        "#(20) trademarks, e.g., “MyApp (TM)”\n",
        "import lexnlp.extract.en.trademarks\n",
        "if acts_of_adam in lexnlp.extract.en.trademarks.get_trademarks(data_adam_file):\n",
        "  print(acts_of_adam)\n",
        "else:\n",
        "  print('none')"
      ],
      "execution_count": 0,
      "outputs": [
        {
          "output_type": "stream",
          "text": [
            "none\n"
          ],
          "name": "stdout"
        }
      ]
    },
    {
      "cell_type": "code",
      "metadata": {
        "id": "bR5lDDKD5FqU",
        "colab_type": "code",
        "outputId": "8a3b61cd-546b-4b9b-a26d-b31a0446d5b0",
        "colab": {
          "base_uri": "https://localhost:8080/",
          "height": 34
        }
      },
      "source": [
        "#(21) URLs, e.g., “http://acme.com/”\n",
        "\n",
        "import lexnlp.extract.en.urls\n",
        "if acts_of_adam in lexnlp.extract.en.urls.get_urls(data_adam_file):\n",
        "  print(acts_of_adam)\n",
        "else:\n",
        "  print('none')\n"
      ],
      "execution_count": 0,
      "outputs": [
        {
          "output_type": "stream",
          "text": [
            "none\n"
          ],
          "name": "stdout"
        }
      ]
    },
    {
      "cell_type": "code",
      "metadata": {
        "id": "ZSxIbQBH55tq",
        "colab_type": "code",
        "outputId": "8cd2effc-8ee2-4857-fab5-e594ab294365",
        "colab": {
          "base_uri": "https://localhost:8080/",
          "height": 1000
        }
      },
      "source": [
        "#(22) addresses, e.g., “1999 Mount Read Blvd, Rochester, NY, USA, 14615”\n",
        "\n",
        "#(23) persons, e.g., “John Doe\n",
        "\n",
        "list1 = nlp(data_adam_file)\n",
        "list2 = [(i.text, i.label_) for i in list1.ents]\n",
        "print(list2)\n",
        "for name in [\"PERSON\"]:\n",
        "  print(name)\n",
        "  for a,b in list2:\n",
        "    if b == name:\n",
        "      print(a)\n",
        "for address in [\"GPE\"]:\n",
        "  print(address) \n",
        "  for a, b in list2:\n",
        "    if b == address:\n",
        "      print(a)      "
      ],
      "execution_count": 0,
      "outputs": [
        {
          "output_type": "stream",
          "text": [
            "[('5', 'CARDINAL'), ('Supreme Court of Alabama', 'ORG'), ('ADAMS', 'ORG'), ('TANNER', 'ORG'), ('HORTON', 'ORG'), ('Synopsis', 'GPE'), ('WRIT', 'PERSON'), ('Error', 'PERSON'), ('the Circuit Court of Sumter', 'ORG'), ('West Headnotes', 'GPE'), ('2', 'CARDINAL'), ('1', 'CARDINAL'), ('Chattel', 'ORG'), ('4', 'CARDINAL'), ('2', 'CARDINAL'), ('Lien', 'PERSON'), ('5', 'CARDINAL'), ('1', 'CARDINAL'), ('November, 1840', 'DATE'), ('Sumter', 'ORG'), ('Allen Harrison', 'PERSON'), ('thirty-seven hundred and seventy-seven', 'CARDINAL'), ('Allen Harrison', 'PERSON'), ('October, 1839', 'DATE'), ('741', 'CARDINAL'), ('7th', 'ORDINAL'), ('Harrison', 'GPE'), ('Harrison', 'GPE'), ('the twenty-second of May, 1840', 'DATE'), ('Burton & Harrison of Sumter county', 'ORG'), ('fourteen thousand dollars', 'MONEY'), ('one hundred and twenty acres', 'QUANTITY'), ('Allen Harrison', 'PERSON'), ('Gainesville', 'GPE'), ('Tennessee', 'GPE'), ('about the first of September, 1840', 'DATE'), ('three or four', 'CARDINAL'), ('Gainesville', 'GPE'), ('Harrison', 'PERSON'), ('Harrison', 'PERSON'), ('the first of September', 'DATE'), ('Attorneys', 'PERSON'), ('R. H. SMITH', 'PERSON'), ('Harrison', 'GPE'), ('May, 1840', 'DATE'), ('2', 'CARDINAL'), ('1', 'CARDINAL'), ('361', 'CARDINAL'), ('1', 'CARDINAL'), ('& P.', 'ORG'), ('307', 'CARDINAL'), ('6', 'CARDINAL'), ('604', 'CARDINAL'), ('1', 'CARDINAL'), ('2', 'CARDINAL'), ('Johns', 'ORG'), ('418', 'CARDINAL'), ('422', 'CARDINAL'), ('7', 'CARDINAL'), ('34', 'DATE'), ('41', 'CARDINAL'), ('167', 'CARDINAL'), ('742', 'CARDINAL'), ('3', 'CARDINAL'), ('Harrison', 'PERSON'), ('Chit', 'PERSON'), ('Con', 'PERSON'), ('112', 'CARDINAL'), ('207', 'CARDINAL'), ('3', 'CARDINAL'), ('Johns', 'ORG'), ('338', 'CARDINAL'), ('424', 'CARDINAL'), ('5', 'CARDINAL'), ('Wend', 'ORG'), ('26', 'CARDINAL'), ('13', 'CARDINAL'), ('Johns', 'ORG'), ('235', 'CARDINAL'), ('8', 'CARDINAL'), ('693', 'CARDINAL'), ('Harrison', 'GPE'), ('4', 'CARDINAL'), ('W. M. MURPHY', 'PERSON'), ('W. G. JONES', 'PERSON'), ('1821', 'DATE'), ('167', 'CARDINAL'), ('2', 'CARDINAL'), ('2', 'CARDINAL'), ('216', 'CARDINAL'), ('3', 'CARDINAL'), ('66', 'CARDINAL'), ('4', 'CARDINAL'), ('130', 'CARDINAL'), ('C. J.\\n\\n', 'PERSON'), ('the 29 Chas', 'ORG'), ('2', 'CARDINAL'), ('Chitty on Con', 'PERSON'), ('241', 'CARDINAL'), ('332', 'CARDINAL'), ('Whipple v. Foot', 'ORG'), ('2', 'CARDINAL'), ('422', 'CARDINAL'), ('Stewart', 'PERSON'), ('Doughty', 'PERSON'), ('9', 'CARDINAL'), ('112', 'CARDINAL'), ('743', 'CARDINAL'), ('Austin', 'PERSON'), ('Sawyer', 'PERSON'), ('9', 'CARDINAL'), ('39', 'CARDINAL'), ('Lee & Alston', 'ORG'), ('fourteen thousand dollars', 'MONEY'), ('the year', 'DATE'), ('May, 1840', 'DATE'), ('744', 'CARDINAL'), ('Perkins', 'PERSON'), ('Elliott', 'GPE'), ('Mayfield', 'PERSON'), ('5', 'CARDINAL'), ('Porter’s', 'ORG'), ('182', 'CARDINAL'), ('3', 'CARDINAL'), ('Dane', 'PERSON'), ('American', 'NORP'), ('Bacon’s Abridgment', 'ORG'), ('Wheat', 'PERSON'), ('Whipple v. Foot', 'ORG'), ('Poole’s', 'ORG'), ('Salk', 'ORG'), ('368', 'CARDINAL'), ('1', 'CARDINAL'), ('6', 'CARDINAL'), ('East', 'LOC'), ('604', 'CARDINAL'), ('Whipple', 'ORG'), ('Foot', 'ORG'), ('first', 'ORDINAL'), ('the act of 1821', 'DATE'), ('167', 'CARDINAL'), ('745', 'CARDINAL'), ('Mansony', 'ORG'), ('Hurtell', 'PERSON'), ('the Bank of the United States', 'ORG'), ('4', 'CARDINAL'), ('746', 'CARDINAL'), ('J.\\n', 'ORG'), ('4', 'CARDINAL'), ('Clay’s Dig', 'WORK_OF_ART'), ('210', 'CARDINAL'), ('46', 'CARDINAL'), ('State', 'ORG'), ('747', 'CARDINAL'), ('5', 'CARDINAL'), ('5', 'CARDINAL'), ('1843', 'CARDINAL'), ('End of Document\\n', 'ORG'), ('Thomson Reuters', 'ORG'), ('U.S. Government Works', 'ORG'), ('Citing References', 'PERSON'), ('9', 'CARDINAL'), ('1', 'CARDINAL'), ('Booker', 'PERSON'), ('55', 'CARDINAL'), ('Ala. 266', 'DATE'), ('271', 'CARDINAL'), ('Ala.', 'GPE'), ('Conversion of Cotton', 'ORG'), ('Case', 'GPE'), ('the Circuit Court of Hale', 'ORG'), ('M. J. SAFFOLD', 'PERSON'), ('Dec Term 1876', 'PERSON'), ('2', 'CARDINAL'), ('Lehman, Durr & Co.', 'ORG'), ('Marshall', 'PERSON'), ('47', 'CARDINAL'), ('362', 'CARDINAL'), ('376', 'CARDINAL'), ('Ala.', 'GPE'), ('TROVER', 'ORG'), ('COTTON', 'ORG'), ('the City Court of Montgomery', 'ORG'), ('JOHN D. CUNNINGHAM', 'PERSON'), ('Jan Term 1872', 'PERSON'), ('3', 'CARDINAL'), ('Bibb', 'PERSON'), ('Janney', 'PERSON'), ('45', 'CARDINAL'), ('329', 'CARDINAL'), ('334', 'CARDINAL'), ('Ala.', 'GPE'), ('WAGES', 'ORG'), ('WAIVER', 'ORG'), ('APPEAL', 'ORG'), ('City Court of Montgomery', 'ORG'), ('JOHN D. CUNNINGHAM', 'PERSON'), ('Jan Term 1871', 'PERSON'), ('4', 'CARDINAL'), ('McKenzie', 'PERSON'), ('31', 'CARDINAL'), ('527', 'CARDINAL'), ('Ala.', 'GPE'), ('the Circuit Court of Barbour', 'ORG'), ('S. D. HALE', 'PERSON'), ('Jan Term 1858', 'PERSON'), ('5', 'CARDINAL'), ('Evans', 'PERSON'), ('Lamar', 'ORG'), ('21', 'CARDINAL'), ('333', 'CARDINAL'), ('335', 'CARDINAL'), ('Ala.', 'GPE'), ('ERROR', 'ORG'), ('the Circuit Court of Autauga', 'ORG'), ('A. B. MOORE', 'PERSON'), ('Jun Term 1852', 'PERSON'), ('6', 'CARDINAL'), ('Bowman', 'PERSON'), ('8', 'CARDINAL'), ('Cal', 'ORG'), ('145', 'CARDINAL'), ('147', 'CARDINAL'), ('Court', 'ORG'), ('Jacob S. Cohen', 'PERSON'), ('Court', 'ORG'), ('Cohen', 'PERSON'), ('Jul Term', 'PERSON'), ('7', 'CARDINAL'), ('65', 'CARDINAL'), ('258', 'CARDINAL'), ('Ala.', 'GPE'), ('Cotton', 'GPE'), ('APPEAL', 'ORG'), ('the Circuit Court of Etowah', 'ORG'), ('L. WHITLOCK', 'PERSON'), ('8', 'CARDINAL'), ('Edwards', 'PERSON'), ('Thompson', 'ORG'), ('4', 'CARDINAL'), ('914', 'CARDINAL'), ('Tenn.', 'GPE'), ('Weakley county', 'GPE'), ('May 1887', 'DATE'), ('9', 'CARDINAL'), ('103', 'CARDINAL'), ('annual', 'DATE'), ('1936', 'DATE'), ('3', 'CARDINAL'), ('Referenced Title', 'PERSON'), ('1', 'CARDINAL'), ('Austin', 'PERSON'), ('Sawyer', 'PERSON'), ('9 Cow', 'QUANTITY'), ('39', 'CARDINAL'), ('1828', 'DATE'), ('W.', 'PERSON'), ('2', 'CARDINAL'), ('Cited', 'ORG'), ('2', 'CARDINAL'), ('Perkins', 'PERSON'), ('Mayfield', 'GPE'), ('5', 'CARDINAL'), ('182', 'CARDINAL'), ('Ala.', 'GPE'), ('1837', 'DATE'), ('the Circuit Court of Tuskaloosa', 'ORG'), ('2', 'CARDINAL'), ('3', 'CARDINAL'), ('Stewart', 'PERSON'), ('9', 'CARDINAL'), ('Johns', 'ORG'), ('108', 'CARDINAL'), ('1812', 'DATE'), ('six years', 'DATE'), ('A.', 'ORG'), ('each year', 'DATE'), ('2', 'CARDINAL'), ('History', 'NORP')]\n",
            "PERSON\n",
            "WRIT\n",
            "Error\n",
            "Lien\n",
            "Allen Harrison\n",
            "Allen Harrison\n",
            "Allen Harrison\n",
            "Harrison\n",
            "Harrison\n",
            "Attorneys\n",
            "R. H. SMITH\n",
            "Harrison\n",
            "Chit\n",
            "Con\n",
            "W. M. MURPHY\n",
            "W. G. JONES\n",
            "C. J.\n",
            "\n",
            "\n",
            "Chitty on Con\n",
            "Stewart\n",
            "Doughty\n",
            "Austin\n",
            "Sawyer\n",
            "Perkins\n",
            "Mayfield\n",
            "Dane\n",
            "Wheat\n",
            "Hurtell\n",
            "Citing References\n",
            "Booker\n",
            "M. J. SAFFOLD\n",
            "Dec Term 1876\n",
            "Marshall\n",
            "JOHN D. CUNNINGHAM\n",
            "Jan Term 1872\n",
            "Bibb\n",
            "Janney\n",
            "JOHN D. CUNNINGHAM\n",
            "Jan Term 1871\n",
            "McKenzie\n",
            "S. D. HALE\n",
            "Jan Term 1858\n",
            "Evans\n",
            "A. B. MOORE\n",
            "Jun Term 1852\n",
            "Bowman\n",
            "Jacob S. Cohen\n",
            "Cohen\n",
            "Jul Term\n",
            "L. WHITLOCK\n",
            "Edwards\n",
            "Referenced Title\n",
            "Austin\n",
            "Sawyer\n",
            "W.\n",
            "Perkins\n",
            "Stewart\n",
            "GPE\n",
            "Synopsis\n",
            "West Headnotes\n",
            "Harrison\n",
            "Harrison\n",
            "Gainesville\n",
            "Tennessee\n",
            "Gainesville\n",
            "Harrison\n",
            "Harrison\n",
            "Elliott\n",
            "Ala.\n",
            "Case\n",
            "Ala.\n",
            "Ala.\n",
            "Ala.\n",
            "Ala.\n",
            "Ala.\n",
            "Cotton\n",
            "Tenn.\n",
            "Weakley county\n",
            "Mayfield\n",
            "Ala.\n"
          ],
          "name": "stdout"
        }
      ]
    },
    {
      "cell_type": "code",
      "metadata": {
        "id": "ic9OdABAF7K4",
        "colab_type": "code",
        "colab": {}
      },
      "source": [
        ""
      ],
      "execution_count": 0,
      "outputs": []
    }
  ]
}