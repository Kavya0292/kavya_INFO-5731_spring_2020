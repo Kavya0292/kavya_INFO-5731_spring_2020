{
  "nbformat": 4,
  "nbformat_minor": 0,
  "metadata": {
    "colab": {
      "name": "Copy of In-class-exercise-04.ipynb",
      "provenance": [],
      "collapsed_sections": [],
      "include_colab_link": true
    },
    "kernelspec": {
      "name": "python3",
      "display_name": "Python 3"
    }
  },
  "cells": [
    {
      "cell_type": "markdown",
      "metadata": {
        "id": "view-in-github",
        "colab_type": "text"
      },
      "source": [
        "<a href=\"https://colab.research.google.com/github/kavyaperavali/kavya_INFO-5731_spring_2020/blob/master/Copy_of_In_class_exercise_04.ipynb\" target=\"_parent\"><img src=\"https://colab.research.google.com/assets/colab-badge.svg\" alt=\"Open In Colab\"/></a>"
      ]
    },
    {
      "cell_type": "markdown",
      "metadata": {
        "id": "EuX00KHNeSpw",
        "colab_type": "text"
      },
      "source": [
        "# **The fourth in-class-exercise**"
      ]
    },
    {
      "cell_type": "markdown",
      "metadata": {
        "id": "s-vTOb03hG1f",
        "colab_type": "text"
      },
      "source": [
        "# 1. Text Data Preprocessing\n",
        "\n",
        "Here is a [legal case](https://github.com/unt-iialab/INFO5731_Spring2020/blob/master/In_class_exercise/01-05-1%20%20Adams%20v%20Tanner.txt) we collected from westlaw, please follow the steps we mentioned in lesson 5 to clean the data:\n",
        "\n",
        "\n",
        "\n",
        "## 1.1 Basic feature extraction using text data\n",
        "\n",
        "*   Number of sentences\n",
        "*   Number of words\n",
        "*   Number of characters\n",
        "*   Average word length\n",
        "*   Number of stopwords\n",
        "*   Number of special characters\n",
        "*   Number of numerics\n",
        "*   Number of uppercase words\n",
        "\n",
        "## 1.2 Basic Text Pre-processing of text data\n",
        "\n",
        "*   Lower casing\n",
        "*   Punctuation removal\n",
        "*   Stopwords removal\n",
        "*   Frequent words removal\n",
        "*   Rare words removal\n",
        "*   Spelling correction\n",
        "*   Tokenization\n",
        "*   Stemming\n",
        "*   Lemmatization\n",
        "\n",
        "## 1.3 Save all the **clean sentences** to a **csv file** (one column, each raw is a sentence) after finishing all the steps above.\n",
        "\n",
        "\n",
        "## 1.4 Advance Text Processing\n",
        "\n",
        "*   Calculate the term frequency of all the terms.\n",
        "*   Print out top 10 1-gram, top 10 2-grams, and top 10 2-grams terms as features.\n"
      ]
    },
    {
      "cell_type": "code",
      "metadata": {
        "id": "vR0L3_CreM_A",
        "colab_type": "code",
        "colab": {}
      },
      "source": [
        "pip install pysbd"
      ],
      "execution_count": 0,
      "outputs": []
    },
    {
      "cell_type": "code",
      "metadata": {
        "id": "x-lX3vv6yfyG",
        "colab_type": "code",
        "outputId": "ebf2da2f-7cb6-4dc1-e01c-3b8ff9f55687",
        "colab": {
          "base_uri": "https://localhost:8080/",
          "height": 34
        }
      },
      "source": [
        "# 1.1.1 Number of sentences \n",
        "d = open(\"file.txt\", \"r\", encoding='cp1252')\n",
        "f = d.read()\n",
        "import pysbd\n",
        "seg = pysbd.Segmenter(language =\"en\", clean = False)\n",
        "segmentedlist  = seg.segment(f)\n",
        "num = len(segmentedlist)\n",
        "print(\"Total number of sentences in the given text file:-\", num)"
      ],
      "execution_count": 0,
      "outputs": [
        {
          "output_type": "stream",
          "text": [
            "Total number of sentences in the given text file:- 220\n"
          ],
          "name": "stdout"
        }
      ]
    },
    {
      "cell_type": "code",
      "metadata": {
        "id": "cWYDFP4AynpK",
        "colab_type": "code",
        "outputId": "89e45a74-a23d-42ce-d7cd-220b79b80780",
        "colab": {
          "base_uri": "https://localhost:8080/",
          "height": 34
        }
      },
      "source": [
        "#1.1.2 Number of words\n",
        "from collections import Counter\n",
        "#word_list = f.split()\n",
        "words = f.split()\n",
        "print('Number of words in text file :', len(words))"
      ],
      "execution_count": 0,
      "outputs": [
        {
          "output_type": "stream",
          "text": [
            "Number of words in text file : 3707\n"
          ],
          "name": "stdout"
        }
      ]
    },
    {
      "cell_type": "code",
      "metadata": {
        "id": "RtTBdu5Myo0e",
        "colab_type": "code",
        "outputId": "faaf7240-6a19-4803-e6d8-0d548f0de3de",
        "colab": {
          "base_uri": "https://localhost:8080/",
          "height": 34
        }
      },
      "source": [
        "#1.1.3 Number of characters \n",
        "number_of_characters = len(f)\n",
        "print(\"Number of characters in the Text file:-\", number_of_characters)"
      ],
      "execution_count": 0,
      "outputs": [
        {
          "output_type": "stream",
          "text": [
            "Number of characters in the Text file:- 20453\n"
          ],
          "name": "stdout"
        }
      ]
    },
    {
      "cell_type": "code",
      "metadata": {
        "id": "bYWee1xMytD2",
        "colab_type": "code",
        "outputId": "e18ce854-f97c-4b63-cc33-7cb435d937fd",
        "colab": {
          "base_uri": "https://localhost:8080/",
          "height": 34
        }
      },
      "source": [
        "#1.1.4 Average word length ---- Method 1\n",
        "d = open(\"file.txt\", \"r\", encoding='cp1252')\n",
        "total_wordcount_sum = 0\n",
        "total_wordlength_sum = 0\n",
        "for line in d:\n",
        "    word_1 = line.split()\n",
        "    # sum up the word counts\n",
        "    total_wordcount_sum += len(word_1)\n",
        "    for w in word_1:\n",
        "        # sum up the word lengths\n",
        "        total_wordlength_sum += len(w) \n",
        "total_wordlength_average = total_wordlength_sum/float(total_wordcount_sum) # invoke floating point division\n",
        "print(\"Average word length:- \", total_wordlength_average)\n",
        "\n"
      ],
      "execution_count": 0,
      "outputs": [
        {
          "output_type": "stream",
          "text": [
            "Average word length:-  4.510385756676558\n"
          ],
          "name": "stdout"
        }
      ]
    },
    {
      "cell_type": "code",
      "metadata": {
        "id": "nf_9blD1y2eK",
        "colab_type": "code",
        "outputId": "cc4dffd8-c5c7-47da-c85c-5f4671e2e5e9",
        "colab": {
          "base_uri": "https://localhost:8080/",
          "height": 34
        }
      },
      "source": [
        "#1.1.4 Average word length ---- Method 2\n",
        "with  open(\"file.txt\", \"r\", encoding='cp1252') as f:\n",
        "  w = [len(word) for line in f for word in line.rstrip().split(\" \")]\n",
        "  w_avg = sum(w)/len(w)\n",
        "  print(\"Average word length:- \", w_avg)"
      ],
      "execution_count": 0,
      "outputs": [
        {
          "output_type": "stream",
          "text": [
            "Average word length:-  4.478971336726493\n"
          ],
          "name": "stdout"
        }
      ]
    },
    {
      "cell_type": "code",
      "metadata": {
        "id": "kg20pcA9y61A",
        "colab_type": "code",
        "colab": {}
      },
      "source": [
        "pip install stop-words"
      ],
      "execution_count": 0,
      "outputs": []
    },
    {
      "cell_type": "code",
      "metadata": {
        "id": "OmaO54LKy7K7",
        "colab_type": "code",
        "colab": {}
      },
      "source": [
        "pip install nltk"
      ],
      "execution_count": 0,
      "outputs": []
    },
    {
      "cell_type": "code",
      "metadata": {
        "id": "UqMyD2h45h2z",
        "colab_type": "code",
        "outputId": "4cc680b6-26d2-4c9d-bcd7-b56c7af45559",
        "colab": {
          "base_uri": "https://localhost:8080/",
          "height": 102
        }
      },
      "source": [
        "import nltk\n",
        "nltk.download('stopwords')\n",
        "nltk.download('punkt')"
      ],
      "execution_count": 0,
      "outputs": [
        {
          "output_type": "stream",
          "text": [
            "[nltk_data] Downloading package stopwords to /root/nltk_data...\n",
            "[nltk_data]   Package stopwords is already up-to-date!\n",
            "[nltk_data] Downloading package punkt to /root/nltk_data...\n",
            "[nltk_data]   Package punkt is already up-to-date!\n"
          ],
          "name": "stdout"
        },
        {
          "output_type": "execute_result",
          "data": {
            "text/plain": [
              "True"
            ]
          },
          "metadata": {
            "tags": []
          },
          "execution_count": 33
        }
      ]
    },
    {
      "cell_type": "code",
      "metadata": {
        "id": "hm3Rt92Qy7WZ",
        "colab_type": "code",
        "outputId": "a656b20d-f9e0-4b1b-c566-2266d1d1c20d",
        "colab": {
          "base_uri": "https://localhost:8080/",
          "height": 34
        }
      },
      "source": [
        "#1.1.5 Number of stopwords\n",
        "from nltk.corpus import stopwords\n",
        "from nltk.tokenize import word_tokenize \n",
        "import pandas as pd\n",
        "lists=[]\n",
        "incrementer=0\n",
        "stop_words=stopwords.words(\"english\")\n",
        "b=[a for a in segmentedlist]\n",
        "df=pd.DataFrame(b,columns=['text_data'])\n",
        "for temp in df['text_data']:\n",
        "  tokens=word_tokenize(temp)\n",
        "  for y in tokens:\n",
        "    if y in stop_words:\n",
        "      incrementer=incrementer+1\n",
        "print('Stop Words Count',incrementer)"
      ],
      "execution_count": 0,
      "outputs": [
        {
          "output_type": "stream",
          "text": [
            "Stop Words Count 1734\n"
          ],
          "name": "stdout"
        }
      ]
    },
    {
      "cell_type": "code",
      "metadata": {
        "id": "BIFFAdssy7bA",
        "colab_type": "code",
        "outputId": "d7f36446-fe7f-4ca9-8ac6-07b4380def4a",
        "colab": {
          "base_uri": "https://localhost:8080/",
          "height": 34
        }
      },
      "source": [
        "#1.1.6 Number of Special Characters \n",
        "d = open(\"file.txt\", \"r\", encoding='cp1252')\n",
        "f = d.read()\n",
        "special_char = 0\n",
        "for line in f:\n",
        "  special_char += sum(not x.isalnum() for x in line)\n",
        "print(\"Total number of special characters in the file:=\", special_char)"
      ],
      "execution_count": 0,
      "outputs": [
        {
          "output_type": "stream",
          "text": [
            "Total number of special characters in the file:= 4550\n"
          ],
          "name": "stdout"
        }
      ]
    },
    {
      "cell_type": "code",
      "metadata": {
        "id": "4ELKbxopy7eI",
        "colab_type": "code",
        "outputId": "7f2a4246-17e5-4671-d4de-80911c9ec92f",
        "colab": {
          "base_uri": "https://localhost:8080/",
          "height": 34
        }
      },
      "source": [
        "#1.1.7 Number of numerics\n",
        "\n",
        "value = [ i for i in f]\n",
        "numerics = len(list(filter(lambda x: x.isdigit(), value)))\n",
        "print(\"The Number of numerics:-\", numerics)"
      ],
      "execution_count": 0,
      "outputs": [
        {
          "output_type": "stream",
          "text": [
            "The Number of numerics:- 356\n"
          ],
          "name": "stdout"
        }
      ]
    },
    {
      "cell_type": "code",
      "metadata": {
        "id": "0BDWOAhhzQWW",
        "colab_type": "code",
        "outputId": "0e25db5a-d0a4-42b5-db4e-f09b5927f0fc",
        "colab": {
          "base_uri": "https://localhost:8080/",
          "height": 34
        }
      },
      "source": [
        "#1.1.8 Number of uppercase words. Method-1\n",
        "\n",
        "uppercase_words = len(list(filter(lambda x: x.isupper(), value)))\n",
        "print(\"The Number of uppercase words:-\", uppercase_words)"
      ],
      "execution_count": 0,
      "outputs": [
        {
          "output_type": "stream",
          "text": [
            "The Number of uppercase words:- 695\n"
          ],
          "name": "stdout"
        }
      ]
    },
    {
      "cell_type": "code",
      "metadata": {
        "id": "jYDwOayyzUHC",
        "colab_type": "code",
        "outputId": "5bd0fe53-c4c6-4de0-af1b-8f95230bee38",
        "colab": {
          "base_uri": "https://localhost:8080/",
          "height": 34
        }
      },
      "source": [
        "#1.1.8 Number of uppercase words. Method-2\n",
        "d = open(\"file.txt\", \"r\", encoding='cp1252')\n",
        "f = d.read()\n",
        "uppercase_words = 0\n",
        "uppercase =['A','B','C','D','E','F','G','H','I','J','K','L','M','N','O','P','Q','R','S','T','U','V','W','X','Y','Z']\n",
        "for character in f:\n",
        "  if character in uppercase:\n",
        "    uppercase_words += 1\n",
        "print('The Number of uppercase words is:-',uppercase_words)"
      ],
      "execution_count": 0,
      "outputs": [
        {
          "output_type": "stream",
          "text": [
            "The Number of uppercase words is:- 695\n"
          ],
          "name": "stdout"
        }
      ]
    },
    {
      "cell_type": "code",
      "metadata": {
        "id": "-AC9JqdpzXem",
        "colab_type": "code",
        "outputId": "e412229d-ad1b-4792-aff2-e98c13dcb7f6",
        "colab": {
          "base_uri": "https://localhost:8080/",
          "height": 1000
        }
      },
      "source": [
        "#1.2.1 Lower casing all the data\n",
        "\n",
        "with open(\"file.txt\", \"r\", encoding='cp1252') as f:\n",
        "   for line in f:\n",
        "       line = line.lower()\n",
        "       print(line)"
      ],
      "execution_count": 0,
      "outputs": [
        {
          "output_type": "stream",
          "text": [
            "\n",
            "\n",
            "5 ala. 740\n",
            "\n",
            "supreme court of alabama.\n",
            "\n",
            "adams\n",
            "\n",
            "v.\n",
            "\n",
            "tanner and horton.\n",
            "\n",
            "june term, 1843.\n",
            "\n",
            "synopsis\n",
            "\n",
            "writ of error to the circuit court of sumter.\n",
            "\n",
            " \n",
            "\n",
            "\n",
            "\n",
            "\n",
            "\n",
            "west headnotes (2)\n",
            "\n",
            "\n",
            "\n",
            "\n",
            "\n",
            "[1]\n",
            "\n",
            "chattel mortgages\n",
            "\n",
            "crops\n",
            "\n",
            "a growing crop has such an existence as to be the subject-matter of a mortgage or other contract which passes an interest to vest in possession, either immediately or at a future time.\n",
            "\n",
            "4 cases that cite this headnote\n",
            "\n",
            "\n",
            "\n",
            "[2]\n",
            "\n",
            "creditors’ remedies\n",
            "\n",
            "lien and priority\n",
            "\n",
            "under st.1821, prohibiting a levy on a crop until it has been gathered, no lien attaches in favor of a fi. fa. on a growing crop, nor does such lien attach until after the crop has been gathered.\n",
            "\n",
            "5 cases that cite this headnote\n",
            "\n",
            "\n",
            "\n",
            "**1 this was a trial of the right of property under the statute. in november, 1840, an execution issued from the circuit court of sumter, at the suit of the plaintiff in error, requiring the sheriff of that county, to make of the goods, &c., of allen harrison and others, the sum of thirty-seven hundred and seventy-seven 80-100 dollars, besides costs. this execution was levied on thirty bales of cotton, as the property of allen harrison, which was claimed, and a bond given to try the right. an issue was made up to try the question of the liability of the cotton to the plaintiff’s execution, and submitted to a jury. on the trial, a bill of exceptions was sealed at the instance of the plaintiff. the plaintiff proved that he recovered his judgment in october, 1839; that an execution *741 was issued thereon on the 7th nov. thereafter, and that alias and pluries fieri facias’, issued regularly up to the time levy was made; that the cotton levied on was growed on the plantation of harrison, and cultivated by the hands in his service. it was proved by the claimants, by the production of a written contract, that harrison, on the twenty-second of may, 1840, in consideration that the claimants were involved, as indorsers for burton & harrison of sumter county, and were then exposed to an execution, amounting to upwards of fourteen thousand dollars, bargained and sold to the claimants all his growing crop of cotton &c., consisting of one hundred and twenty acres, &c. allen harrison promised and obliged himself to give up his crop to the use of the claimants at any time to save them from suffering as his indorsers; if the crop matured and was gathered he undertook to deliver the cotton in gainesville. the claimants came from tennessee, (where they resided) about the first of september, 1840, bringing with them three or four white laborers, and took possession of the crop and slaves, and with the latter, and white laborers, gathered the cotton, prepared it for market, and when levied on, it was in a ware-house in gainesville. the plaintiff then proved by harrison, that the claimants took possession of the crop, while he was absent, and disposed of it without his consent. it was admitted, that the contract was made in good faith.\n",
            "\n",
            "the court charged the jury, that the plaintiff had no lien by virtue of his judgment, and execution on the growing crop; that harrison had a right to convey it, without being in any manner restrained by them; that the writing adduced, was a sale of the crop, but if it was not, and the lien of the fieri facias would have attached upon it, when gathered, yet if the claimants obtained possession on the first of september, and controlled the gathering of the crop, then no lien attached, and it was not subject to the levy.\n",
            "\n",
            "attorneys and law firms\n",
            "\n",
            "r. h. smith, for the plaintiff, in error, made the following points.--1. the crop of harrison, must, in may, 1840, have been in an immature state, and it is insisted, was not the subject of a sale. 2. by the common law, a growing crop could be levied on and sold, [1 salk. rep. 361; 1 bos. & p. rep. 307; 6 east’s rep. 604, note 1; 2 johns. rep. 418, 422; 7 mass. rep. 34,] and our statue, [[[aik. dig. § 41, p. 167,] which forbids the levy of an *742 execution on a growing crop, is to receive a strict construction. it merely inhibits the levy, but the lien attaches, and a levy and sale may be made after the crop matures, and is gathered. 3. the contract does not purport to convey the growing crop, but is a mere executory agreement, requiring some act to be done by harrison, in order to invest the claimants with the right of property. [chit. on con. 112, 207; 3 johns. rep. 338, 424; 5 wend. rep. 26; 13 johns. rep. 235; 8 dowl. rep, 693;] and until this act was done, the crop, no matter by who gathered, because liable to be seized for harrison’s debts. a court of chancery would not compel a specific performance of the contract at the claimant’s instance. 4. the charge of the court is also objectionable in deciding disputed facts.\n",
            "\n",
            "w. m. murphy, with whom was w. g. jones, for the defendant--cited the act of 1821, [aik. dig. 167,] which declares it to be lawful to levy an execution on a planted crop, until it is gathered, and contended that no lien attached in favor of the plaintiff. this being the case, the defendant in execution was not restrained from making the contract which he did with the claimants.\n",
            "\n",
            "**2 the lien of an execution is destroyed by an injunction, because it takes away the right to levy it. in short, whenever the right to levy an execution is but temporarily suspended, or withdrawn, the lien is during that time lost. [[[[whipple v. foot, 2 johns. rep. 216; 3 wash. c. c. rep. 66; 4 how. rep. 130.]\n",
            "\n",
            "it is admitted that the contract between the defendant in execution, and the claimants, was in good faith, if so, the severance and removal of the cotton gave the latter a good title against all creditors of the former.\n",
            "\n",
            "opinion\n",
            "\n",
            "\n",
            "\n",
            "collier, c. j.\n",
            "\n",
            "\n",
            "\n",
            "there can be no doubt that a growing crop has such an existence as to be the subject matter of a sale, mortgage, or other contract which possess an interest to vest in possession, either immediately or at some future time. this proposition has frequently been assumed as unquestionable; the point of inquiry generally being, whether under a statute of frauds, such as the 29 chas. 2, it is a mere chattel, and transferrable by parol without writing. [chitty on con. 241-2, 332; whipple v. foot, 2 johns. rep. 422; stewart v. doughty, 9 johns. rep. 112; *743 austin v. sawyer, 9 cow. rep. 39. see also ravesies v. lee & alston, at last term.] the contract set out in the bill of exceptions, we are inclined to think evidences rather a mortgage than an absolute sale. it recites that the claimants are involved as indorsers of a mercantile firm, of which the defendant was a partner; that an execution for upwards of fourteen thousand dollars against their estate, is in the sheriff’s hands, and that a conveyance is made of the crop of cotton, corn and oats, which the grantor agrees to give up at any time to the use of the claimants, so as to prevent injury to them as indorsers. the defendant in execution might at any time have divested the interest which the contract vested in the claimants, by discharging their liability as his indorsers, or a judgment creditor might have satisfied the lien, and when the crop was gathered, have levied on, and sold it under a fieri facias.\n",
            "\n",
            "we will then consider the writing under which the claimants assert a right, as a mortgage with a power to take possession any time during the year, unless they should be relieved from their engagements as indorsers. it is not pretended that their liability has been satisfied, and it is admitted that the parties have acted with good faith, so that it is a dry question of law, whether the right of the plaintiff, or the claimants shall prevail. assuming for the present that the execution of the plaintiffs did not operate a lien upon the planted crop previous to the contract of may, 1840, we will inquire whether the defendant in execution had such an interest as could be levied on and sold.\n",
            "\n",
            "the claimants had previous to the levy of the execution taken possession of the crop, prepared the cotton for market, and removed it to a ware-house. this possession, it is insisted, was a trespass, because it was acquired in the absence of the defendant in execution, and without his consent then given. conceding the truth of the facts stated in the bill of exceptions, and we think it will not follow, that the possession of the claimants is a nullity, and that the case must be considered as if they had never interfered with the crop. the contract contains an express undertaking to give up the crop at any time the claimants might require it for their indemnity, and if they took possession of it in the absence of the grantor, (though without his consent,) if he subsequently acquiesced in it, the inference would be, if necessary, that their acts were approved by him. taking this to be clear *744 law, and it will be seen, that the defendant in execution at the time of the levy had nothing more than a mere equitable right to redeem the cotton by paying the debts indorsed by the claimants. he had no possession coupled with this equity, but only a naked equity, which it has been held cannot be reached by an ordinary execution. [perkins and elliott v. mayfield, 5 porter’s rep. 182.]\n",
            "\n",
            "**3 this brings us back to the question, whether the execution of the plaintiff was a lien on the growing crop, so as to defeat the mortgage to the claimants. it has been frequently mooted whether, at common law, corn, &c., before it is gathered, can be seized under a fieri facias. mr. dane, in remarking upon this point, says, “the american editor of bacon’s abridgment, says, ‘wheat growing in the ground is a chattel, and subject to be taken in execution; and the sheriff may suffer it to grow till harvest, and then cut and sell it; or may perhaps sell it growing, and the purchaser will then be entitled to enter, for the purpose of cutting and carrying it away.” [he cites whipple v. foot, ut supra, also poole’s case, salk. 368; 1 bos. & p. 397; 6 east, 604, n.] but whipple v. foot seems to be the only case that supports his position, that unripe wheat or corn may be taken in execution; and the same editor states that nothing can be taken in execution which cannot be sold. this position, says the learned commentator, is no doubt law. but it is unnecessary to consider how this matter stands at common law. the first section of the act of 1821, “to prevent sheriffs and other officers from levying executions in certain cases, enacts, that “it shall not be lawful for any sheriff or other officer, to levy a writ of fieri facias or other execution on the planted crop of a debtor, or person against whom an execution may issue, until the crop is gathered.” [aik. dig. 167.] now here is an express inhibition to levy an execution on a crop while it remains on, or in the ground, and until it is severed from the soil to which it owes its growth. in respect to property thus situated, will the lien of an execution attach eo instanti upon its being placed in the hands of an officer? if so, the act cited, will only have the effect of keeping the right to levy it in abeyance until the crop is gathered. the lien of an execution does, not only operate so as to prevent the debtor from disposing of the property on which it attaches, but gives to the creditor the right to have it sold to satisfy his *745 judgment. the lien and the right to levy are intimately connected, and if the latter be taken away, or suspended, the effect, at common law, is the destruction of the former. this principle is fully established by mansony and hurtell v. the president, &c. of the bank of the united states, and its assignees, and the citations contained in the opinion of the court in that case, as also in my opinion in wood v. gary, et al., both decided at the last term. that it was competent for the legislature to have made it unlawful to levy an execution on particular property, until its condition was changed, and still to give it a continuing lien, cannot be doubted; but there is nothing in the act in question to indicate that such is its intention. if the object was merely to suspend the sale, until the crop was gathered, it would have been very easy to have said so in explicit terms, but declaring as the statute does, in totidem verbis, that the execution shall not be levied, the legislature must be supposed to have meant what they have expressed. the act was induced by the doubts which existed as to what was the common law, and was intended to remove those doubts by declaring what should be the law in future. it does not create a lien or authorize a levy in a case in which the law, as it then existed, was silent. the idea that the lien attached upon the planted crop as soon as the execution was delivered to the sheriff, though the right to levy it was postponed until a severance took place, is attempted to be deduced from the last words of the section cited, viz: “until the crop is gathered.” these words cannot, upon any just principles of construction be regarded so potent as to give to an execution a retrospective effect. they do not refer to the lien, if they did they would postpone it until the crop was gathered; but it is the levy they relate to and postpone until that event takes place.\n",
            "\n",
            "**4 the right to levy an execution on a planted crop, then, being expressly taken away by the statute, the lien which is connected with and consequent upon that right, never attaches until severance. this being the case, the right of the defendant in execution to make the contract which he did, is unquestionable, and the title of the claimants, coupled as it was with the possession, was paramount to any lien which the execution could exert.\n",
            "\n",
            "the circuit judge may have mistaken the law in supposing that the contract was a sale, but if he did, an error in that respect was very immaterial, for whether a sale or mortgage, as we have *746 seen, under the facts of the case, the defendant in execution has no interest that could be seised and sold under execution. there is no assumption of any material fact in the charge; but the possession of the claimant, the time when acquired, the gathering of the crop, &c., are all referred to the determination of the jury; who are instructed, if they find them according to the evidence adduced, that no lien ever attached in favor of the plaintiff. the bona fides of the contract was conceded, so that no charge was necessary on that point, and it could not with propriety enter into the inquiry of the jury.\n",
            "\n",
            "it results from what has been said, that the judgment of the circuit court is affirmed.\n",
            "\n",
            "\n",
            "\n",
            "dissenting opinion.\n",
            "\n",
            "\n",
            "\n",
            "ormond, j.\n",
            "\n",
            "**4 the statute which presents the question before the court is, that “it shall not be lawful for any sheriff or other officer to levy a writ of fieei facias or other execution, on the planted crop of a debtor, or person against whom an execution may issue, until the crop is gathered.” [clay’s dig. 210, § 46.]\n",
            "\n",
            "i shall not enter upon the enquiry, whether, at common law, an execution could be levied upon a growing crop, though i apprehend, it would not be difficult to maintain the affirmative of the proposition. it is sufficient for my purpose, that the statute supposes such to have been the law, as it doubtless was the practice.\n",
            "\n",
            "this act must be considered in connection with the other acts upon the same subject. the policy of the state, as indicated by these statutes, is undeniably that all the property of a debtor, real and personal, to which he has a legal title, shall be subject to sale by execution, and it appears to me that it would be difficult to assign a reason for the exemption of this species of property from the claims of judgment creditors, and for giving to the defendant in execution the right to dispose of it. it appears to me, with all deference, that the argument that because the sheriff was prohibited from levying on a ““planted crop,” that therefore the execution had lost its lien, and the debtor had the right to sell it, is a non sequitur. the mischief which the statute designed to remedy was, the sacrifice which would be necessarily made by the sale of an immature crop: the statute enables the debtor to retain it until it matures, and by severing it from the soil to put it *747 in a condition to bring its value--the lien in the mean time continuing in the plaintiff in execution.\n",
            "\n",
            "**5 if further confirmation of the correctness of this view were necessary, it will be found, i think, in the language employed by the legislature. the sheriff is forbidden to levy on a “planted crop” until the crop is gathered. now, if the view taken by the majority of the court, is correct, the right secured to the plaintiff in execution, of levying on the crop after it is gathered, may be frustrated, as it was in this case, by a sale by the defendant in execution, whilst the crop is in an immature state. the construction which has been put upon the statute, involves the singular anomaly, that the legislature, for the protection of the debtor, has forbidden the plaintiff in execution to sell the property of his debtor, because it is not in a condition to bring its value, and yet permits the debtor, voluntarily, by a sale, to submit to the same sacrifice, for his own benefit. it is, in effect, a gift to the defendant in execution, of the growing crop, provided he does not gather it himself, but disposes of it in its then condition. this, i feel a thorough conviction, was not the intention of the legislature; but that it was to secure him from loss, by prohibiting a levy and sale of the crop, until it was gathered, when the temporary suspension of the right to sell, ceased.\n",
            "\n",
            "all citations\n",
            "\n",
            "5 ala. 740, 1843 wl 284\n",
            "\n",
            "end of document\n",
            "\n",
            "© 2019 thomson reuters. no claim to original u.s. government works.\n",
            "\n",
            "citing references (9)\n",
            "\n",
            "treatment\n",
            "\n",
            "title\n",
            "\n",
            "date\n",
            "\n",
            "type\n",
            "\n",
            "depth\n",
            "\n",
            "headnote(s)\n",
            "\n",
            "cited by\n",
            "\n",
            "1.  booker v. jones’s adm’x\n",
            "\n",
            "55 ala. 266, 271 , ala.\n",
            "\n",
            "trover for conversion of cotton, with counts in case. appeal from the circuit court of hale. tried before the hon. m. j. saffold.\n",
            "\n",
            "dec term 1876\n",
            "\n",
            "case\n",
            "\n",
            "—\n",
            "\n",
            "cited by\n",
            "\n",
            "2.  lehman, durr & co. v. marshall\n",
            "\n",
            "47 ala. 362, 376 , ala.\n",
            "\n",
            "[trover for conversion of cotton.] appeal from the city court of montgomery. tried before hon. john d. cunningham.\n",
            "\n",
            "jan term 1872\n",
            "\n",
            "case\n",
            "\n",
            "—\n",
            "\n",
            "cited by\n",
            "\n",
            "3.  bibb v. janney\n",
            "\n",
            "45 ala. 329, 334 , ala.\n",
            "\n",
            "[garnishment; wages; waiver of exemption.] appeal from city court of montgomery. tried before hon. john d. cunningham.\n",
            "\n",
            "jan term 1871\n",
            "\n",
            "case\n",
            "\n",
            "—\n",
            "\n",
            "cited by\n",
            "\n",
            "4.  mckenzie v. lampley\n",
            "\n",
            "31 ala. 526, 527 , ala.\n",
            "\n",
            "[trial of right of property in cotton.] appeal from the circuit court of barbour. tried before the hon. s. d. hale.\n",
            "\n",
            "jan term 1858\n",
            "\n",
            "case\n",
            "\n",
            "—\n",
            "\n",
            "cited by\n",
            "\n",
            "5.  evans v. lamar\n",
            "\n",
            "21 ala. 333, 335+ , ala.\n",
            "\n",
            "error to the circuit court of autauga. tried before the hon. a. b. moore.\n",
            "\n",
            "jun term 1852\n",
            "\n",
            "case\n",
            "\n",
            "—\n",
            "\n",
            "cited by\n",
            "\n",
            " 6.  dewey v. bowman\n",
            "\n",
            "8 cal. 145, 147 , cal.\n",
            "\n",
            "the judgment of the court below, against jacob s. cohen, should be reversed, for the following reasons: because the finding of the court was, so far as cohen was concerned,...\n",
            "\n",
            "jul term 1857\n",
            "\n",
            "case\n",
            "\n",
            "—\n",
            "\n",
            "mentioned by\n",
            "\n",
            "7.  rees v. coats\n",
            "\n",
            "65 ala. 256, 258 , ala.\n",
            "\n",
            "trover for conversion of three bales of cotton. appeal from the circuit court of etowah. tried before the hon. wm. l. whitlock.\n",
            "\n",
            "nov term 1880\n",
            "\n",
            "case\n",
            "\n",
            "—\n",
            "\n",
            "mentioned by\n",
            "\n",
            "8.  edwards v. thompson\n",
            "\n",
            "4 s.w. 913, 914 , tenn.\n",
            "\n",
            "appeal from circuit court, weakley county.\n",
            "\n",
            "may 1887\n",
            "\n",
            "case\n",
            "\n",
            "—\n",
            "\n",
            "—\n",
            "\n",
            "9.  growing crops as subject to levy and seizure under attachment or execution\n",
            "\n",
            "103 a.l.r. 464\n",
            "\n",
            "generally, at common law, growing crops raised by annual planting, while still attached to the soil, are regarded as personal chattels, subject to levy and seizure under attachment...\n",
            "\n",
            "1936\n",
            "\n",
            "alr\n",
            "\n",
            "—\n",
            "\n",
            "—\n",
            "\n",
            "table of authorities (3)\n",
            "\n",
            "treatment\n",
            "\n",
            "referenced title\n",
            "\n",
            "type\n",
            "\n",
            "depth\n",
            "\n",
            "quoted\n",
            "\n",
            "page number\n",
            "\n",
            "mentioned\n",
            "\n",
            "1.  austin v. sawyer\n",
            "\n",
            "9 cow. 39, n.y.sup., 1828\n",
            "\n",
            "parol evidence is not admissible to contradict, or substantially vary, a written contract. and where a. quit-claimed land to w., on which a crop of wheat was growing, reserving the...\n",
            "\n",
            "case\n",
            "\n",
            "2\n",
            "\n",
            "cited\n",
            "\n",
            " 2.  perkins v. mayfield\n",
            "\n",
            "5 port. 182, ala., 1837\n",
            "\n",
            "on writ of error to the circuit court of tuskaloosa.\n",
            "\n",
            "case\n",
            "\n",
            "2+\n",
            "\n",
            "mentioned\n",
            "\n",
            "3.  stewart v. doughty\n",
            "\n",
            "9 johns. 108, n.y.sup., 1812\n",
            "\n",
            "a. let to b. a farm for six years, and a. agreed “to render, yield and pay to a. the one half of all the wheat, rye, corn and other grain, raised on the farm in each year, in the...\n",
            "\n",
            "case\n",
            "\n",
            "2\n",
            "\n",
            "filings\n",
            "\n",
            "there are no filings for this citation.\n",
            "\n",
            "negative treatment\n",
            "\n",
            "there are no negative treatment results for this citation.\n",
            "\n",
            "history\n",
            "\n",
            "there are no history results for this citation.\n"
          ],
          "name": "stdout"
        }
      ]
    },
    {
      "cell_type": "code",
      "metadata": {
        "id": "pa3vlBL_zXm5",
        "colab_type": "code",
        "outputId": "d2aaa6c1-7788-49a3-8329-1713caef2806",
        "colab": {
          "base_uri": "https://localhost:8080/",
          "height": 1000
        }
      },
      "source": [
        "#1.2.2  Punctuation removal for all the data \n",
        "import re\n",
        "string = open(\"file.txt\", \"r\", encoding='cp1252').read() # open the input text file and read\n",
        "no_specials_string = re.sub('[!#?,.:\";]', '', string) # remove the Punctuation\n",
        "print(no_specials_string)"
      ],
      "execution_count": 0,
      "outputs": [
        {
          "output_type": "stream",
          "text": [
            "\n",
            "5 Ala 740\n",
            "Supreme Court of Alabama\n",
            "ADAMS\n",
            "v\n",
            "TANNER AND HORTON\n",
            "June Term 1843\n",
            "Synopsis\n",
            "WRIT of Error to the Circuit Court of Sumter\n",
            " \n",
            "\n",
            "\n",
            "West Headnotes (2)\n",
            "\n",
            "\n",
            "[1]\n",
            "Chattel Mortgages\n",
            "Crops\n",
            "A growing crop has such an existence as to be the subject-matter of a mortgage or other contract which passes an interest to vest in possession either immediately or at a future time\n",
            "4 Cases that cite this headnote\n",
            "\n",
            "[2]\n",
            "Creditors’ Remedies\n",
            "Lien and Priority\n",
            "Under St1821 prohibiting a levy on a crop until it has been gathered no lien attaches in favor of a fi fa on a growing crop nor does such lien attach until after the crop has been gathered\n",
            "5 Cases that cite this headnote\n",
            "\n",
            "**1 This was a trial of the right of property under the statute In November 1840 an execution issued from the circuit court of Sumter at the suit of the plaintiff in error requiring the sheriff of that county to make of the goods &c of Allen Harrison and others the sum of thirty-seven hundred and seventy-seven 80-100 dollars besides costs This execution was levied on thirty bales of cotton as the property of Allen Harrison which was claimed and a bond given to try the right An issue was made up to try the question of the liability of the cotton to the plaintiff’s execution and submitted to a jury On the trial a bill of exceptions was sealed at the instance of the plaintiff The plaintiff proved that he recovered his judgment in October 1839 that an execution *741 was issued thereon on the 7th Nov thereafter and that alias and pluries fieri facias’ issued regularly up to the time levy was made that the cotton levied on was growed on the plantation of Harrison and cultivated by the hands in his service It was proved by the claimants by the production of a written contract that Harrison on the twenty-second of May 1840 in consideration that the claimants were involved as indorsers for Burton & Harrison of Sumter county and were then exposed to an execution amounting to upwards of fourteen thousand dollars bargained and sold to the claimants all his growing crop of cotton &c consisting of one hundred and twenty acres &c Allen Harrison promised and obliged himself to give up his crop to the use of the claimants at any time to save them from suffering as his indorsers if the crop matured and was gathered he undertook to deliver the cotton in Gainesville The claimants came from Tennessee (where they resided) about the first of September 1840 bringing with them three or four white laborers and took possession of the crop and slaves and with the latter and white laborers gathered the cotton prepared it for market and when levied on it was in a ware-house in Gainesville The plaintiff then proved by Harrison that the claimants took possession of the crop while he was absent and disposed of it without his consent It was admitted that the contract was made in good faith\n",
            "The court charged the jury that the plaintiff had no lien by virtue of his judgment and execution on the growing crop that Harrison had a right to convey it without being in any manner restrained by them that the writing adduced was a sale of the crop but if it was not and the lien of the fieri facias would have attached upon it when gathered yet if the claimants obtained possession on the first of September and controlled the gathering of the crop then no lien attached and it was not subject to the levy\n",
            "Attorneys and Law Firms\n",
            "R H SMITH for the plaintiff in error made the following points--1 The crop of Harrison must in May 1840 have been in an immature state and it is insisted was not the subject of a sale 2 By the common law a growing crop could be levied on and sold [1 Salk Rep 361 1 Bos & P Rep 307 6 East’s Rep 604 note 1 2 Johns Rep 418 422 7 Mass Rep 34] and our statue [[[Aik Dig § 41 p 167] which forbids the levy of an *742 execution on a growing crop is to receive a strict construction It merely inhibits the levy but the lien attaches and a levy and sale may be made after the crop matures and is gathered 3 The contract does not purport to convey the growing crop but is a mere executory agreement requiring some act to be done by Harrison in order to invest the claimants with the right of property [Chit on Con 112 207 3 Johns Rep 338 424 5 Wend Rep 26 13 Johns Rep 235 8 Dowl Rep 693] and until this act was done the crop no matter by who gathered because liable to be seized for Harrison’s debts A court of chancery would not compel a specific performance of the contract at the claimant’s instance 4 The charge of the court is also objectionable in deciding disputed facts\n",
            "W M MURPHY with whom was W G JONES for the defendant--cited the act of 1821 [Aik Dig 167] which declares it to be lawful to levy an execution on a planted crop until it is gathered and contended that no lien attached in favor of the plaintiff This being the case the defendant in execution was not restrained from making the contract which he did with the claimants\n",
            "**2 The lien of an execution is destroyed by an injunction because it takes away the right to levy it In short whenever the right to levy an execution is but temporarily suspended or withdrawn the lien is during that time lost [[[[Whipple v Foot 2 Johns Rep 216 3 Wash C C Rep 66 4 How Rep 130]\n",
            "It is admitted that the contract between the defendant in execution and the claimants was in good faith if so the severance and removal of the cotton gave the latter a good title against all creditors of the former\n",
            "Opinion\n",
            "\n",
            "COLLIER C J\n",
            "\n",
            "There can be no doubt that a growing crop has such an existence as to be the subject matter of a sale mortgage or other contract which possess an interest to vest in possession either immediately or at some future time This proposition has frequently been assumed as unquestionable the point of inquiry generally being whether under a statute of frauds such as the 29 Chas 2 it is a mere chattel and transferrable by parol without writing [Chitty on Con 241-2 332 Whipple v Foot 2 Johns Rep 422 Stewart v Doughty 9 Johns Rep 112 *743 Austin v Sawyer 9 Cow Rep 39 See also Ravesies v Lee & Alston at last term] The contract set out in the bill of exceptions we are inclined to think evidences rather a mortgage than an absolute sale It recites that the claimants are involved as indorsers of a mercantile firm of which the defendant was a partner that an execution for upwards of fourteen thousand dollars against their estate is in the sheriff’s hands and that a conveyance is made of the crop of cotton corn and oats which the grantor agrees to give up at any time to the use of the claimants so as to prevent injury to them as indorsers The defendant in execution might at any time have divested the interest which the contract vested in the claimants by discharging their liability as his indorsers or a judgment creditor might have satisfied the lien and when the crop was gathered have levied on and sold it under a fieri facias\n",
            "We will then consider the writing under which the claimants assert a right as a mortgage with a power to take possession any time during the year unless they should be relieved from their engagements as indorsers It is not pretended that their liability has been satisfied and it is admitted that the parties have acted with good faith so that it is a dry question of law whether the right of the plaintiff or the claimants shall prevail Assuming for the present that the execution of the plaintiffs did not operate a lien upon the planted crop previous to the contract of May 1840 we will inquire whether the defendant in execution had such an interest as could be levied on and sold\n",
            "The claimants had previous to the levy of the execution taken possession of the crop prepared the cotton for market and removed it to a ware-house This possession it is insisted was a trespass because it was acquired in the absence of the defendant in execution and without his consent then given Conceding the truth of the facts stated in the bill of exceptions and we think it will not follow that the possession of the claimants is a nullity and that the case must be considered as if they had never interfered with the crop The contract contains an express undertaking to give up the crop at any time the claimants might require it for their indemnity and if they took possession of it in the absence of the grantor (though without his consent) if he subsequently acquiesced in it the inference would be if necessary that their acts were approved by him Taking this to be clear *744 law and it will be seen that the defendant in execution at the time of the levy had nothing more than a mere equitable right to redeem the cotton by paying the debts indorsed by the claimants He had no possession coupled with this equity but only a naked equity which it has been held cannot be reached by an ordinary execution [Perkins and Elliott v Mayfield 5 Porter’s Rep 182]\n",
            "**3 This brings us back to the question whether the execution of the plaintiff was a lien on the growing crop so as to defeat the mortgage to the claimants It has been frequently mooted whether at common law corn &c before it is gathered can be seized under a fieri facias Mr Dane in remarking upon this point says “The American editor of Bacon’s Abridgment says ‘Wheat growing in the ground is a chattel and subject to be taken in execution and the sheriff may suffer it to grow till harvest and then cut and sell it or may perhaps sell it growing and the purchaser will then be entitled to enter for the purpose of cutting and carrying it away” [He cites Whipple v Foot ut supra also Poole’s case Salk 368 1 Bos & P 397 6 East 604 n] But Whipple v Foot seems to be the only case that supports his position that unripe wheat or corn may be taken in execution and the same editor states that nothing can be taken in execution which cannot be sold This position says the learned commentator is no doubt law But it is unnecessary to consider how this matter stands at common law The first section of the act of 1821 “To prevent sheriffs and other officers from levying executions in certain cases enacts that “It shall not be lawful for any sheriff or other officer to levy a writ of fieri facias or other execution on the planted crop of a debtor or person against whom an execution may issue until the crop is gathered” [Aik Dig 167] Now here is an express inhibition to levy an execution on a crop while it remains on or in the ground and until it is severed from the soil to which it owes its growth In respect to property thus situated will the lien of an execution attach eo instanti upon its being placed in the hands of an officer If so the act cited will only have the effect of keeping the right to levy it in abeyance until the crop is gathered The lien of an execution does not only operate so as to prevent the debtor from disposing of the property on which it attaches but gives to the creditor the right to have it sold to satisfy his *745 judgment The lien and the right to levy are intimately connected and if the latter be taken away or suspended the effect at common law is the destruction of the former This principle is fully established by Mansony and Hurtell v The President &c of the Bank of the United States and its assignees and the citations contained in the opinion of the court in that case as also in my opinion in Wood v Gary et al both decided at the last term That it was competent for the legislature to have made it unlawful to levy an execution on particular property until its condition was changed and still to give it a continuing lien cannot be doubted but there is nothing in the act in question to indicate that such is its intention If the object was merely to suspend the sale until the crop was gathered it would have been very easy to have said so in explicit terms but declaring as the statute does in totidem verbis that the execution shall not be levied the legislature must be supposed to have meant what they have expressed The act was induced by the doubts which existed as to what was the common law and was intended to remove those doubts by declaring what should be the law in future It does not create a lien or authorize a levy in a case in which the law as it then existed was silent The idea that the lien attached upon the planted crop as soon as the execution was delivered to the sheriff though the right to levy it was postponed until a severance took place is attempted to be deduced from the last words of the section cited viz “until the crop is gathered” These words cannot upon any just principles of construction be regarded so potent as to give to an execution a retrospective effect They do not refer to the lien if they did they would postpone it until the crop was gathered but it is the levy they relate to and postpone until that event takes place\n",
            "**4 The right to levy an execution on a planted crop then being expressly taken away by the statute the lien which is connected with and consequent upon that right never attaches until severance This being the case the right of the defendant in execution to make the contract which he did is unquestionable and the title of the claimants coupled as it was with the possession was paramount to any lien which the execution could exert\n",
            "The circuit judge may have mistaken the law in supposing that the contract was a sale but if he did an error in that respect was very immaterial for whether a sale or mortgage as we have *746 seen under the facts of the case the defendant in execution has no interest that could be seised and sold under execution There is no assumption of any material fact in the charge but the possession of the claimant the time when acquired the gathering of the crop &c are all referred to the determination of the jury who are instructed if they find them according to the evidence adduced that no lien ever attached in favor of the plaintiff The bona fides of the contract was conceded so that no charge was necessary on that point and it could not with propriety enter into the inquiry of the jury\n",
            "It results from what has been said that the judgment of the circuit court is affirmed\n",
            "\n",
            "DISSENTING OPINION\n",
            "\n",
            "ORMOND J\n",
            "**4 The statute which presents the question before the court is that “it shall not be lawful for any sheriff or other officer to levy a writ of fieei facias or other execution on the planted crop of a debtor or person against whom an execution may issue until the crop is gathered” [Clay’s Dig 210 § 46]\n",
            "I shall not enter upon the enquiry whether at common law an execution could be levied upon a growing crop though I apprehend it would not be difficult to maintain the affirmative of the proposition It is sufficient for my purpose that the statute supposes such to have been the law as it doubtless was the practice\n",
            "This act must be considered in connection with the other acts upon the same subject The policy of the State as indicated by these statutes is undeniably that all the property of a debtor real and personal to which he has a legal title shall be subject to sale by execution and it appears to me that it would be difficult to assign a reason for the exemption of this species of property from the claims of judgment creditors and for giving to the defendant in execution the right to dispose of it It appears to me with all deference that the argument that because the sheriff was prohibited from levying on a ““planted crop” that therefore the execution had lost its lien and the debtor had the right to sell it is a non sequitur The mischief which the statute designed to remedy was the sacrifice which would be necessarily made by the sale of an immature crop the statute enables the debtor to retain it until it matures and by severing it from the soil to put it *747 in a condition to bring its value--the lien in the mean time continuing in the plaintiff in execution\n",
            "**5 If further confirmation of the correctness of this view were necessary it will be found I think in the language employed by the legislature The sheriff is forbidden to levy on a “planted crop” until the crop is gathered Now if the view taken by the majority of the court is correct the right secured to the plaintiff in execution of levying on the crop after it is gathered may be frustrated as it was in this case by a sale by the defendant in execution whilst the crop is in an immature state The construction which has been put upon the statute involves the singular anomaly that the legislature for the protection of the debtor has forbidden the plaintiff in execution to sell the property of his debtor because it is not in a condition to bring its value and yet permits the debtor voluntarily by a sale to submit to the same sacrifice for his own benefit It is in effect a gift to the defendant in execution of the growing crop provided he does not gather it himself but disposes of it in its then condition This I feel a thorough conviction was not the intention of the legislature but that it was to secure him from loss by prohibiting a levy and sale of the crop until it was gathered when the temporary suspension of the right to sell ceased\n",
            "All Citations\n",
            "5 Ala 740 1843 WL 284\n",
            "End of Document\n",
            "© 2019 Thomson Reuters No claim to original US Government Works\n",
            "Citing References (9)\n",
            "Treatment\n",
            "Title\n",
            "Date\n",
            "Type\n",
            "Depth\n",
            "Headnote(s)\n",
            "Cited by\n",
            "1  Booker v Jones’s Adm’x\n",
            "55 Ala 266 271  Ala\n",
            "Trover for Conversion of Cotton with Counts in Case APPEAL from the Circuit Court of Hale Tried before the Hon M J SAFFOLD\n",
            "Dec Term 1876\n",
            "Case\n",
            "—\n",
            "Cited by\n",
            "2  Lehman Durr & Co v Marshall\n",
            "47 Ala 362 376  Ala\n",
            "[TROVER FOR CONVERSION OF COTTON] APPEAL from the City Court of Montgomery Tried before Hon JOHN D CUNNINGHAM\n",
            "Jan Term 1872\n",
            "Case\n",
            "—\n",
            "Cited by\n",
            "3  Bibb v Janney\n",
            "45 Ala 329 334  Ala\n",
            "[GARNISHMENT WAGES WAIVER OF EXEMPTION] APPEAL from City Court of Montgomery Tried before Hon JOHN D CUNNINGHAM\n",
            "Jan Term 1871\n",
            "Case\n",
            "—\n",
            "Cited by\n",
            "4  McKenzie v Lampley\n",
            "31 Ala 526 527  Ala\n",
            "[TRIAL OF RIGHT OF PROPERTY IN COTTON] APPEAL from the Circuit Court of Barbour Tried before the Hon S D HALE\n",
            "Jan Term 1858\n",
            "Case\n",
            "—\n",
            "Cited by\n",
            "5  Evans v Lamar\n",
            "21 Ala 333 335+  Ala\n",
            "ERROR to the Circuit Court of Autauga Tried before the Hon A B MOORE\n",
            "Jun Term 1852\n",
            "Case\n",
            "—\n",
            "Cited by\n",
            " 6  Dewey v Bowman\n",
            "8 Cal 145 147  Cal\n",
            "The judgment of the Court below against Jacob S Cohen should be reversed for the following reasons Because the finding of the Court was so far as Cohen was concerned\n",
            "Jul Term 1857\n",
            "Case\n",
            "—\n",
            "Mentioned by\n",
            "7  Rees v Coats\n",
            "65 Ala 256 258  Ala\n",
            "Trover for Conversion of Three Bales of Cotton APPEAL from the Circuit Court of Etowah Tried before the Hon WM L WHITLOCK\n",
            "Nov Term 1880\n",
            "Case\n",
            "—\n",
            "Mentioned by\n",
            "8  Edwards v Thompson\n",
            "4 SW 913 914  Tenn\n",
            "Appeal from circuit court Weakley county\n",
            "May 1887\n",
            "Case\n",
            "—\n",
            "—\n",
            "9  Growing crops as subject to levy and seizure under attachment or execution\n",
            "103 ALR 464\n",
            "Generally at common law growing crops raised by annual planting while still attached to the soil are regarded as personal chattels subject to levy and seizure under attachment\n",
            "1936\n",
            "ALR\n",
            "—\n",
            "—\n",
            "Table of Authorities (3)\n",
            "Treatment\n",
            "Referenced Title\n",
            "Type\n",
            "Depth\n",
            "Quoted\n",
            "Page Number\n",
            "Mentioned\n",
            "1  Austin v Sawyer\n",
            "9 Cow 39 NYSup 1828\n",
            "Parol evidence is not admissible to contradict or substantially vary a written contract And where A quit-claimed land to W on which a crop of wheat was growing reserving the\n",
            "Case\n",
            "2\n",
            "Cited\n",
            " 2  Perkins v Mayfield\n",
            "5 Port 182 Ala 1837\n",
            "On writ of error to the Circuit Court of Tuskaloosa\n",
            "Case\n",
            "2+\n",
            "Mentioned\n",
            "3  Stewart v Doughty\n",
            "9 Johns 108 NYSup 1812\n",
            "A let to B a farm for six years and A agreed “to render yield and pay to A the one half of all the wheat rye corn and other grain raised on the farm in each year in the\n",
            "Case\n",
            "2\n",
            "Filings\n",
            "There are no Filings for this citation\n",
            "Negative Treatment\n",
            "There are no Negative Treatment results for this citation\n",
            "History\n",
            "There are no History results for this citation\n"
          ],
          "name": "stdout"
        }
      ]
    },
    {
      "cell_type": "code",
      "metadata": {
        "id": "G4SJ_RLz5Qp3",
        "colab_type": "code",
        "colab": {}
      },
      "source": [
        "pip install stop-words"
      ],
      "execution_count": 0,
      "outputs": []
    },
    {
      "cell_type": "code",
      "metadata": {
        "id": "w4rREJ7L5Q0K",
        "colab_type": "code",
        "colab": {}
      },
      "source": [
        "pip install nltk"
      ],
      "execution_count": 0,
      "outputs": []
    },
    {
      "cell_type": "code",
      "metadata": {
        "id": "GpGEMney5Mrm",
        "colab_type": "code",
        "colab": {}
      },
      "source": [
        "import nltk\n",
        "nltk.download('stopwords')\n",
        "nltk.download('punkt')"
      ],
      "execution_count": 0,
      "outputs": []
    },
    {
      "cell_type": "code",
      "metadata": {
        "id": "ukcwnEaEzbme",
        "colab_type": "code",
        "outputId": "30de36a9-3516-47c4-f1eb-0a8cc4769a6e",
        "colab": {
          "base_uri": "https://localhost:8080/",
          "height": 1000
        }
      },
      "source": [
        "#1.2.3  Stopwords removal\n",
        "import nltk\n",
        "import string\n",
        "from nltk.corpus import stopwords\n",
        " \n",
        "with open(\"file.txt\", \"r\", encoding='cp1252') as f:\n",
        "\tfor line in f.readlines():\n",
        "\t    print(\" \".join([word for word in line.lower().translate(str.maketrans('', '', string.punctuation)).split() \n",
        "        \tif len(word) >=4 and word not in stopwords.words('english')]))\n",
        "\n"
      ],
      "execution_count": 0,
      "outputs": [
        {
          "output_type": "stream",
          "text": [
            "\n",
            "\n",
            "supreme court alabama\n",
            "adams\n",
            "\n",
            "tanner horton\n",
            "june term 1843\n",
            "synopsis\n",
            "writ error circuit court sumter\n",
            "\n",
            "\n",
            "\n",
            "west headnotes\n",
            "\n",
            "\n",
            "\n",
            "chattel mortgages\n",
            "crops\n",
            "growing crop existence subjectmatter mortgage contract passes interest vest possession either immediately future time\n",
            "cases cite headnote\n",
            "\n",
            "\n",
            "creditors’ remedies\n",
            "lien priority\n",
            "st1821 prohibiting levy crop gathered lien attaches favor growing crop lien attach crop gathered\n",
            "cases cite headnote\n",
            "\n",
            "trial right property statute november 1840 execution issued circuit court sumter suit plaintiff error requiring sheriff county make goods allen harrison others thirtyseven hundred seventyseven 80100 dollars besides costs execution levied thirty bales cotton property allen harrison claimed bond given right issue made question liability cotton plaintiff’s execution submitted jury trial bill exceptions sealed instance plaintiff plaintiff proved recovered judgment october 1839 execution issued thereon thereafter alias pluries fieri facias’ issued regularly time levy made cotton levied growed plantation harrison cultivated hands service proved claimants production written contract harrison twentysecond 1840 consideration claimants involved indorsers burton harrison sumter county exposed execution amounting upwards fourteen thousand dollars bargained sold claimants growing crop cotton consisting hundred twenty acres allen harrison promised obliged give crop claimants time save suffering indorsers crop matured gathered undertook deliver cotton gainesville claimants came tennessee resided first september 1840 bringing three four white laborers took possession crop slaves latter white laborers gathered cotton prepared market levied warehouse gainesville plaintiff proved harrison claimants took possession crop absent disposed without consent admitted contract made good faith\n",
            "court charged jury plaintiff lien virtue judgment execution growing crop harrison right convey without manner restrained writing adduced sale crop lien fieri facias would attached upon gathered claimants obtained possession first september controlled gathering crop lien attached subject levy\n",
            "attorneys firms\n",
            "smith plaintiff error made following points1 crop harrison must 1840 immature state insisted subject sale common growing crop could levied sold salk east’s note johns mass statue forbids levy execution growing crop receive strict construction merely inhibits levy lien attaches levy sale made crop matures gathered contract purport convey growing crop mere executory agreement requiring done harrison order invest claimants right property chit johns wend johns dowl done crop matter gathered liable seized harrison’s debts court chancery would compel specific performance contract claimant’s instance charge court also objectionable deciding disputed facts\n",
            "murphy jones defendantcited 1821 declares lawful levy execution planted crop gathered contended lien attached favor plaintiff case defendant execution restrained making contract claimants\n",
            "lien execution destroyed injunction takes away right levy short whenever right levy execution temporarily suspended withdrawn lien time lost whipple foot johns wash\n",
            "admitted contract defendant execution claimants good faith severance removal cotton gave latter good title creditors former\n",
            "opinion\n",
            "\n",
            "collier\n",
            "\n",
            "doubt growing crop existence subject matter sale mortgage contract possess interest vest possession either immediately future time proposition frequently assumed unquestionable point inquiry generally whether statute frauds chas mere chattel transferrable parol without writing chitty 2412 whipple foot johns stewart doughty johns austin sawyer also ravesies alston last term contract bill exceptions inclined think evidences rather mortgage absolute sale recites claimants involved indorsers mercantile firm defendant partner execution upwards fourteen thousand dollars estate sheriff’s hands conveyance made crop cotton corn oats grantor agrees give time claimants prevent injury indorsers defendant execution might time divested interest contract vested claimants discharging liability indorsers judgment creditor might satisfied lien crop gathered levied sold fieri facias\n",
            "consider writing claimants assert right mortgage power take possession time year unless relieved engagements indorsers pretended liability satisfied admitted parties acted good faith question whether right plaintiff claimants shall prevail assuming present execution plaintiffs operate lien upon planted crop previous contract 1840 inquire whether defendant execution interest could levied sold\n",
            "claimants previous levy execution taken possession crop prepared cotton market removed warehouse possession insisted trespass acquired absence defendant execution without consent given conceding truth facts stated bill exceptions think follow possession claimants nullity case must considered never interfered crop contract contains express undertaking give crop time claimants might require indemnity took possession absence grantor though without consent subsequently acquiesced inference would necessary acts approved taking clear seen defendant execution time levy nothing mere equitable right redeem cotton paying debts indorsed claimants possession coupled equity naked equity held cannot reached ordinary execution perkins elliott mayfield porter’s\n",
            "brings back question whether execution plaintiff lien growing crop defeat mortgage claimants frequently mooted whether common corn gathered seized fieri facias dane remarking upon point says “the american editor bacon’s abridgment says ‘wheat growing ground chattel subject taken execution sheriff suffer grow till harvest sell perhaps sell growing purchaser entitled enter purpose cutting carrying away” cites whipple foot supra also poole’s case salk east whipple foot seems case supports position unripe wheat corn taken execution editor states nothing taken execution cannot sold position says learned commentator doubt unnecessary consider matter stands common first section 1821 prevent sheriffs officers levying executions certain cases enacts shall lawful sheriff officer levy writ fieri facias execution planted crop debtor person execution issue crop gathered” express inhibition levy execution crop remains ground severed soil owes growth respect property thus situated lien execution attach instanti upon placed hands officer cited effect keeping right levy abeyance crop gathered lien execution operate prevent debtor disposing property attaches gives creditor right sold satisfy judgment lien right levy intimately connected latter taken away suspended effect common destruction former principle fully established mansony hurtell president bank united states assignees citations contained opinion court case also opinion wood gary decided last term competent legislature made unlawful levy execution particular property condition changed still give continuing lien cannot doubted nothing question indicate intention object merely suspend sale crop gathered would easy said explicit terms declaring statute totidem verbis execution shall levied legislature must supposed meant expressed induced doubts existed common intended remove doubts declaring future create lien authorize levy case existed silent idea lien attached upon planted crop soon execution delivered sheriff though right levy postponed severance took place attempted deduced last words section cited “until crop gathered” words cannot upon principles construction regarded potent give execution retrospective effect refer lien would postpone crop gathered levy relate postpone event takes place\n",
            "right levy execution planted crop expressly taken away statute lien connected consequent upon right never attaches severance case right defendant execution make contract unquestionable title claimants coupled possession paramount lien execution could exert\n",
            "circuit judge mistaken supposing contract sale error respect immaterial whether sale mortgage seen facts case defendant execution interest could seised sold execution assumption material fact charge possession claimant time acquired gathering crop referred determination jury instructed find according evidence adduced lien ever attached favor plaintiff bona fides contract conceded charge necessary point could propriety enter inquiry jury\n",
            "results said judgment circuit court affirmed\n",
            "\n",
            "dissenting opinion\n",
            "\n",
            "ormond\n",
            "statute presents question court shall lawful sheriff officer levy writ fieei facias execution planted crop debtor person execution issue crop gathered” clay’s\n",
            "shall enter upon enquiry whether common execution could levied upon growing crop though apprehend would difficult maintain affirmative proposition sufficient purpose statute supposes doubtless practice\n",
            "must considered connection acts upon subject policy state indicated statutes undeniably property debtor real personal legal title shall subject sale execution appears would difficult assign reason exemption species property claims judgment creditors giving defendant execution right dispose appears deference argument sheriff prohibited levying ““planted crop” therefore execution lost lien debtor right sell sequitur mischief statute designed remedy sacrifice would necessarily made sale immature crop statute enables debtor retain matures severing soil condition bring valuethe lien mean time continuing plaintiff execution\n",
            "confirmation correctness view necessary found think language employed legislature sheriff forbidden levy “planted crop” crop gathered view taken majority court correct right secured plaintiff execution levying crop gathered frustrated case sale defendant execution whilst crop immature state construction upon statute involves singular anomaly legislature protection debtor forbidden plaintiff execution sell property debtor condition bring value permits debtor voluntarily sale submit sacrifice benefit effect gift defendant execution growing crop provided gather disposes condition feel thorough conviction intention legislature secure loss prohibiting levy sale crop gathered temporary suspension right sell ceased\n",
            "citations\n",
            "1843\n",
            "document\n",
            "2019 thomson reuters claim original government works\n",
            "citing references\n",
            "treatment\n",
            "title\n",
            "date\n",
            "type\n",
            "depth\n",
            "headnotes\n",
            "cited\n",
            "booker jones’s adm’x\n",
            "\n",
            "trover conversion cotton counts case appeal circuit court hale tried saffold\n",
            "term 1876\n",
            "case\n",
            "\n",
            "cited\n",
            "lehman durr marshall\n",
            "\n",
            "trover conversion cotton appeal city court montgomery tried john cunningham\n",
            "term 1872\n",
            "case\n",
            "\n",
            "cited\n",
            "bibb janney\n",
            "\n",
            "garnishment wages waiver exemption appeal city court montgomery tried john cunningham\n",
            "term 1871\n",
            "case\n",
            "\n",
            "cited\n",
            "mckenzie lampley\n",
            "\n",
            "trial right property cotton appeal circuit court barbour tried hale\n",
            "term 1858\n",
            "case\n",
            "\n",
            "cited\n",
            "evans lamar\n",
            "\n",
            "error circuit court autauga tried moore\n",
            "term 1852\n",
            "case\n",
            "\n",
            "cited\n",
            "dewey bowman\n",
            "\n",
            "judgment court jacob cohen reversed following reasons finding court cohen concerned\n",
            "term 1857\n",
            "case\n",
            "\n",
            "mentioned\n",
            "rees coats\n",
            "\n",
            "trover conversion three bales cotton appeal circuit court etowah tried whitlock\n",
            "term 1880\n",
            "case\n",
            "\n",
            "mentioned\n",
            "edwards thompson\n",
            "tenn\n",
            "appeal circuit court weakley county\n",
            "1887\n",
            "case\n",
            "\n",
            "\n",
            "growing crops subject levy seizure attachment execution\n",
            "\n",
            "generally common growing crops raised annual planting still attached soil regarded personal chattels subject levy seizure attachment\n",
            "1936\n",
            "\n",
            "\n",
            "\n",
            "table authorities\n",
            "treatment\n",
            "referenced title\n",
            "type\n",
            "depth\n",
            "quoted\n",
            "page number\n",
            "mentioned\n",
            "austin sawyer\n",
            "nysup 1828\n",
            "parol evidence admissible contradict substantially vary written contract quitclaimed land crop wheat growing reserving\n",
            "case\n",
            "\n",
            "cited\n",
            "perkins mayfield\n",
            "port 1837\n",
            "writ error circuit court tuskaloosa\n",
            "case\n",
            "\n",
            "mentioned\n",
            "stewart doughty\n",
            "johns nysup 1812\n",
            "farm years agreed render yield half wheat corn grain raised farm year\n",
            "case\n",
            "\n",
            "filings\n",
            "filings citation\n",
            "negative treatment\n",
            "negative treatment results citation\n",
            "history\n",
            "history results citation\n"
          ],
          "name": "stdout"
        }
      ]
    },
    {
      "cell_type": "code",
      "metadata": {
        "id": "e0siIG94zbsf",
        "colab_type": "code",
        "colab": {}
      },
      "source": [
        "#1.2.4\n"
      ],
      "execution_count": 0,
      "outputs": []
    },
    {
      "cell_type": "code",
      "metadata": {
        "id": "oGUL0c27zbiU",
        "colab_type": "code",
        "colab": {}
      },
      "source": [
        "#1.2.5\n"
      ],
      "execution_count": 0,
      "outputs": []
    },
    {
      "cell_type": "code",
      "metadata": {
        "id": "XMsUnU-IBVZq",
        "colab_type": "code",
        "colab": {}
      },
      "source": [
        "pip install textblob"
      ],
      "execution_count": 0,
      "outputs": []
    },
    {
      "cell_type": "code",
      "metadata": {
        "id": "l_XmNoMxAHdy",
        "colab_type": "code",
        "outputId": "3417fe6f-a317-4ae8-9956-cbb6803afa8d",
        "colab": {
          "base_uri": "https://localhost:8080/",
          "height": 1000
        }
      },
      "source": [
        "#1.2.6 Spelling correction\n",
        "from textblob import TextBlob\n",
        "d = open(\"file.txt\", \"r\", encoding='cp1252')\n",
        "f = d.read()\n",
        "output = TextBlob(f).correct()\n",
        "print(output)\n",
        " "
      ],
      "execution_count": 0,
      "outputs": [
        {
          "output_type": "stream",
          "text": [
            "\n",
            "5 La. 740\n",
            "Supreme Court of Alabama.\n",
            "ADAMS\n",
            "v.\n",
            "TANNER AND HORTON.\n",
            "June Term, 1843.\n",
            "Synopsis\n",
            "WRIT of Error to the Circuit Court of Sumter.\n",
            " \n",
            "\n",
            "\n",
            "West Headnotes (2)\n",
            "\n",
            "\n",
            "[1]\n",
            "Chattel Mortgages\n",
            "Drops\n",
            "A growing crop has such an existence as to be the subject-matter of a mortgage or other contract which passes an interest to vest in possession, either immediately or at a future time.\n",
            "4 Cases that cite this headnote\n",
            "\n",
            "[2]\n",
            "Creditors’ Remedies\n",
            "Mien and Priority\n",
            "Under It.1821, prohibiting a levy on a crop until it has been gathered, no line attaches in favor of a i. a. on a growing crop, nor does such line attach until after the crop has been gathered.\n",
            "5 Cases that cite this headnote\n",
            "\n",
            "**1 His was a trial of the right of property under the statute. In November, 1840, an execution issued from the circuit court of Sumter, at the suit of the plaintiff in error, requiring the sheriff of that county, to make of the goods, &c., of Ellen Harrison and others, the sum of thirty-seven hundred and seventy-seven 80-100 dollars, besides costs. His execution was levied on thirty bales of cotton, as the property of Ellen Harrison, which was claimed, and a bond given to try the right. In issue was made up to try the question of the liability of the cotton to the plaintiff’s execution, and submitted to a jury. In the trial, a bill of exceptions was sealed at the instance of the plaintiff. The plaintiff proved that he recovered his judgment in October, 1839; that an execution *741 was issued thereon on the th Sov. thereafter, and that alias and plunies fiery facial’, issued regularly up to the time levy was made; that the cotton levied on was growled on the plantation of Harrison, and cultivated by the hands in his service. It was proved by the claimants, by the production of a written contract, that Harrison, on the twenty-second of May, 1840, in consideration that the claimants were involved, as indorsed for Button & Harrison of Sumter county, and were then exposed to an execution, amounting to upwards of fourteen thousand dollars, bargained and sold to the claimants all his growing crop of cotton &c., consisting of one hundred and twenty acres, &c. Ellen Harrison promised and obliged himself to give up his crop to the use of the claimants at any time to save them from suffering as his indorsed; if the crop matured and was gathered he undertook to deliver the cotton in Gainesville. The claimants came from Tennessee, (where they resided) about the first of September, 1840, bringing with them three or four white laborers, and took possession of the crop and slaves, and with the latter, and white laborers, gathered the cotton, prepared it for market, and when levied on, it was in a ware-house in Gainesville. The plaintiff then proved by Harrison, that the claimants took possession of the crop, while he was absent, and disposed of it without his consent. It was admitted, that the contract was made in good faith.\n",
            "The court charged the jury, that the plaintiff had no line by virtue of his judgment, and execution on the growing crop; that Harrison had a right to convey it, without being in any manner restrained by them; that the writing added, was a sale of the crop, but if it was not, and the line of the fiery facial would have attached upon it, when gathered, yet if the claimants obtained possession on the first of September, and controlled the gathering of the crop, then no line attached, and it was not subject to the levy.\n",
            "Attorneys and Saw Firms\n",
            "R. H. SMITH, for the plaintiff, in error, made the following points.--1. The crop of Harrison, must, in May, 1840, have been in an immature state, and it is insisted, was not the subject of a sale. 2. By the common law, a growing crop could be levied on and sold, [1 Talk. Rep. 361; 1 Os. & P. Rep. 307; 6 Last’s Rep. 604, note 1; 2 John. Rep. 418, 422; 7 Pass. Rep. 34,] and our statue, [[[In. Fig. § 41, p. 167,] which forbids the levy of an *742 execution on a growing crop, is to receive a strict construction. It merely inhibit the levy, but the line attaches, and a levy and sale may be made after the crop mature, and is gathered. 3. The contract does not purport to convey the growing crop, but is a mere executor agreement, requiring some act to be done by Harrison, in order to invest the claimants with the right of property. [Hit. on On. 112, 207; 3 John. Rep. 338, 424; 5 End. Rep. 26; 13 John. Rep. 235; 8 Bowl. Rep, 693;] and until this act was done, the crop, no matter by who gathered, because liable to be seized for Harrison’s debts. A court of chancery would not compel a specific performance of the contract at the claimant’s instance. 4. The charge of the court is also objectionable in deciding disputed facts.\n",
            "W. M. MURPHY, with whom was W. G. JONES, for the defendant--cited the act of 1821, [In. Fig. 167,] which declares it to be lawful to levy an execution on a planted crop, until it is gathered, and contended that no line attached in favor of the plaintiff. His being the case, the defendant in execution was not restrained from making the contract which he did with the claimants.\n",
            "**2 The line of an execution is destroyed by an injunction, because it takes away the right to levy it. In short, whenever the right to levy an execution is but temporarily suspended, or withdrawn, the line is during that time lost. [[[[Cripple v. Foot, 2 John. Rep. 216; 3 Wash. C. C. Rep. 66; 4 Now. Rep. 130.]\n",
            "It is admitted that the contract between the defendant in execution, and the claimants, was in good faith, if so, the severance and removal of the cotton gave the latter a good title against all creditors of the former.\n",
            "Opinion\n",
            "\n",
            "COLLIER, C. J.\n",
            "\n",
            "There can be no doubt that a growing crop has such an existence as to be the subject matter of a sale, mortgage, or other contract which possess an interest to vest in possession, either immediately or at some future time. His proposition has frequently been assumed as unquestionable; the point of inquiry generally being, whether under a statute of frauds, such as the 29 Has. 2, it is a mere chattel, and transferrable by patrol without writing. [Thirty on On. 241-2, 332; Cripple v. Foot, 2 John. Rep. 422; Stewart v. Ought, 9 John. Rep. 112; *743 Austin v. Lawyer, 9 Now. Rep. 39. See also Ravesies v. See & Boston, at last term.] The contract set out in the bill of exceptions, we are inclined to think evidences rather a mortgage than an absolute sale. It recite that the claimants are involved as indorsed of a mercantile firm, of which the defendant was a partner; that an execution for upwards of fourteen thousand dollars against their estate, is in the sheriff’s hands, and that a conveyance is made of the crop of cotton, corn and oats, which the grant agrees to give up at any time to the use of the claimants, so as to prevent injury to them as indorsed. The defendant in execution might at any time have divested the interest which the contract vested in the claimants, by discharging their liability as his indorsed, or a judgment creditor might have satisfied the line, and when the crop was gathered, have levied on, and sold it under a fiery facial.\n",
            "He will then consider the writing under which the claimants assert a right, as a mortgage with a power to take possession any time during the year, unless they should be relieved from their engagements as indorsed. It is not pretended that their liability has been satisfied, and it is admitted that the parties have acted with good faith, so that it is a dry question of law, whether the right of the plaintiff, or the claimants shall prevail. Assuming for the present that the execution of the plaintiff did not operate a line upon the planted crop previous to the contract of May, 1840, we will inquire whether the defendant in execution had such an interest as could be levied on and sold.\n",
            "The claimants had previous to the levy of the execution taken possession of the crop, prepared the cotton for market, and removed it to a ware-house. His possession, it is insisted, was a trespass, because it was acquired in the absence of the defendant in execution, and without his consent then given. Conceding the truth of the facts stated in the bill of exceptions, and we think it will not follow, that the possession of the claimants is a nullify, and that the case must be considered as if they had never interfered with the crop. The contract contains an express undertaking to give up the crop at any time the claimants might require it for their indemnity, and if they took possession of it in the absence of the grant, (though without his consent,) if he subsequently acquiesced in it, the inference would be, if necessary, that their acts were approved by him. Taking this to be clear *744 law, and it will be seen, that the defendant in execution at the time of the levy had nothing more than a mere equitable right to redeem the cotton by paying the debts indorsed by the claimants. He had no possession coupled with this equity, but only a naked equity, which it has been held cannot be reached by an ordinary execution. [Jerking and Elliott v. Hayfield, 5 Porter’s Rep. 182.]\n",
            "**3 His brings us back to the question, whether the execution of the plaintiff was a line on the growing crop, so as to defeat the mortgage to the claimants. It has been frequently looted whether, at common law, corn, &c., before it is gathered, can be seized under a fiery facial. Or. Lane, in remarking upon this point, says, “The American editor of Bacon’s Abridgment, says, ‘Heat growing in the ground is a chattel, and subject to be taken in execution; and the sheriff may suffer it to grow till harvest, and then cut and sell it; or may perhaps sell it growing, and the purchaser will then be entitled to enter, for the purpose of cutting and carrying it away.” [He cities Cripple v. Foot, ut supra, also Whole’s case, Talk. 368; 1 Os. & P. 397; 6 Last, 604, n.] But Cripple v. Foot seems to be the only case that supports his position, that unripe wheat or corn may be taken in execution; and the same editor states that nothing can be taken in execution which cannot be sold. His position, says the learned commentator, is no doubt law. But it is unnecessary to consider how this matter stands at common law. The first section of the act of 1821, “To prevent sheriff and other officers from levying executions in certain cases, enacts, that “It shall not be lawful for any sheriff or other officer, to levy a writ of fiery facial or other execution on the planted crop of a debtor, or person against whom an execution may issue, until the crop is gathered.” [In. Fig. 167.] Now here is an express inhibition to levy an execution on a crop while it remains on, or in the ground, and until it is severed from the soil to which it owes its growth. In respect to property thus situated, will the line of an execution attach to instant upon its being placed in the hands of an officer? Of so, the act cited, will only have the effect of keeping the right to levy it in abeyance until the crop is gathered. The line of an execution does, not only operate so as to prevent the debtor from disposing of the property on which it attaches, but gives to the creditor the right to have it sold to satisfy his *745 judgment. The line and the right to levy are intimately connected, and if the latter be taken away, or suspended, the effect, at common law, is the destruction of the former. His principle is fully established by Mansony and Hurtell v. The President, &c. of the Bank of the United States, and its assigned, and the situations contained in the opinion of the court in that case, as also in my opinion in Good v. Mary, et al., both decided at the last term. That it was competent for the legislature to have made it unlawful to levy an execution on particular property, until its condition was changed, and still to give it a continuing line, cannot be doubted; but there is nothing in the act in question to indicate that such is its intention. Of the object was merely to suspend the sale, until the crop was gathered, it would have been very easy to have said so in explicit terms, but declaring as the statute does, in totidem verbs, that the execution shall not be levied, the legislature must be supposed to have meant what they have expressed. The act was induced by the doubts which existed as to what was the common law, and was intended to remove those doubts by declaring what should be the law in future. It does not create a line or authorize a levy in a case in which the law, as it then existed, was silent. The idea that the line attached upon the planted crop as soon as the execution was delivered to the sheriff, though the right to levy it was postponed until a severance took place, is attempted to be deduced from the last words of the section cited, viz: “until the crop is gathered.” These words cannot, upon any just principles of construction be regarded so potent as to give to an execution a introspective effect. They do not refer to the line, if they did they would postpone it until the crop was gathered; but it is the levy they relate to and postpone until that event takes place.\n",
            "**4 The right to levy an execution on a planted crop, then, being expressly taken away by the statute, the line which is connected with and consequent upon that right, never attaches until severance. His being the case, the right of the defendant in execution to make the contract which he did, is unquestionable, and the title of the claimants, coupled as it was with the possession, was paramount to any line which the execution could exert.\n",
            "The circuit judge may have mistaken the law in supposing that the contract was a sale, but if he did, an error in that respect was very material, for whether a sale or mortgage, as we have *746 seen, under the facts of the case, the defendant in execution has no interest that could be seized and sold under execution. There is no assumption of any material fact in the charge; but the possession of the claimant, the time when acquired, the gathering of the crop, &c., are all referred to the determination of the jury; who are instructed, if they find them according to the evidence added, that no line ever attached in favor of the plaintiff. The bone sides of the contract was conceded, so that no charge was necessary on that point, and it could not with propriety enter into the inquiry of the jury.\n",
            "It results from what has been said, that the judgment of the circuit court is affirmed.\n",
            "\n",
            "DISSENTING OPINION.\n",
            "\n",
            "ORMOND, J.\n",
            "**4 The statute which presents the question before the court is, that “it shall not be lawful for any sheriff or other officer to levy a writ of free facial or other execution, on the planted crop of a debtor, or person against whom an execution may issue, until the crop is gathered.” [Lay’s Fig. 210, § 46.]\n",
            "I shall not enter upon the enquiry, whether, at common law, an execution could be levied upon a growing crop, though I apprehend, it would not be difficult to maintain the affirmative of the proposition. It is sufficient for my purpose, that the statute supposes such to have been the law, as it doubtless was the practice.\n",
            "His act must be considered in connection with the other acts upon the same subject. The policy of the State, as indicated by these statutes, is undeniably that all the property of a debtor, real and personal, to which he has a legal title, shall be subject to sale by execution, and it appears to me that it would be difficult to assign a reason for the exemption of this species of property from the claims of judgment creditors, and for giving to the defendant in execution the right to dispose of it. It appears to me, with all deference, that the argument that because the sheriff was prohibited from levying on a ““planted crop,” that therefore the execution had lost its line, and the debtor had the right to sell it, is a non sequitur. The mischief which the statute designed to remedy was, the sacrifice which would be necessarily made by the sale of an immature crop: the statute enables the debtor to retain it until it mature, and by severing it from the soil to put it *747 in a condition to bring its value--the line in the mean time continuing in the plaintiff in execution.\n",
            "**5 Of further confirmation of the correctness of this view were necessary, it will be found, I think, in the language employed by the legislature. The sheriff is forbidden to levy on a “planted crop” until the crop is gathered. Now, if the view taken by the majority of the court, is correct, the right secured to the plaintiff in execution, of levying on the crop after it is gathered, may be frustrated, as it was in this case, by a sale by the defendant in execution, whilst the crop is in an immature state. The construction which has been put upon the statute, involves the singular animal, that the legislature, for the protection of the debtor, has forbidden the plaintiff in execution to sell the property of his debtor, because it is not in a condition to bring its value, and yet permits the debtor, voluntarily, by a sale, to submit to the same sacrifice, for his own benefit. It is, in effect, a gift to the defendant in execution, of the growing crop, provided he does not gather it himself, but disposed of it in its then condition. His, I feel a thorough conviction, was not the intention of the legislature; but that it was to secure him from loss, by prohibiting a levy and sale of the crop, until it was gathered, when the temporary suspension of the right to sell, ceased.\n",
            "All Situations\n",
            "5 La. 740, 1843 of 284\n",
            "And of Document\n",
            "© 2019 Thomson Letters. To claim to original U.S. Government Works.\n",
            "Biting References (9)\n",
            "Treatment\n",
            "Title\n",
            "Late\n",
            "Type\n",
            "Depth\n",
            "Headnote(s)\n",
            "Cited by\n",
            "1.  Hooker v. Bones’s Him’x\n",
            "55 La. 266, 271 , La.\n",
            "Grover for Conversion of Cotton, with Counts in Case. APPEAL from the Circuit Court of Pale. Cried before the On. M. J. SAFFOLD.\n",
            "Dec Term 1876\n",
            "Case\n",
            "—\n",
            "Cited by\n",
            "2.  German, Burr & To. v. Marshall\n",
            "47 La. 362, 376 , La.\n",
            "[TROVER FOR CONVERSION of COTTON.] APPEAL from the City Court of Montgomery. Cried before On. JOHN D. CUNNINGHAM.\n",
            "An Term 1872\n",
            "Case\n",
            "—\n",
            "Cited by\n",
            "3.  Gibb v. Manner\n",
            "45 La. 329, 334 , La.\n",
            "[GARNISHMENT; WAGES; WAIVER of EXEMPTION.] APPEAL from City Court of Montgomery. Cried before On. JOHN D. CUNNINGHAM.\n",
            "An Term 1871\n",
            "Case\n",
            "—\n",
            "Cited by\n",
            "4.  McKenzie v. Ample\n",
            "31 La. 526, 527 , La.\n",
            "[TRIAL of RIGHT of PROPERTY of COTTON.] APPEAL from the Circuit Court of Harbour. Cried before the On. S. D. HALE.\n",
            "An Term 1858\n",
            "Case\n",
            "—\n",
            "Cited by\n",
            "5.  Evans v. Makar\n",
            "21 La. 333, 335+ , La.\n",
            "ERROR to the Circuit Court of Autauga. Cried before the On. A. B. MOORE.\n",
            "Run Term 1852\n",
            "Case\n",
            "—\n",
            "Cited by\n",
            " 6.  Dewey v. Woman\n",
            "8 Pal. 145, 147 , Pal.\n",
            "The judgment of the Court below, against Jacob S. When, should be reversed, for the following reasons: Because the finding of the Court was, so far as When was concerned,...\n",
            "But Term 1857\n",
            "Case\n",
            "—\n",
            "Mentioned by\n",
            "7.  Sees v. Coats\n",
            "65 La. 256, 258 , La.\n",
            "Grover for Conversion of Three Tales of Cotton. APPEAL from the Circuit Court of Etowah. Cried before the On. of. L. WHITLOCK.\n",
            "Sov Term 1880\n",
            "Case\n",
            "—\n",
            "Mentioned by\n",
            "8.  Edwards v. Thompson\n",
            "4 S.W. 913, 914 , Penn.\n",
            "Appeal from circuit court, Weakly county.\n",
            "May 1887\n",
            "Case\n",
            "—\n",
            "—\n",
            "9.  Growing crops as subject to levy and seizure under attachment or execution\n",
            "103 A.L.R. 464\n",
            "Generally, at common law, growing crops raised by annual planting, while still attached to the soil, are regarded as personal chattel, subject to levy and seizure under attachment...\n",
            "1936\n",
            "ALR\n",
            "—\n",
            "—\n",
            "Table of Authorities (3)\n",
            "Treatment\n",
            "Reference Title\n",
            "Type\n",
            "Depth\n",
            "Quoted\n",
            "Age Number\n",
            "Mentioned\n",
            "1.  Austin v. Lawyer\n",
            "9 Now. 39, N.Y.Up., 1828\n",
            "Baron evidence is not admissible to contradict, or substantially vary, a written contract. And where A. quit-claimed land to W., on which a crop of wheat was growing, reserving the...\n",
            "Case\n",
            "2\n",
            "Cited\n",
            " 2.  Jerking v. Hayfield\n",
            "5 Sort. 182, La., 1837\n",
            "In writ of error to the Circuit Court of Tuskaloosa.\n",
            "Case\n",
            "2+\n",
            "Mentioned\n",
            "3.  Stewart v. Ought\n",
            "9 John. 108, N.Y.Up., 1812\n",
            "A. let to B. a farm for six years, and A. agreed “to render, yield and pay to A. the one half of all the wheat, rye, corn and other grain, raised on the farm in each year, in the...\n",
            "Case\n",
            "2\n",
            "Tidings\n",
            "There are no Tidings for this situation.\n",
            "Negative Treatment\n",
            "There are no Negative Treatment results for this situation.\n",
            "History\n",
            "There are no History results for this situation.\n"
          ],
          "name": "stdout"
        }
      ]
    },
    {
      "cell_type": "code",
      "metadata": {
        "id": "Yc0K8niIzsfV",
        "colab_type": "code",
        "outputId": "7f974911-3912-4a62-bf1a-096010560060",
        "colab": {
          "base_uri": "https://localhost:8080/",
          "height": 54
        }
      },
      "source": [
        "#1.2.7 Tokenization\n",
        "import nltk\n",
        "file_content = open(\"file.txt\", \"r\", encoding='cp1252').read()\n",
        "tokens = nltk.word_tokenize(file_content)\n",
        "print(tokens)\n"
      ],
      "execution_count": 0,
      "outputs": [
        {
          "output_type": "stream",
          "text": [
            "['5', 'Ala.', '740', 'Supreme', 'Court', 'of', 'Alabama', '.', 'ADAMS', 'v.', 'TANNER', 'AND', 'HORTON', '.', 'June', 'Term', ',', '1843', '.', 'Synopsis', 'WRIT', 'of', 'Error', 'to', 'the', 'Circuit', 'Court', 'of', 'Sumter', '.', 'West', 'Headnotes', '(', '2', ')', '[', '1', ']', 'Chattel', 'Mortgages', 'Crops', 'A', 'growing', 'crop', 'has', 'such', 'an', 'existence', 'as', 'to', 'be', 'the', 'subject-matter', 'of', 'a', 'mortgage', 'or', 'other', 'contract', 'which', 'passes', 'an', 'interest', 'to', 'vest', 'in', 'possession', ',', 'either', 'immediately', 'or', 'at', 'a', 'future', 'time', '.', '4', 'Cases', 'that', 'cite', 'this', 'headnote', '[', '2', ']', 'Creditors', '’', 'Remedies', 'Lien', 'and', 'Priority', 'Under', 'St.1821', ',', 'prohibiting', 'a', 'levy', 'on', 'a', 'crop', 'until', 'it', 'has', 'been', 'gathered', ',', 'no', 'lien', 'attaches', 'in', 'favor', 'of', 'a', 'fi', '.', 'fa', '.', 'on', 'a', 'growing', 'crop', ',', 'nor', 'does', 'such', 'lien', 'attach', 'until', 'after', 'the', 'crop', 'has', 'been', 'gathered', '.', '5', 'Cases', 'that', 'cite', 'this', 'headnote', '**1', 'This', 'was', 'a', 'trial', 'of', 'the', 'right', 'of', 'property', 'under', 'the', 'statute', '.', 'In', 'November', ',', '1840', ',', 'an', 'execution', 'issued', 'from', 'the', 'circuit', 'court', 'of', 'Sumter', ',', 'at', 'the', 'suit', 'of', 'the', 'plaintiff', 'in', 'error', ',', 'requiring', 'the', 'sheriff', 'of', 'that', 'county', ',', 'to', 'make', 'of', 'the', 'goods', ',', '&', 'c.', ',', 'of', 'Allen', 'Harrison', 'and', 'others', ',', 'the', 'sum', 'of', 'thirty-seven', 'hundred', 'and', 'seventy-seven', '80-100', 'dollars', ',', 'besides', 'costs', '.', 'This', 'execution', 'was', 'levied', 'on', 'thirty', 'bales', 'of', 'cotton', ',', 'as', 'the', 'property', 'of', 'Allen', 'Harrison', ',', 'which', 'was', 'claimed', ',', 'and', 'a', 'bond', 'given', 'to', 'try', 'the', 'right', '.', 'An', 'issue', 'was', 'made', 'up', 'to', 'try', 'the', 'question', 'of', 'the', 'liability', 'of', 'the', 'cotton', 'to', 'the', 'plaintiff', '’', 's', 'execution', ',', 'and', 'submitted', 'to', 'a', 'jury', '.', 'On', 'the', 'trial', ',', 'a', 'bill', 'of', 'exceptions', 'was', 'sealed', 'at', 'the', 'instance', 'of', 'the', 'plaintiff', '.', 'The', 'plaintiff', 'proved', 'that', 'he', 'recovered', 'his', 'judgment', 'in', 'October', ',', '1839', ';', 'that', 'an', 'execution', '*741', 'was', 'issued', 'thereon', 'on', 'the', '7th', 'Nov.', 'thereafter', ',', 'and', 'that', 'alias', 'and', 'pluries', 'fieri', 'facias', '’', ',', 'issued', 'regularly', 'up', 'to', 'the', 'time', 'levy', 'was', 'made', ';', 'that', 'the', 'cotton', 'levied', 'on', 'was', 'growed', 'on', 'the', 'plantation', 'of', 'Harrison', ',', 'and', 'cultivated', 'by', 'the', 'hands', 'in', 'his', 'service', '.', 'It', 'was', 'proved', 'by', 'the', 'claimants', ',', 'by', 'the', 'production', 'of', 'a', 'written', 'contract', ',', 'that', 'Harrison', ',', 'on', 'the', 'twenty-second', 'of', 'May', ',', '1840', ',', 'in', 'consideration', 'that', 'the', 'claimants', 'were', 'involved', ',', 'as', 'indorsers', 'for', 'Burton', '&', 'Harrison', 'of', 'Sumter', 'county', ',', 'and', 'were', 'then', 'exposed', 'to', 'an', 'execution', ',', 'amounting', 'to', 'upwards', 'of', 'fourteen', 'thousand', 'dollars', ',', 'bargained', 'and', 'sold', 'to', 'the', 'claimants', 'all', 'his', 'growing', 'crop', 'of', 'cotton', '&', 'c.', ',', 'consisting', 'of', 'one', 'hundred', 'and', 'twenty', 'acres', ',', '&', 'c.', 'Allen', 'Harrison', 'promised', 'and', 'obliged', 'himself', 'to', 'give', 'up', 'his', 'crop', 'to', 'the', 'use', 'of', 'the', 'claimants', 'at', 'any', 'time', 'to', 'save', 'them', 'from', 'suffering', 'as', 'his', 'indorsers', ';', 'if', 'the', 'crop', 'matured', 'and', 'was', 'gathered', 'he', 'undertook', 'to', 'deliver', 'the', 'cotton', 'in', 'Gainesville', '.', 'The', 'claimants', 'came', 'from', 'Tennessee', ',', '(', 'where', 'they', 'resided', ')', 'about', 'the', 'first', 'of', 'September', ',', '1840', ',', 'bringing', 'with', 'them', 'three', 'or', 'four', 'white', 'laborers', ',', 'and', 'took', 'possession', 'of', 'the', 'crop', 'and', 'slaves', ',', 'and', 'with', 'the', 'latter', ',', 'and', 'white', 'laborers', ',', 'gathered', 'the', 'cotton', ',', 'prepared', 'it', 'for', 'market', ',', 'and', 'when', 'levied', 'on', ',', 'it', 'was', 'in', 'a', 'ware-house', 'in', 'Gainesville', '.', 'The', 'plaintiff', 'then', 'proved', 'by', 'Harrison', ',', 'that', 'the', 'claimants', 'took', 'possession', 'of', 'the', 'crop', ',', 'while', 'he', 'was', 'absent', ',', 'and', 'disposed', 'of', 'it', 'without', 'his', 'consent', '.', 'It', 'was', 'admitted', ',', 'that', 'the', 'contract', 'was', 'made', 'in', 'good', 'faith', '.', 'The', 'court', 'charged', 'the', 'jury', ',', 'that', 'the', 'plaintiff', 'had', 'no', 'lien', 'by', 'virtue', 'of', 'his', 'judgment', ',', 'and', 'execution', 'on', 'the', 'growing', 'crop', ';', 'that', 'Harrison', 'had', 'a', 'right', 'to', 'convey', 'it', ',', 'without', 'being', 'in', 'any', 'manner', 'restrained', 'by', 'them', ';', 'that', 'the', 'writing', 'adduced', ',', 'was', 'a', 'sale', 'of', 'the', 'crop', ',', 'but', 'if', 'it', 'was', 'not', ',', 'and', 'the', 'lien', 'of', 'the', 'fieri', 'facias', 'would', 'have', 'attached', 'upon', 'it', ',', 'when', 'gathered', ',', 'yet', 'if', 'the', 'claimants', 'obtained', 'possession', 'on', 'the', 'first', 'of', 'September', ',', 'and', 'controlled', 'the', 'gathering', 'of', 'the', 'crop', ',', 'then', 'no', 'lien', 'attached', ',', 'and', 'it', 'was', 'not', 'subject', 'to', 'the', 'levy', '.', 'Attorneys', 'and', 'Law', 'Firms', 'R.', 'H.', 'SMITH', ',', 'for', 'the', 'plaintiff', ',', 'in', 'error', ',', 'made', 'the', 'following', 'points.', '--', '1', '.', 'The', 'crop', 'of', 'Harrison', ',', 'must', ',', 'in', 'May', ',', '1840', ',', 'have', 'been', 'in', 'an', 'immature', 'state', ',', 'and', 'it', 'is', 'insisted', ',', 'was', 'not', 'the', 'subject', 'of', 'a', 'sale', '.', '2', '.', 'By', 'the', 'common', 'law', ',', 'a', 'growing', 'crop', 'could', 'be', 'levied', 'on', 'and', 'sold', ',', '[', '1', 'Salk', '.', 'Rep.', '361', ';', '1', 'Bos', '.', '&', 'P.', 'Rep.', '307', ';', '6', 'East', '’', 's', 'Rep.', '604', ',', 'note', '1', ';', '2', 'Johns', '.', 'Rep.', '418', ',', '422', ';', '7', 'Mass', '.', 'Rep.', '34', ',', ']', 'and', 'our', 'statue', ',', '[', '[', '[', 'Aik', '.', 'Dig', '.', '§', '41', ',', 'p.', '167', ',', ']', 'which', 'forbids', 'the', 'levy', 'of', 'an', '*742', 'execution', 'on', 'a', 'growing', 'crop', ',', 'is', 'to', 'receive', 'a', 'strict', 'construction', '.', 'It', 'merely', 'inhibits', 'the', 'levy', ',', 'but', 'the', 'lien', 'attaches', ',', 'and', 'a', 'levy', 'and', 'sale', 'may', 'be', 'made', 'after', 'the', 'crop', 'matures', ',', 'and', 'is', 'gathered', '.', '3', '.', 'The', 'contract', 'does', 'not', 'purport', 'to', 'convey', 'the', 'growing', 'crop', ',', 'but', 'is', 'a', 'mere', 'executory', 'agreement', ',', 'requiring', 'some', 'act', 'to', 'be', 'done', 'by', 'Harrison', ',', 'in', 'order', 'to', 'invest', 'the', 'claimants', 'with', 'the', 'right', 'of', 'property', '.', '[', 'Chit', '.', 'on', 'Con', '.', '112', ',', '207', ';', '3', 'Johns', '.', 'Rep.', '338', ',', '424', ';', '5', 'Wend', '.', 'Rep.', '26', ';', '13', 'Johns', '.', 'Rep.', '235', ';', '8', 'Dowl', '.', 'Rep', ',', '693', ';', ']', 'and', 'until', 'this', 'act', 'was', 'done', ',', 'the', 'crop', ',', 'no', 'matter', 'by', 'who', 'gathered', ',', 'because', 'liable', 'to', 'be', 'seized', 'for', 'Harrison', '’', 's', 'debts', '.', 'A', 'court', 'of', 'chancery', 'would', 'not', 'compel', 'a', 'specific', 'performance', 'of', 'the', 'contract', 'at', 'the', 'claimant', '’', 's', 'instance', '.', '4', '.', 'The', 'charge', 'of', 'the', 'court', 'is', 'also', 'objectionable', 'in', 'deciding', 'disputed', 'facts', '.', 'W.', 'M.', 'MURPHY', ',', 'with', 'whom', 'was', 'W.', 'G.', 'JONES', ',', 'for', 'the', 'defendant', '--', 'cited', 'the', 'act', 'of', '1821', ',', '[', 'Aik', '.', 'Dig', '.', '167', ',', ']', 'which', 'declares', 'it', 'to', 'be', 'lawful', 'to', 'levy', 'an', 'execution', 'on', 'a', 'planted', 'crop', ',', 'until', 'it', 'is', 'gathered', ',', 'and', 'contended', 'that', 'no', 'lien', 'attached', 'in', 'favor', 'of', 'the', 'plaintiff', '.', 'This', 'being', 'the', 'case', ',', 'the', 'defendant', 'in', 'execution', 'was', 'not', 'restrained', 'from', 'making', 'the', 'contract', 'which', 'he', 'did', 'with', 'the', 'claimants', '.', '**2', 'The', 'lien', 'of', 'an', 'execution', 'is', 'destroyed', 'by', 'an', 'injunction', ',', 'because', 'it', 'takes', 'away', 'the', 'right', 'to', 'levy', 'it', '.', 'In', 'short', ',', 'whenever', 'the', 'right', 'to', 'levy', 'an', 'execution', 'is', 'but', 'temporarily', 'suspended', ',', 'or', 'withdrawn', ',', 'the', 'lien', 'is', 'during', 'that', 'time', 'lost', '.', '[', '[', '[', '[', 'Whipple', 'v.', 'Foot', ',', '2', 'Johns', '.', 'Rep.', '216', ';', '3', 'Wash.', 'C.', 'C.', 'Rep.', '66', ';', '4', 'How', '.', 'Rep', '.', '130', '.', ']', 'It', 'is', 'admitted', 'that', 'the', 'contract', 'between', 'the', 'defendant', 'in', 'execution', ',', 'and', 'the', 'claimants', ',', 'was', 'in', 'good', 'faith', ',', 'if', 'so', ',', 'the', 'severance', 'and', 'removal', 'of', 'the', 'cotton', 'gave', 'the', 'latter', 'a', 'good', 'title', 'against', 'all', 'creditors', 'of', 'the', 'former', '.', 'Opinion', 'COLLIER', ',', 'C.', 'J', '.', 'There', 'can', 'be', 'no', 'doubt', 'that', 'a', 'growing', 'crop', 'has', 'such', 'an', 'existence', 'as', 'to', 'be', 'the', 'subject', 'matter', 'of', 'a', 'sale', ',', 'mortgage', ',', 'or', 'other', 'contract', 'which', 'possess', 'an', 'interest', 'to', 'vest', 'in', 'possession', ',', 'either', 'immediately', 'or', 'at', 'some', 'future', 'time', '.', 'This', 'proposition', 'has', 'frequently', 'been', 'assumed', 'as', 'unquestionable', ';', 'the', 'point', 'of', 'inquiry', 'generally', 'being', ',', 'whether', 'under', 'a', 'statute', 'of', 'frauds', ',', 'such', 'as', 'the', '29', 'Chas', '.', '2', ',', 'it', 'is', 'a', 'mere', 'chattel', ',', 'and', 'transferrable', 'by', 'parol', 'without', 'writing', '.', '[', 'Chitty', 'on', 'Con', '.', '241-2', ',', '332', ';', 'Whipple', 'v.', 'Foot', ',', '2', 'Johns', '.', 'Rep.', '422', ';', 'Stewart', 'v.', 'Doughty', ',', '9', 'Johns', '.', 'Rep.', '112', ';', '*743', 'Austin', 'v.', 'Sawyer', ',', '9', 'Cow', '.', 'Rep.', '39', '.', 'See', 'also', 'Ravesies', 'v.', 'Lee', '&', 'Alston', ',', 'at', 'last', 'term', '.', ']', 'The', 'contract', 'set', 'out', 'in', 'the', 'bill', 'of', 'exceptions', ',', 'we', 'are', 'inclined', 'to', 'think', 'evidences', 'rather', 'a', 'mortgage', 'than', 'an', 'absolute', 'sale', '.', 'It', 'recites', 'that', 'the', 'claimants', 'are', 'involved', 'as', 'indorsers', 'of', 'a', 'mercantile', 'firm', ',', 'of', 'which', 'the', 'defendant', 'was', 'a', 'partner', ';', 'that', 'an', 'execution', 'for', 'upwards', 'of', 'fourteen', 'thousand', 'dollars', 'against', 'their', 'estate', ',', 'is', 'in', 'the', 'sheriff', '’', 's', 'hands', ',', 'and', 'that', 'a', 'conveyance', 'is', 'made', 'of', 'the', 'crop', 'of', 'cotton', ',', 'corn', 'and', 'oats', ',', 'which', 'the', 'grantor', 'agrees', 'to', 'give', 'up', 'at', 'any', 'time', 'to', 'the', 'use', 'of', 'the', 'claimants', ',', 'so', 'as', 'to', 'prevent', 'injury', 'to', 'them', 'as', 'indorsers', '.', 'The', 'defendant', 'in', 'execution', 'might', 'at', 'any', 'time', 'have', 'divested', 'the', 'interest', 'which', 'the', 'contract', 'vested', 'in', 'the', 'claimants', ',', 'by', 'discharging', 'their', 'liability', 'as', 'his', 'indorsers', ',', 'or', 'a', 'judgment', 'creditor', 'might', 'have', 'satisfied', 'the', 'lien', ',', 'and', 'when', 'the', 'crop', 'was', 'gathered', ',', 'have', 'levied', 'on', ',', 'and', 'sold', 'it', 'under', 'a', 'fieri', 'facias', '.', 'We', 'will', 'then', 'consider', 'the', 'writing', 'under', 'which', 'the', 'claimants', 'assert', 'a', 'right', ',', 'as', 'a', 'mortgage', 'with', 'a', 'power', 'to', 'take', 'possession', 'any', 'time', 'during', 'the', 'year', ',', 'unless', 'they', 'should', 'be', 'relieved', 'from', 'their', 'engagements', 'as', 'indorsers', '.', 'It', 'is', 'not', 'pretended', 'that', 'their', 'liability', 'has', 'been', 'satisfied', ',', 'and', 'it', 'is', 'admitted', 'that', 'the', 'parties', 'have', 'acted', 'with', 'good', 'faith', ',', 'so', 'that', 'it', 'is', 'a', 'dry', 'question', 'of', 'law', ',', 'whether', 'the', 'right', 'of', 'the', 'plaintiff', ',', 'or', 'the', 'claimants', 'shall', 'prevail', '.', 'Assuming', 'for', 'the', 'present', 'that', 'the', 'execution', 'of', 'the', 'plaintiffs', 'did', 'not', 'operate', 'a', 'lien', 'upon', 'the', 'planted', 'crop', 'previous', 'to', 'the', 'contract', 'of', 'May', ',', '1840', ',', 'we', 'will', 'inquire', 'whether', 'the', 'defendant', 'in', 'execution', 'had', 'such', 'an', 'interest', 'as', 'could', 'be', 'levied', 'on', 'and', 'sold', '.', 'The', 'claimants', 'had', 'previous', 'to', 'the', 'levy', 'of', 'the', 'execution', 'taken', 'possession', 'of', 'the', 'crop', ',', 'prepared', 'the', 'cotton', 'for', 'market', ',', 'and', 'removed', 'it', 'to', 'a', 'ware-house', '.', 'This', 'possession', ',', 'it', 'is', 'insisted', ',', 'was', 'a', 'trespass', ',', 'because', 'it', 'was', 'acquired', 'in', 'the', 'absence', 'of', 'the', 'defendant', 'in', 'execution', ',', 'and', 'without', 'his', 'consent', 'then', 'given', '.', 'Conceding', 'the', 'truth', 'of', 'the', 'facts', 'stated', 'in', 'the', 'bill', 'of', 'exceptions', ',', 'and', 'we', 'think', 'it', 'will', 'not', 'follow', ',', 'that', 'the', 'possession', 'of', 'the', 'claimants', 'is', 'a', 'nullity', ',', 'and', 'that', 'the', 'case', 'must', 'be', 'considered', 'as', 'if', 'they', 'had', 'never', 'interfered', 'with', 'the', 'crop', '.', 'The', 'contract', 'contains', 'an', 'express', 'undertaking', 'to', 'give', 'up', 'the', 'crop', 'at', 'any', 'time', 'the', 'claimants', 'might', 'require', 'it', 'for', 'their', 'indemnity', ',', 'and', 'if', 'they', 'took', 'possession', 'of', 'it', 'in', 'the', 'absence', 'of', 'the', 'grantor', ',', '(', 'though', 'without', 'his', 'consent', ',', ')', 'if', 'he', 'subsequently', 'acquiesced', 'in', 'it', ',', 'the', 'inference', 'would', 'be', ',', 'if', 'necessary', ',', 'that', 'their', 'acts', 'were', 'approved', 'by', 'him', '.', 'Taking', 'this', 'to', 'be', 'clear', '*744', 'law', ',', 'and', 'it', 'will', 'be', 'seen', ',', 'that', 'the', 'defendant', 'in', 'execution', 'at', 'the', 'time', 'of', 'the', 'levy', 'had', 'nothing', 'more', 'than', 'a', 'mere', 'equitable', 'right', 'to', 'redeem', 'the', 'cotton', 'by', 'paying', 'the', 'debts', 'indorsed', 'by', 'the', 'claimants', '.', 'He', 'had', 'no', 'possession', 'coupled', 'with', 'this', 'equity', ',', 'but', 'only', 'a', 'naked', 'equity', ',', 'which', 'it', 'has', 'been', 'held', 'can', 'not', 'be', 'reached', 'by', 'an', 'ordinary', 'execution', '.', '[', 'Perkins', 'and', 'Elliott', 'v.', 'Mayfield', ',', '5', 'Porter', '’', 's', 'Rep', '.', '182', '.', ']', '**3', 'This', 'brings', 'us', 'back', 'to', 'the', 'question', ',', 'whether', 'the', 'execution', 'of', 'the', 'plaintiff', 'was', 'a', 'lien', 'on', 'the', 'growing', 'crop', ',', 'so', 'as', 'to', 'defeat', 'the', 'mortgage', 'to', 'the', 'claimants', '.', 'It', 'has', 'been', 'frequently', 'mooted', 'whether', ',', 'at', 'common', 'law', ',', 'corn', ',', '&', 'c.', ',', 'before', 'it', 'is', 'gathered', ',', 'can', 'be', 'seized', 'under', 'a', 'fieri', 'facias', '.', 'Mr.', 'Dane', ',', 'in', 'remarking', 'upon', 'this', 'point', ',', 'says', ',', '“', 'The', 'American', 'editor', 'of', 'Bacon', '’', 's', 'Abridgment', ',', 'says', ',', '‘', 'Wheat', 'growing', 'in', 'the', 'ground', 'is', 'a', 'chattel', ',', 'and', 'subject', 'to', 'be', 'taken', 'in', 'execution', ';', 'and', 'the', 'sheriff', 'may', 'suffer', 'it', 'to', 'grow', 'till', 'harvest', ',', 'and', 'then', 'cut', 'and', 'sell', 'it', ';', 'or', 'may', 'perhaps', 'sell', 'it', 'growing', ',', 'and', 'the', 'purchaser', 'will', 'then', 'be', 'entitled', 'to', 'enter', ',', 'for', 'the', 'purpose', 'of', 'cutting', 'and', 'carrying', 'it', 'away.', '”', '[', 'He', 'cites', 'Whipple', 'v.', 'Foot', ',', 'ut', 'supra', ',', 'also', 'Poole', '’', 's', 'case', ',', 'Salk', '.', '368', ';', '1', 'Bos', '.', '&', 'P.', '397', ';', '6', 'East', ',', '604', ',', 'n.', ']', 'But', 'Whipple', 'v.', 'Foot', 'seems', 'to', 'be', 'the', 'only', 'case', 'that', 'supports', 'his', 'position', ',', 'that', 'unripe', 'wheat', 'or', 'corn', 'may', 'be', 'taken', 'in', 'execution', ';', 'and', 'the', 'same', 'editor', 'states', 'that', 'nothing', 'can', 'be', 'taken', 'in', 'execution', 'which', 'can', 'not', 'be', 'sold', '.', 'This', 'position', ',', 'says', 'the', 'learned', 'commentator', ',', 'is', 'no', 'doubt', 'law', '.', 'But', 'it', 'is', 'unnecessary', 'to', 'consider', 'how', 'this', 'matter', 'stands', 'at', 'common', 'law', '.', 'The', 'first', 'section', 'of', 'the', 'act', 'of', '1821', ',', '“', 'To', 'prevent', 'sheriffs', 'and', 'other', 'officers', 'from', 'levying', 'executions', 'in', 'certain', 'cases', ',', 'enacts', ',', 'that', '“', 'It', 'shall', 'not', 'be', 'lawful', 'for', 'any', 'sheriff', 'or', 'other', 'officer', ',', 'to', 'levy', 'a', 'writ', 'of', 'fieri', 'facias', 'or', 'other', 'execution', 'on', 'the', 'planted', 'crop', 'of', 'a', 'debtor', ',', 'or', 'person', 'against', 'whom', 'an', 'execution', 'may', 'issue', ',', 'until', 'the', 'crop', 'is', 'gathered.', '”', '[', 'Aik', '.', 'Dig', '.', '167', '.', ']', 'Now', 'here', 'is', 'an', 'express', 'inhibition', 'to', 'levy', 'an', 'execution', 'on', 'a', 'crop', 'while', 'it', 'remains', 'on', ',', 'or', 'in', 'the', 'ground', ',', 'and', 'until', 'it', 'is', 'severed', 'from', 'the', 'soil', 'to', 'which', 'it', 'owes', 'its', 'growth', '.', 'In', 'respect', 'to', 'property', 'thus', 'situated', ',', 'will', 'the', 'lien', 'of', 'an', 'execution', 'attach', 'eo', 'instanti', 'upon', 'its', 'being', 'placed', 'in', 'the', 'hands', 'of', 'an', 'officer', '?', 'If', 'so', ',', 'the', 'act', 'cited', ',', 'will', 'only', 'have', 'the', 'effect', 'of', 'keeping', 'the', 'right', 'to', 'levy', 'it', 'in', 'abeyance', 'until', 'the', 'crop', 'is', 'gathered', '.', 'The', 'lien', 'of', 'an', 'execution', 'does', ',', 'not', 'only', 'operate', 'so', 'as', 'to', 'prevent', 'the', 'debtor', 'from', 'disposing', 'of', 'the', 'property', 'on', 'which', 'it', 'attaches', ',', 'but', 'gives', 'to', 'the', 'creditor', 'the', 'right', 'to', 'have', 'it', 'sold', 'to', 'satisfy', 'his', '*745', 'judgment', '.', 'The', 'lien', 'and', 'the', 'right', 'to', 'levy', 'are', 'intimately', 'connected', ',', 'and', 'if', 'the', 'latter', 'be', 'taken', 'away', ',', 'or', 'suspended', ',', 'the', 'effect', ',', 'at', 'common', 'law', ',', 'is', 'the', 'destruction', 'of', 'the', 'former', '.', 'This', 'principle', 'is', 'fully', 'established', 'by', 'Mansony', 'and', 'Hurtell', 'v.', 'The', 'President', ',', '&', 'c.', 'of', 'the', 'Bank', 'of', 'the', 'United', 'States', ',', 'and', 'its', 'assignees', ',', 'and', 'the', 'citations', 'contained', 'in', 'the', 'opinion', 'of', 'the', 'court', 'in', 'that', 'case', ',', 'as', 'also', 'in', 'my', 'opinion', 'in', 'Wood', 'v.', 'Gary', ',', 'et', 'al.', ',', 'both', 'decided', 'at', 'the', 'last', 'term', '.', 'That', 'it', 'was', 'competent', 'for', 'the', 'legislature', 'to', 'have', 'made', 'it', 'unlawful', 'to', 'levy', 'an', 'execution', 'on', 'particular', 'property', ',', 'until', 'its', 'condition', 'was', 'changed', ',', 'and', 'still', 'to', 'give', 'it', 'a', 'continuing', 'lien', ',', 'can', 'not', 'be', 'doubted', ';', 'but', 'there', 'is', 'nothing', 'in', 'the', 'act', 'in', 'question', 'to', 'indicate', 'that', 'such', 'is', 'its', 'intention', '.', 'If', 'the', 'object', 'was', 'merely', 'to', 'suspend', 'the', 'sale', ',', 'until', 'the', 'crop', 'was', 'gathered', ',', 'it', 'would', 'have', 'been', 'very', 'easy', 'to', 'have', 'said', 'so', 'in', 'explicit', 'terms', ',', 'but', 'declaring', 'as', 'the', 'statute', 'does', ',', 'in', 'totidem', 'verbis', ',', 'that', 'the', 'execution', 'shall', 'not', 'be', 'levied', ',', 'the', 'legislature', 'must', 'be', 'supposed', 'to', 'have', 'meant', 'what', 'they', 'have', 'expressed', '.', 'The', 'act', 'was', 'induced', 'by', 'the', 'doubts', 'which', 'existed', 'as', 'to', 'what', 'was', 'the', 'common', 'law', ',', 'and', 'was', 'intended', 'to', 'remove', 'those', 'doubts', 'by', 'declaring', 'what', 'should', 'be', 'the', 'law', 'in', 'future', '.', 'It', 'does', 'not', 'create', 'a', 'lien', 'or', 'authorize', 'a', 'levy', 'in', 'a', 'case', 'in', 'which', 'the', 'law', ',', 'as', 'it', 'then', 'existed', ',', 'was', 'silent', '.', 'The', 'idea', 'that', 'the', 'lien', 'attached', 'upon', 'the', 'planted', 'crop', 'as', 'soon', 'as', 'the', 'execution', 'was', 'delivered', 'to', 'the', 'sheriff', ',', 'though', 'the', 'right', 'to', 'levy', 'it', 'was', 'postponed', 'until', 'a', 'severance', 'took', 'place', ',', 'is', 'attempted', 'to', 'be', 'deduced', 'from', 'the', 'last', 'words', 'of', 'the', 'section', 'cited', ',', 'viz', ':', '“', 'until', 'the', 'crop', 'is', 'gathered.', '”', 'These', 'words', 'can', 'not', ',', 'upon', 'any', 'just', 'principles', 'of', 'construction', 'be', 'regarded', 'so', 'potent', 'as', 'to', 'give', 'to', 'an', 'execution', 'a', 'retrospective', 'effect', '.', 'They', 'do', 'not', 'refer', 'to', 'the', 'lien', ',', 'if', 'they', 'did', 'they', 'would', 'postpone', 'it', 'until', 'the', 'crop', 'was', 'gathered', ';', 'but', 'it', 'is', 'the', 'levy', 'they', 'relate', 'to', 'and', 'postpone', 'until', 'that', 'event', 'takes', 'place', '.', '**4', 'The', 'right', 'to', 'levy', 'an', 'execution', 'on', 'a', 'planted', 'crop', ',', 'then', ',', 'being', 'expressly', 'taken', 'away', 'by', 'the', 'statute', ',', 'the', 'lien', 'which', 'is', 'connected', 'with', 'and', 'consequent', 'upon', 'that', 'right', ',', 'never', 'attaches', 'until', 'severance', '.', 'This', 'being', 'the', 'case', ',', 'the', 'right', 'of', 'the', 'defendant', 'in', 'execution', 'to', 'make', 'the', 'contract', 'which', 'he', 'did', ',', 'is', 'unquestionable', ',', 'and', 'the', 'title', 'of', 'the', 'claimants', ',', 'coupled', 'as', 'it', 'was', 'with', 'the', 'possession', ',', 'was', 'paramount', 'to', 'any', 'lien', 'which', 'the', 'execution', 'could', 'exert', '.', 'The', 'circuit', 'judge', 'may', 'have', 'mistaken', 'the', 'law', 'in', 'supposing', 'that', 'the', 'contract', 'was', 'a', 'sale', ',', 'but', 'if', 'he', 'did', ',', 'an', 'error', 'in', 'that', 'respect', 'was', 'very', 'immaterial', ',', 'for', 'whether', 'a', 'sale', 'or', 'mortgage', ',', 'as', 'we', 'have', '*746', 'seen', ',', 'under', 'the', 'facts', 'of', 'the', 'case', ',', 'the', 'defendant', 'in', 'execution', 'has', 'no', 'interest', 'that', 'could', 'be', 'seised', 'and', 'sold', 'under', 'execution', '.', 'There', 'is', 'no', 'assumption', 'of', 'any', 'material', 'fact', 'in', 'the', 'charge', ';', 'but', 'the', 'possession', 'of', 'the', 'claimant', ',', 'the', 'time', 'when', 'acquired', ',', 'the', 'gathering', 'of', 'the', 'crop', ',', '&', 'c.', ',', 'are', 'all', 'referred', 'to', 'the', 'determination', 'of', 'the', 'jury', ';', 'who', 'are', 'instructed', ',', 'if', 'they', 'find', 'them', 'according', 'to', 'the', 'evidence', 'adduced', ',', 'that', 'no', 'lien', 'ever', 'attached', 'in', 'favor', 'of', 'the', 'plaintiff', '.', 'The', 'bona', 'fides', 'of', 'the', 'contract', 'was', 'conceded', ',', 'so', 'that', 'no', 'charge', 'was', 'necessary', 'on', 'that', 'point', ',', 'and', 'it', 'could', 'not', 'with', 'propriety', 'enter', 'into', 'the', 'inquiry', 'of', 'the', 'jury', '.', 'It', 'results', 'from', 'what', 'has', 'been', 'said', ',', 'that', 'the', 'judgment', 'of', 'the', 'circuit', 'court', 'is', 'affirmed', '.', 'DISSENTING', 'OPINION', '.', 'ORMOND', ',', 'J', '.', '**4', 'The', 'statute', 'which', 'presents', 'the', 'question', 'before', 'the', 'court', 'is', ',', 'that', '“', 'it', 'shall', 'not', 'be', 'lawful', 'for', 'any', 'sheriff', 'or', 'other', 'officer', 'to', 'levy', 'a', 'writ', 'of', 'fieei', 'facias', 'or', 'other', 'execution', ',', 'on', 'the', 'planted', 'crop', 'of', 'a', 'debtor', ',', 'or', 'person', 'against', 'whom', 'an', 'execution', 'may', 'issue', ',', 'until', 'the', 'crop', 'is', 'gathered.', '”', '[', 'Clay', '’', 's', 'Dig', '.', '210', ',', '§', '46', '.', ']', 'I', 'shall', 'not', 'enter', 'upon', 'the', 'enquiry', ',', 'whether', ',', 'at', 'common', 'law', ',', 'an', 'execution', 'could', 'be', 'levied', 'upon', 'a', 'growing', 'crop', ',', 'though', 'I', 'apprehend', ',', 'it', 'would', 'not', 'be', 'difficult', 'to', 'maintain', 'the', 'affirmative', 'of', 'the', 'proposition', '.', 'It', 'is', 'sufficient', 'for', 'my', 'purpose', ',', 'that', 'the', 'statute', 'supposes', 'such', 'to', 'have', 'been', 'the', 'law', ',', 'as', 'it', 'doubtless', 'was', 'the', 'practice', '.', 'This', 'act', 'must', 'be', 'considered', 'in', 'connection', 'with', 'the', 'other', 'acts', 'upon', 'the', 'same', 'subject', '.', 'The', 'policy', 'of', 'the', 'State', ',', 'as', 'indicated', 'by', 'these', 'statutes', ',', 'is', 'undeniably', 'that', 'all', 'the', 'property', 'of', 'a', 'debtor', ',', 'real', 'and', 'personal', ',', 'to', 'which', 'he', 'has', 'a', 'legal', 'title', ',', 'shall', 'be', 'subject', 'to', 'sale', 'by', 'execution', ',', 'and', 'it', 'appears', 'to', 'me', 'that', 'it', 'would', 'be', 'difficult', 'to', 'assign', 'a', 'reason', 'for', 'the', 'exemption', 'of', 'this', 'species', 'of', 'property', 'from', 'the', 'claims', 'of', 'judgment', 'creditors', ',', 'and', 'for', 'giving', 'to', 'the', 'defendant', 'in', 'execution', 'the', 'right', 'to', 'dispose', 'of', 'it', '.', 'It', 'appears', 'to', 'me', ',', 'with', 'all', 'deference', ',', 'that', 'the', 'argument', 'that', 'because', 'the', 'sheriff', 'was', 'prohibited', 'from', 'levying', 'on', 'a', '“', '“', 'planted', 'crop', ',', '”', 'that', 'therefore', 'the', 'execution', 'had', 'lost', 'its', 'lien', ',', 'and', 'the', 'debtor', 'had', 'the', 'right', 'to', 'sell', 'it', ',', 'is', 'a', 'non', 'sequitur', '.', 'The', 'mischief', 'which', 'the', 'statute', 'designed', 'to', 'remedy', 'was', ',', 'the', 'sacrifice', 'which', 'would', 'be', 'necessarily', 'made', 'by', 'the', 'sale', 'of', 'an', 'immature', 'crop', ':', 'the', 'statute', 'enables', 'the', 'debtor', 'to', 'retain', 'it', 'until', 'it', 'matures', ',', 'and', 'by', 'severing', 'it', 'from', 'the', 'soil', 'to', 'put', 'it', '*747', 'in', 'a', 'condition', 'to', 'bring', 'its', 'value', '--', 'the', 'lien', 'in', 'the', 'mean', 'time', 'continuing', 'in', 'the', 'plaintiff', 'in', 'execution', '.', '**5', 'If', 'further', 'confirmation', 'of', 'the', 'correctness', 'of', 'this', 'view', 'were', 'necessary', ',', 'it', 'will', 'be', 'found', ',', 'I', 'think', ',', 'in', 'the', 'language', 'employed', 'by', 'the', 'legislature', '.', 'The', 'sheriff', 'is', 'forbidden', 'to', 'levy', 'on', 'a', '“', 'planted', 'crop', '”', 'until', 'the', 'crop', 'is', 'gathered', '.', 'Now', ',', 'if', 'the', 'view', 'taken', 'by', 'the', 'majority', 'of', 'the', 'court', ',', 'is', 'correct', ',', 'the', 'right', 'secured', 'to', 'the', 'plaintiff', 'in', 'execution', ',', 'of', 'levying', 'on', 'the', 'crop', 'after', 'it', 'is', 'gathered', ',', 'may', 'be', 'frustrated', ',', 'as', 'it', 'was', 'in', 'this', 'case', ',', 'by', 'a', 'sale', 'by', 'the', 'defendant', 'in', 'execution', ',', 'whilst', 'the', 'crop', 'is', 'in', 'an', 'immature', 'state', '.', 'The', 'construction', 'which', 'has', 'been', 'put', 'upon', 'the', 'statute', ',', 'involves', 'the', 'singular', 'anomaly', ',', 'that', 'the', 'legislature', ',', 'for', 'the', 'protection', 'of', 'the', 'debtor', ',', 'has', 'forbidden', 'the', 'plaintiff', 'in', 'execution', 'to', 'sell', 'the', 'property', 'of', 'his', 'debtor', ',', 'because', 'it', 'is', 'not', 'in', 'a', 'condition', 'to', 'bring', 'its', 'value', ',', 'and', 'yet', 'permits', 'the', 'debtor', ',', 'voluntarily', ',', 'by', 'a', 'sale', ',', 'to', 'submit', 'to', 'the', 'same', 'sacrifice', ',', 'for', 'his', 'own', 'benefit', '.', 'It', 'is', ',', 'in', 'effect', ',', 'a', 'gift', 'to', 'the', 'defendant', 'in', 'execution', ',', 'of', 'the', 'growing', 'crop', ',', 'provided', 'he', 'does', 'not', 'gather', 'it', 'himself', ',', 'but', 'disposes', 'of', 'it', 'in', 'its', 'then', 'condition', '.', 'This', ',', 'I', 'feel', 'a', 'thorough', 'conviction', ',', 'was', 'not', 'the', 'intention', 'of', 'the', 'legislature', ';', 'but', 'that', 'it', 'was', 'to', 'secure', 'him', 'from', 'loss', ',', 'by', 'prohibiting', 'a', 'levy', 'and', 'sale', 'of', 'the', 'crop', ',', 'until', 'it', 'was', 'gathered', ',', 'when', 'the', 'temporary', 'suspension', 'of', 'the', 'right', 'to', 'sell', ',', 'ceased', '.', 'All', 'Citations', '5', 'Ala.', '740', ',', '1843', 'WL', '284', 'End', 'of', 'Document', '©', '2019', 'Thomson', 'Reuters', '.', 'No', 'claim', 'to', 'original', 'U.S.', 'Government', 'Works', '.', 'Citing', 'References', '(', '9', ')', 'Treatment', 'Title', 'Date', 'Type', 'Depth', 'Headnote', '(', 's', ')', 'Cited', 'by', '1', '.', 'Booker', 'v.', 'Jones', '’', 's', 'Adm', '’', 'x', '55', 'Ala.', '266', ',', '271', ',', 'Ala.', 'Trover', 'for', 'Conversion', 'of', 'Cotton', ',', 'with', 'Counts', 'in', 'Case', '.', 'APPEAL', 'from', 'the', 'Circuit', 'Court', 'of', 'Hale', '.', 'Tried', 'before', 'the', 'Hon', '.', 'M.', 'J.', 'SAFFOLD', '.', 'Dec', 'Term', '1876', 'Case', '—', 'Cited', 'by', '2', '.', 'Lehman', ',', 'Durr', '&', 'Co.', 'v.', 'Marshall', '47', 'Ala.', '362', ',', '376', ',', 'Ala.', '[', 'TROVER', 'FOR', 'CONVERSION', 'OF', 'COTTON', '.', ']', 'APPEAL', 'from', 'the', 'City', 'Court', 'of', 'Montgomery', '.', 'Tried', 'before', 'Hon', '.', 'JOHN', 'D.', 'CUNNINGHAM', '.', 'Jan', 'Term', '1872', 'Case', '—', 'Cited', 'by', '3', '.', 'Bibb', 'v.', 'Janney', '45', 'Ala.', '329', ',', '334', ',', 'Ala.', '[', 'GARNISHMENT', ';', 'WAGES', ';', 'WAIVER', 'OF', 'EXEMPTION', '.', ']', 'APPEAL', 'from', 'City', 'Court', 'of', 'Montgomery', '.', 'Tried', 'before', 'Hon', '.', 'JOHN', 'D.', 'CUNNINGHAM', '.', 'Jan', 'Term', '1871', 'Case', '—', 'Cited', 'by', '4', '.', 'McKenzie', 'v.', 'Lampley', '31', 'Ala.', '526', ',', '527', ',', 'Ala.', '[', 'TRIAL', 'OF', 'RIGHT', 'OF', 'PROPERTY', 'IN', 'COTTON', '.', ']', 'APPEAL', 'from', 'the', 'Circuit', 'Court', 'of', 'Barbour', '.', 'Tried', 'before', 'the', 'Hon', '.', 'S.', 'D.', 'HALE', '.', 'Jan', 'Term', '1858', 'Case', '—', 'Cited', 'by', '5', '.', 'Evans', 'v.', 'Lamar', '21', 'Ala.', '333', ',', '335+', ',', 'Ala.', 'ERROR', 'to', 'the', 'Circuit', 'Court', 'of', 'Autauga', '.', 'Tried', 'before', 'the', 'Hon', '.', 'A', '.', 'B.', 'MOORE', '.', 'Jun', 'Term', '1852', 'Case', '—', 'Cited', 'by', '6', '.', 'Dewey', 'v.', 'Bowman', '8', 'Cal', '.', '145', ',', '147', ',', 'Cal', '.', 'The', 'judgment', 'of', 'the', 'Court', 'below', ',', 'against', 'Jacob', 'S.', 'Cohen', ',', 'should', 'be', 'reversed', ',', 'for', 'the', 'following', 'reasons', ':', 'Because', 'the', 'finding', 'of', 'the', 'Court', 'was', ',', 'so', 'far', 'as', 'Cohen', 'was', 'concerned', ',', '...', 'Jul', 'Term', '1857', 'Case', '—', 'Mentioned', 'by', '7', '.', 'Rees', 'v.', 'Coats', '65', 'Ala.', '256', ',', '258', ',', 'Ala.', 'Trover', 'for', 'Conversion', 'of', 'Three', 'Bales', 'of', 'Cotton', '.', 'APPEAL', 'from', 'the', 'Circuit', 'Court', 'of', 'Etowah', '.', 'Tried', 'before', 'the', 'Hon', '.', 'WM', '.', 'L.', 'WHITLOCK', '.', 'Nov', 'Term', '1880', 'Case', '—', 'Mentioned', 'by', '8', '.', 'Edwards', 'v.', 'Thompson', '4', 'S.W', '.', '913', ',', '914', ',', 'Tenn.', 'Appeal', 'from', 'circuit', 'court', ',', 'Weakley', 'county', '.', 'May', '1887', 'Case', '—', '—', '9', '.', 'Growing', 'crops', 'as', 'subject', 'to', 'levy', 'and', 'seizure', 'under', 'attachment', 'or', 'execution', '103', 'A.L.R', '.', '464', 'Generally', ',', 'at', 'common', 'law', ',', 'growing', 'crops', 'raised', 'by', 'annual', 'planting', ',', 'while', 'still', 'attached', 'to', 'the', 'soil', ',', 'are', 'regarded', 'as', 'personal', 'chattels', ',', 'subject', 'to', 'levy', 'and', 'seizure', 'under', 'attachment', '...', '1936', 'ALR', '—', '—', 'Table', 'of', 'Authorities', '(', '3', ')', 'Treatment', 'Referenced', 'Title', 'Type', 'Depth', 'Quoted', 'Page', 'Number', 'Mentioned', '1', '.', 'Austin', 'v.', 'Sawyer', '9', 'Cow', '.', '39', ',', 'N.Y.Sup.', ',', '1828', 'Parol', 'evidence', 'is', 'not', 'admissible', 'to', 'contradict', ',', 'or', 'substantially', 'vary', ',', 'a', 'written', 'contract', '.', 'And', 'where', 'A.', 'quit-claimed', 'land', 'to', 'W.', ',', 'on', 'which', 'a', 'crop', 'of', 'wheat', 'was', 'growing', ',', 'reserving', 'the', '...', 'Case', '2', 'Cited', '2', '.', 'Perkins', 'v.', 'Mayfield', '5', 'Port', '.', '182', ',', 'Ala.', ',', '1837', 'On', 'writ', 'of', 'error', 'to', 'the', 'Circuit', 'Court', 'of', 'Tuskaloosa', '.', 'Case', '2+', 'Mentioned', '3', '.', 'Stewart', 'v.', 'Doughty', '9', 'Johns', '.', '108', ',', 'N.Y.Sup.', ',', '1812', 'A.', 'let', 'to', 'B.', 'a', 'farm', 'for', 'six', 'years', ',', 'and', 'A.', 'agreed', '“', 'to', 'render', ',', 'yield', 'and', 'pay', 'to', 'A.', 'the', 'one', 'half', 'of', 'all', 'the', 'wheat', ',', 'rye', ',', 'corn', 'and', 'other', 'grain', ',', 'raised', 'on', 'the', 'farm', 'in', 'each', 'year', ',', 'in', 'the', '...', 'Case', '2', 'Filings', 'There', 'are', 'no', 'Filings', 'for', 'this', 'citation', '.', 'Negative', 'Treatment', 'There', 'are', 'no', 'Negative', 'Treatment', 'results', 'for', 'this', 'citation', '.', 'History', 'There', 'are', 'no', 'History', 'results', 'for', 'this', 'citation', '.']\n"
          ],
          "name": "stdout"
        }
      ]
    },
    {
      "cell_type": "code",
      "metadata": {
        "id": "mYxLdVGRFrAx",
        "colab_type": "code",
        "colab": {}
      },
      "source": [
        "#1.2.8 stemming\n",
        "from nltk.stem import PorterStemmer\n",
        "from nltk.tokenize import sent_tokenize, word_tokenize\n",
        "d = open(\"file.txt\", \"r\", encoding='cp1252')\n",
        "f = d.read()\n",
        "stem_file = word_tokenize(f)\n",
        "ps = PorterStemmer()\n",
        "for w in stem_file:\n",
        "\tstemmed=ps.stem(w)\n",
        "\tprint(stemmed)"
      ],
      "execution_count": 0,
      "outputs": []
    },
    {
      "cell_type": "code",
      "metadata": {
        "id": "BLa-_PBxNsDN",
        "colab_type": "code",
        "outputId": "c38fe315-cd49-4e64-9dfa-586e491c15b1",
        "colab": {
          "base_uri": "https://localhost:8080/",
          "height": 34
        }
      },
      "source": [
        "!pip install nltk\n",
        "nltk.download('wordnet')"
      ],
      "execution_count": 0,
      "outputs": [
        {
          "output_type": "execute_result",
          "data": {
            "text/plain": [
              "True"
            ]
          },
          "metadata": {
            "tags": []
          },
          "execution_count": 96
        }
      ]
    },
    {
      "cell_type": "code",
      "metadata": {
        "id": "Z_utzujVLoW9",
        "colab_type": "code",
        "colab": {}
      },
      "source": [
        "from nltk.stem import WordNetLemmatizer\n",
        "from pywsd.utils import lemmatize_sentence\n",
        "lmm = WordNetLemmatizer()\n",
        "new_data= []\n",
        "d = open(\"file.txt\", \"r\", encoding='cp1252')\n",
        "f = d.read()\n",
        "f2 = f.split()\n",
        "for line in f2:\n",
        "  new_data=(' '.join(lemmatize_sentence(line))\n",
        "  print(new_data)\n",
        "\n",
        " "
      ],
      "execution_count": 0,
      "outputs": []
    },
    {
      "cell_type": "markdown",
      "metadata": {
        "id": "BBiC4E_kefvV",
        "colab_type": "text"
      },
      "source": [
        "# 2. Python Regular Expression"
      ]
    },
    {
      "cell_type": "markdown",
      "metadata": {
        "id": "Z1QJ-UwCenvN",
        "colab_type": "text"
      },
      "source": [
        "## 2.1 Write a Python program to remove leading zeros from an IP address. \n",
        "\n",
        "ip = \"260.08.094.109\""
      ]
    },
    {
      "cell_type": "code",
      "metadata": {
        "id": "wSv6fVhOfFmv",
        "colab_type": "code",
        "outputId": "69cad332-a625-4c1e-9ae5-654b8ebf9a80",
        "colab": {
          "base_uri": "https://localhost:8080/",
          "height": 34
        }
      },
      "source": [
        "# Write your code here\n",
        "import re\n",
        "ip = \"260.08.094.109\"\n",
        "without_zero = re.sub('\\.[0]*', '.', ip)\n",
        "print(without_zero)\n"
      ],
      "execution_count": 0,
      "outputs": [
        {
          "output_type": "stream",
          "text": [
            "260.8.94.109\n"
          ],
          "name": "stdout"
        }
      ]
    },
    {
      "cell_type": "markdown",
      "metadata": {
        "id": "PXRjaHzrfKAy",
        "colab_type": "text"
      },
      "source": [
        "## 2.2 Write a Python Program to extract all the years from the following sentence.\n",
        "\n",
        "sentence = \"The 2010s were a dramatic decade, filled with ups and downs, more than 1000 stroies have happened. As the decade comes to a close, Insider took a look back at some of the biggest headline-grabbing stories, from 2010 to 2019. The result was 119 news stories that ranged from the heartwarming rescue of a Thai boys' soccer team from a flooded cave to the divisive election of President Donald Trump.\""
      ]
    },
    {
      "cell_type": "code",
      "metadata": {
        "id": "cKyfBVzb131C",
        "colab_type": "code",
        "colab": {}
      },
      "source": [
        "pip install datefinder"
      ],
      "execution_count": 0,
      "outputs": []
    },
    {
      "cell_type": "code",
      "metadata": {
        "id": "7xdJpDx9gjbX",
        "colab_type": "code",
        "outputId": "cfc51feb-4cfb-4f3d-8f3f-2b6ce9557cce",
        "colab": {
          "base_uri": "https://localhost:8080/",
          "height": 85
        }
      },
      "source": [
        "# Write your code here\n",
        "import re\n",
        "sentence = \"The 2010s were a dramatic decade, filled with ups and downs, more than 1000 stroies have happened. As the decade comes to a close, Insider took a look back at some of the biggest headline-grabbing stories, from 2010 to 2019. The result was 119 news stories that ranged from the heartwarming rescue of a Thai boys' soccer team from a flooded cave to the divisive election of President Donald Trump.\"\n",
        "years = re.findall(r\"[\\d]{4}\", sentence )\n",
        "for year in years:\n",
        "    print(year)"
      ],
      "execution_count": 0,
      "outputs": [
        {
          "output_type": "stream",
          "text": [
            "2010\n",
            "1000\n",
            "2010\n",
            "2019\n"
          ],
          "name": "stdout"
        }
      ]
    }
  ]
}