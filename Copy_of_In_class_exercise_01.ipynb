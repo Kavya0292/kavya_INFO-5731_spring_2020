{
  "nbformat": 4,
  "nbformat_minor": 0,
  "metadata": {
    "colab": {
      "name": "Copy of In_class_exercise_01.ipynb",
      "provenance": [],
      "collapsed_sections": [],
      "include_colab_link": true
    },
    "kernelspec": {
      "name": "python3",
      "display_name": "Python 3"
    }
  },
  "cells": [
    {
      "cell_type": "markdown",
      "metadata": {
        "id": "view-in-github",
        "colab_type": "text"
      },
      "source": [
        "<a href=\"https://colab.research.google.com/github/kavyaperavali/kavya_INFO-5731_spring_2020/blob/master/Copy_of_In_class_exercise_01.ipynb\" target=\"_parent\"><img src=\"https://colab.research.google.com/assets/colab-badge.svg\" alt=\"Open In Colab\"/></a>"
      ]
    },
    {
      "cell_type": "markdown",
      "metadata": {
        "id": "DymRJbxDBCnf",
        "colab_type": "text"
      },
      "source": [
        "# **The first In-class-exercise**"
      ]
    },
    {
      "cell_type": "markdown",
      "metadata": {
        "id": "03jb4GZsBkBS",
        "colab_type": "text"
      },
      "source": [
        "(1) Write a Python program to calculate the length of a string."
      ]
    },
    {
      "cell_type": "code",
      "metadata": {
        "id": "YaGLbSHHB8Ej",
        "colab_type": "code",
        "outputId": "1ab3b08f-1ca1-4b3a-d424-0171dee0a978",
        "colab": {
          "base_uri": "https://localhost:8080/",
          "height": 34
        }
      },
      "source": [
        "def calculate_string_length(string1):                        #defining the function\n",
        "    count = 0           \n",
        "    for char in string1:                                     # for loop to calclate the length of the string\n",
        "        count = count + 1\n",
        "    return count\n",
        "print(calculate_string_length(\"Master's in Data Science\"))   #printing the total length of the string\n"
      ],
      "execution_count": 0,
      "outputs": [
        {
          "output_type": "stream",
          "text": [
            "24\n"
          ],
          "name": "stdout"
        }
      ]
    },
    {
      "cell_type": "markdown",
      "metadata": {
        "id": "jJDe71iLB616",
        "colab_type": "text"
      },
      "source": [
        "(2) Write a Python program to count the number of characters in a string.\n",
        "\n",
        "Sample String : 'google.com‘, \n",
        "\n",
        "Expected Result : {'o': 3, 'g': 2, '.': 1, 'e': 1, 'l': 1, 'm': 1, 'c': 1}"
      ]
    },
    {
      "cell_type": "code",
      "metadata": {
        "id": "MtKskTzbCLaU",
        "colab_type": "code",
        "outputId": "40b73ae7-699e-421c-ce94-69b78f0260c7",
        "colab": {
          "base_uri": "https://localhost:8080/",
          "height": 34
        }
      },
      "source": [
        "def number_of_characters(string1):                #defining the function\n",
        "    dict = {}\n",
        "    for n in string1:                             #for loop to calclate the number of characters of the string\n",
        "        keys = dict.keys()\n",
        "        if n in keys:                             # this statement excutes if n is in keys otherwise else statements excutes\n",
        "            dict[n] += 1\n",
        "        else:\n",
        "            dict[n] = 1\n",
        "    return dict\n",
        "print(number_of_characters('google.com'))         # prints the count of number of characters in the given string"
      ],
      "execution_count": 0,
      "outputs": [
        {
          "output_type": "stream",
          "text": [
            "{'g': 2, 'o': 3, 'l': 1, 'e': 1, '.': 1, 'c': 1, 'm': 1}\n"
          ],
          "name": "stdout"
        }
      ]
    },
    {
      "cell_type": "markdown",
      "metadata": {
        "id": "55W9AMdXCSpV",
        "colab_type": "text"
      },
      "source": [
        "(3) Write a Python program to sum all the items in a list"
      ]
    },
    {
      "cell_type": "code",
      "metadata": {
        "id": "I57NXsauCec2",
        "colab_type": "code",
        "outputId": "c74cdabf-f914-46fa-95ea-4180180862f5",
        "colab": {
          "base_uri": "https://localhost:8080/",
          "height": 34
        }
      },
      "source": [
        "def sum_of_all_the_items_in_a_list(items):        #defining the function\n",
        "  sum_of_numbers = 0                              \n",
        "  for a in items:                                 # for loop\n",
        "     sum_of_numbers += a\n",
        "  return sum_of_numbers\n",
        "print(sum_of_all_the_items_in_a_list([12,15,18,16,52,-897]))\n"
      ],
      "execution_count": 0,
      "outputs": [
        {
          "output_type": "stream",
          "text": [
            "-784\n"
          ],
          "name": "stdout"
        }
      ]
    },
    {
      "cell_type": "markdown",
      "metadata": {
        "id": "4ulBZ6yhCi9F",
        "colab_type": "text"
      },
      "source": [
        "(4) Write a Python program to get a string from a given string where all occurrences of its first char have been changed to '\\$', except the first char itself. \n",
        "\n",
        "Sample String : 'restart‘, \n",
        "\n",
        "Expected Result : 'resta\\$t'"
      ]
    },
    {
      "cell_type": "code",
      "metadata": {
        "id": "Fj0XhwbBCw2o",
        "colab_type": "code",
        "outputId": "e210fc3e-827b-43c3-a634-c16e1f783d51",
        "colab": {
          "base_uri": "https://localhost:8080/",
          "height": 34
        }
      },
      "source": [
        "def change_the_char_in_the_given_string(string1):     #defining the function\n",
        "  \n",
        "  given_string = string1[0]\n",
        "  string2 = string1.replace(given_string, '$')        # using .replace to replace the character with $\n",
        "  string3 = given_string + string2[1:]                # adding the two strings\n",
        "\n",
        "  return string3\n",
        "print(change_the_char_in_the_given_string('restart')) # printing the expected result\n",
        "\n",
        "\n"
      ],
      "execution_count": 0,
      "outputs": [
        {
          "output_type": "stream",
          "text": [
            "resta$t\n"
          ],
          "name": "stdout"
        }
      ]
    },
    {
      "cell_type": "markdown",
      "metadata": {
        "id": "_bIP7s1MCzue",
        "colab_type": "text"
      },
      "source": [
        "(5) Write a program with python which could accept two parameter a and b to calculate and output the result of S, where \n",
        "\n",
        "$\\ S=3.14*(1+a/b)^3$\n",
        "\n"
      ]
    },
    {
      "cell_type": "code",
      "metadata": {
        "id": "w79QilHXD3Mg",
        "colab_type": "code",
        "outputId": "04844176-fe06-438f-b72c-9313036009a8",
        "colab": {
          "base_uri": "https://localhost:8080/",
          "height": 68
        }
      },
      "source": [
        "first = input('number 1:')         #first value\n",
        "second = input('number 2:')        #second value\n",
        "s = 3.14 * (1 + float(first)/float(second))**3\n",
        "print(s)                           # printing the calculated result"
      ],
      "execution_count": 0,
      "outputs": [
        {
          "output_type": "stream",
          "text": [
            "number 1:231\n",
            "number 2:232\n",
            "24.95793598516493\n"
          ],
          "name": "stdout"
        }
      ]
    },
    {
      "cell_type": "markdown",
      "metadata": {
        "id": "xCa2bK9aD4Q3",
        "colab_type": "text"
      },
      "source": [
        "(6) Write a Python program to concatenate following dictionaries to create a new one. \n",
        "\n",
        "Sample Dictionary : dic1={1:10, 2:20}, dic2={3:30, 4:40}, dic3={5:50,6:60}, \n",
        "\n",
        "Expected Result : {1: 10, 2: 20, 3: 30, 4: 40, 5: 50, 6: 60}\n"
      ]
    },
    {
      "cell_type": "code",
      "metadata": {
        "id": "_z4aLqAbEET1",
        "colab_type": "code",
        "outputId": "82febd37-1b2a-4969-9b5c-955e4abf205f",
        "colab": {
          "base_uri": "https://localhost:8080/",
          "height": 34
        }
      },
      "source": [
        "dic1={1:10, 2:20}  # given dictionary 1\n",
        "dic2={3:30, 4:40}  # given dictionary 2\n",
        "dic3={5:50,6:60}   # given dictionary 3\n",
        "dic4 = dict(dic1)  # initializing dictionary 4 \n",
        "dic4.update(dic2)  # updating with dic2\n",
        "dic4.update(dic3)  # updating with dic3\n",
        "print(dic4)        # printing the final dictionary 4 (expected result)\n",
        "\n",
        "\n",
        "\n"
      ],
      "execution_count": 0,
      "outputs": [
        {
          "output_type": "stream",
          "text": [
            "{1: 10, 2: 20, 3: 30, 4: 40, 5: 50, 6: 60}\n"
          ],
          "name": "stdout"
        }
      ]
    },
    {
      "cell_type": "markdown",
      "metadata": {
        "id": "0v48Vqa7FrQh",
        "colab_type": "text"
      },
      "source": [
        "(7) Write a Python program to check whether an element exists within a tuple."
      ]
    },
    {
      "cell_type": "code",
      "metadata": {
        "id": "7WEmgq-DF2P1",
        "colab_type": "code",
        "outputId": "177d9514-ecbd-4542-c64d-bdf0c6af98ce",
        "colab": {
          "base_uri": "https://localhost:8080/",
          "height": 51
        }
      },
      "source": [
        " \n",
        "check_tuple = (1, 3, 4, 7)                   # initialize tuple\n",
        "print(\"The tuple is : \" + str(check_tuple))  # printing original tuple\n",
        "x = 3                                        # initialize x\n",
        "y = False                                    # Check if element is present in tuple \n",
        "for e in check_tuple  :                      # using loop\n",
        "    if x == e :                              \n",
        "        y = True\n",
        "        break\n",
        " print(\"Is the given vaue exists within a tuple ? : \" + str(y))  # printing result"
      ],
      "execution_count": 0,
      "outputs": [
        {
          "output_type": "stream",
          "text": [
            "The tuple is : (1, 3, 4, 7)\n",
            "Is the given vaue exists within a tuple ? : True\n"
          ],
          "name": "stdout"
        }
      ]
    },
    {
      "cell_type": "markdown",
      "metadata": {
        "id": "vD5PYLMuGga_",
        "colab_type": "text"
      },
      "source": [
        "(8) Write a Python program to find maximum and the minimum value in a set. "
      ]
    },
    {
      "cell_type": "code",
      "metadata": {
        "id": "t0D5kdJUGjjw",
        "colab_type": "code",
        "outputId": "b01d6caa-c2f0-4607-9c13-558ca8be6c61",
        "colab": {
          "base_uri": "https://localhost:8080/",
          "height": 51
        }
      },
      "source": [
        "max_and_min_set = set([25654, 26548,544,564648,56464])    # initialize set\n",
        "print(max(max_and_min_set))                               # printing the maximum value\n",
        "print(min(max_and_min_set))                               # printing the minimum value\n"
      ],
      "execution_count": 0,
      "outputs": [
        {
          "output_type": "stream",
          "text": [
            "564648\n",
            "544\n"
          ],
          "name": "stdout"
        }
      ]
    },
    {
      "cell_type": "markdown",
      "metadata": {
        "id": "uHkd-y5VhVWC",
        "colab_type": "text"
      },
      "source": [
        "(9) Write a Python program to randomly divide the students in this class into four groups for term projects. Here is the students list:\n",
        "\n",
        "studnet_list = ['sa0753','laa0240','lba0043','pb0283','vmb0067','vcd0017','ag1121','lg0426','mj0396','ak0860','vk0222','vk0216',\n",
        "                'tpk0023','nk0327','mk0830','tbl0041','al0787','am1823','sm1515','km0738','hn0139','an0521','ap0975','dp1080',\n",
        "                'pk0292','vp0241','rp0477','hr0178','ps0501','ss1976','ss1872','ss1872','bs0490','pt0218','ry0104']"
      ]
    },
    {
      "cell_type": "code",
      "metadata": {
        "id": "3iGbmcOBhTwy",
        "colab_type": "code",
        "outputId": "a7c6c8ae-8378-44e6-ccc1-cbb40078b1e4",
        "colab": {
          "base_uri": "https://localhost:8080/",
          "height": 122
        }
      },
      "source": [
        "import random\n",
        "studentlist = ['sa0753','laa0240','lba0043','pb0283','vmb0067','vcd0017','ag1121','lg0426','mj0396','ak0860','vk0222',\n",
        "               'vk0216', 'tpk0023','nk0327','mk0830','tbl0041','al0787','am1823','sm1515','km0738','hn0139','an0521','ap0975','dp1080', \n",
        "               'pk0292','vp0241','rp0477','hr0178','ps0501','ss1976','ss1872','ss1872','bs0490','pt0218','ry0104']\n",
        "print(studentlist)\n",
        "for i in range(4):\n",
        "   sampling = random.choices(studentlist, k=6)\n",
        "   studentlist = [i for i in studentlist if i not in sampling]\n",
        "   print(\"group\" + str(i+1)+\":\", sampling)\n",
        "\n",
        "\n"
      ],
      "execution_count": 0,
      "outputs": [
        {
          "output_type": "stream",
          "text": [
            "['sa0753', 'laa0240', 'lba0043', 'pb0283', 'vmb0067', 'vcd0017', 'ag1121', 'lg0426', 'mj0396', 'ak0860', 'vk0222', 'vk0216', 'tpk0023', 'nk0327', 'mk0830', 'tbl0041', 'al0787', 'am1823', 'sm1515', 'km0738', 'hn0139', 'an0521', 'ap0975', 'dp1080', 'pk0292', 'vp0241', 'rp0477', 'hr0178', 'ps0501', 'ss1976', 'ss1872', 'ss1872', 'bs0490', 'pt0218', 'ry0104']\n",
            "group1: ['hr0178', 'km0738', 'km0738', 'tpk0023', 'mj0396', 'pb0283']\n",
            "group2: ['vcd0017', 'vk0222', 'ss1976', 'hn0139', 'dp1080', 'ak0860']\n",
            "group3: ['vk0216', 'lba0043', 'rp0477', 'pk0292', 'am1823', 'laa0240']\n",
            "group4: ['vp0241', 'mk0830', 'nk0327', 'vmb0067', 'tbl0041', 'bs0490']\n"
          ],
          "name": "stdout"
        }
      ]
    },
    {
      "cell_type": "code",
      "metadata": {
        "id": "Q0qDgwa9hFPU",
        "colab_type": "code",
        "colab": {}
      },
      "source": [
        ""
      ],
      "execution_count": 0,
      "outputs": []
    }
  ]
}