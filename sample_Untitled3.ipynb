{
  "nbformat": 4,
  "nbformat_minor": 0,
  "metadata": {
    "colab": {
      "name": "Untitled3.ipynb",
      "provenance": [],
      "collapsed_sections": [],
      "authorship_tag": "ABX9TyMwtMB51DJtFitlQ3hL+qEK",
      "include_colab_link": true
    },
    "kernelspec": {
      "name": "python3",
      "display_name": "Python 3"
    }
  },
  "cells": [
    {
      "cell_type": "markdown",
      "metadata": {
        "id": "view-in-github",
        "colab_type": "text"
      },
      "source": [
        "<a href=\"https://colab.research.google.com/github/kavyaperavali/kavya_INFO-5731_spring_2020/blob/master/sample_Untitled3.ipynb\" target=\"_parent\"><img src=\"https://colab.research.google.com/assets/colab-badge.svg\" alt=\"Open In Colab\"/></a>"
      ]
    },
    {
      "cell_type": "code",
      "metadata": {
        "id": "hVauUAOoMkwf",
        "colab_type": "code",
        "colab": {}
      },
      "source": [
        "import urllib.request\n",
        "import requests\n",
        "from bs4 import BeautifulSoup\n",
        "import csv\n",
        "fid=urllib.request.urlopen('https://forecast.weather.gov/MapClick.php?textField1=33.22&textField2=-97.15#.XaXfI0ZKjb0')\n",
        "webpage=fid.read().decode('utf-8')\n",
        "page = requests.get('https://forecast.weather.gov/MapClick.php?textField1=33.22&textField2=-97.15#.XaXfI0ZKjb0')\n",
        "\n",
        "# Create a BeautifulSoup object\n",
        "\n",
        "soup = BeautifulSoup(page.text, 'html.parser')\n",
        "\n",
        "seven_day = soup.find(\"div\",{\"id\":\"seven-day-forecast\"})\n",
        "\n",
        "\n",
        "f = csv.writer(open('kavya.csv', 'w'))\n",
        "f.writerow(['period', 'short_desc', 'temp', 'descp'])\n",
        "forecast = seven_day.find(\"div\",{\"class\":\"tombstone-container\"})\n",
        "forecasts = forecast.findAll('a')\n",
        "for forecast in forecasts:\n",
        "  p = period.contents[4]\n",
        "  s = short_desc.contents[4]\n",
        "  t = temp.contents[4]\n",
        "  d= desc.contents[4]\n",
        "  f.writerow([p, s, t, d])\n",
        "\n"
      ],
      "execution_count": 0,
      "outputs": []
    },
    {
      "cell_type": "code",
      "metadata": {
        "id": "U8Kepv3KMonY",
        "colab_type": "code",
        "colab": {}
      },
      "source": [
        ""
      ],
      "execution_count": 0,
      "outputs": []
    }
  ]
}