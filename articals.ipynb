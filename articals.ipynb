{
  "nbformat": 4,
  "nbformat_minor": 0,
  "metadata": {
    "colab": {
      "name": "articals.ipynb",
      "provenance": [],
      "collapsed_sections": [],
      "authorship_tag": "ABX9TyOS/1V5wjMfBJJnD38O65Yk",
      "include_colab_link": true
    },
    "kernelspec": {
      "name": "python3",
      "display_name": "Python 3"
    }
  },
  "cells": [
    {
      "cell_type": "markdown",
      "metadata": {
        "id": "view-in-github",
        "colab_type": "text"
      },
      "source": [
        "<a href=\"https://colab.research.google.com/github/kavyaperavali/kavya_INFO-5731_spring_2020/blob/master/articals.ipynb\" target=\"_parent\"><img src=\"https://colab.research.google.com/assets/colab-badge.svg\" alt=\"Open In Colab\"/></a>"
      ]
    },
    {
      "cell_type": "code",
      "metadata": {
        "id": "hVauUAOoMkwf",
        "colab_type": "code",
        "colab": {}
      },
      "source": [
        "# we import the class that we need scraping our blog\n",
        "\n",
        "import requests\n",
        "from bs4 import BeautifulSoup\n",
        "from csv import writer\n",
        "\n",
        "\n",
        "# we create a response variable\n",
        "\n",
        "response = requests.get('https://blog.hlab.tech/')\n",
        "\n",
        "# we initialize beautiful soup and pass in our response\n",
        "\n",
        "soup = BeautifulSoup(response.text, 'html.parser')\n",
        "\n",
        "# we create a variable called posts and we know that our all our blog posts are in a div called blog-entry-content\n",
        "\n",
        "posts = soup.findAll(class_='blog-entry-content')\n",
        "\n",
        "\n",
        "# writing to csv file\n",
        "\n",
        "with open('articles.csv', 'w') as csv_file:\n",
        "    csv_writer = writer(csv_file)\n",
        "\n",
        "    # creating headers in the csv file\n",
        "    headers = ['Title', 'Link', 'Date']\n",
        "\n",
        "    # writing a row of headers in the csv\n",
        "    csv_writer.writerow(headers)\n",
        "\n",
        "    # now lets loop through our posts\n",
        "\n",
        "    for post in posts:\n",
        "        title = post.find(class_='blog-entry-title entry-title').get_text().replace('\\n', '')\n",
        "        link = post.find('a')['href']\n",
        "        date = post.select('.blog-entry-date.clr')[0].get_text()\n",
        "        csv_writer.writerow([title, link, date])"
      ],
      "execution_count": 0,
      "outputs": []
    },
    {
      "cell_type": "code",
      "metadata": {
        "id": "U8Kepv3KMonY",
        "colab_type": "code",
        "colab": {}
      },
      "source": [
        ""
      ],
      "execution_count": 0,
      "outputs": []
    }
  ]
}