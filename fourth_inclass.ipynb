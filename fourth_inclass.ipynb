{
  "nbformat": 4,
  "nbformat_minor": 0,
  "metadata": {
    "colab": {
      "name": "fourth_inclass.ipynb",
      "provenance": [],
      "collapsed_sections": [],
      "authorship_tag": "ABX9TyMHqHCy9/wXg5PecUjhiPQm",
      "include_colab_link": true
    },
    "kernelspec": {
      "name": "python3",
      "display_name": "Python 3"
    }
  },
  "cells": [
    {
      "cell_type": "markdown",
      "metadata": {
        "id": "view-in-github",
        "colab_type": "text"
      },
      "source": [
        "<a href=\"https://colab.research.google.com/github/kavyaperavali/kavya_INFO-5731_spring_2020/blob/master/fourth_inclass.ipynb\" target=\"_parent\"><img src=\"https://colab.research.google.com/assets/colab-badge.svg\" alt=\"Open In Colab\"/></a>"
      ]
    },
    {
      "cell_type": "code",
      "metadata": {
        "id": "lysKUiaonR-s",
        "colab_type": "code",
        "colab": {}
      },
      "source": [
        "pip install pysbd"
      ],
      "execution_count": 0,
      "outputs": []
    },
    {
      "cell_type": "code",
      "metadata": {
        "id": "ILXQqEewng55",
        "colab_type": "code",
        "colab": {
          "base_uri": "https://localhost:8080/",
          "height": 34
        },
        "outputId": "10fa3945-6352-4b4f-e32e-3b0320d16b03"
      },
      "source": [
        "# 1.1.1 Number of sentences \n",
        "d = open(\"file.txt\", \"r\", encoding='cp1252')\n",
        "f = d.read()\n",
        "import pysbd\n",
        "seg = pysbd.Segmenter(language =\"en\", clean = False)\n",
        "segmentedlist  = seg.segment(f)\n",
        "num = len(segmentedlist)\n",
        "print(\"Total number of sentences in the given text file:-\", num)"
      ],
      "execution_count": 152,
      "outputs": [
        {
          "output_type": "stream",
          "text": [
            "Total number of sentences in the given text file:- 220\n"
          ],
          "name": "stdout"
        }
      ]
    },
    {
      "cell_type": "code",
      "metadata": {
        "id": "y-E3iTBXnnu3",
        "colab_type": "code",
        "colab": {
          "base_uri": "https://localhost:8080/",
          "height": 34
        },
        "outputId": "ca8edbc7-38bf-4f75-cbbb-eeea934650fb"
      },
      "source": [
        "#1.1.2 Number of words\n",
        "from collections import Counter\n",
        "#word_list = f.split()\n",
        "words = f.split()\n",
        "print('Number of words in text file :', len(words))"
      ],
      "execution_count": 20,
      "outputs": [
        {
          "output_type": "stream",
          "text": [
            "Number of words in text file : 3707\n"
          ],
          "name": "stdout"
        }
      ]
    },
    {
      "cell_type": "code",
      "metadata": {
        "id": "YtXaJii_sU9A",
        "colab_type": "code",
        "colab": {
          "base_uri": "https://localhost:8080/",
          "height": 34
        },
        "outputId": "54828869-34f3-4a3d-8ed1-cdda3ab681fb"
      },
      "source": [
        "#1.1.3 Number of characters \n",
        "number_of_characters = len(f)\n",
        "print(\"Number of characters in the Text file:-\", number_of_characters)"
      ],
      "execution_count": 21,
      "outputs": [
        {
          "output_type": "stream",
          "text": [
            "Number of characters in the Text file:- 20453\n"
          ],
          "name": "stdout"
        }
      ]
    },
    {
      "cell_type": "code",
      "metadata": {
        "id": "4p2FW4Gcwfno",
        "colab_type": "code",
        "colab": {
          "base_uri": "https://localhost:8080/",
          "height": 34
        },
        "outputId": "0d1450f4-32a9-404b-c225-291b89f812df"
      },
      "source": [
        "#1.1.4 Average word length ---- Method 1\n",
        "d = open(\"file.txt\", \"r\", encoding='cp1252')\n",
        "total_wordcount_sum = 0\n",
        "total_wordlength_sum = 0\n",
        "for line in d:\n",
        "    word_1 = line.split()\n",
        "    # sum up the word counts\n",
        "    total_wordcount_sum += len(word_1)\n",
        "    for w in word_1:\n",
        "        # sum up the word lengths\n",
        "        total_wordlength_sum += len(w)\n",
        "# invoke floating point division for Python versions < 3.0\n",
        "total_wordlength_average = total_wordlength_sum/float(total_wordcount_sum)\n",
        "print(\"Average word length:- \", total_wordlength_average)\n",
        "\n"
      ],
      "execution_count": 118,
      "outputs": [
        {
          "output_type": "stream",
          "text": [
            "Average word length:-  4.510385756676558\n"
          ],
          "name": "stdout"
        }
      ]
    },
    {
      "cell_type": "code",
      "metadata": {
        "id": "pWdTFm9axg-7",
        "colab_type": "code",
        "colab": {
          "base_uri": "https://localhost:8080/",
          "height": 34
        },
        "outputId": "4eea4a8c-3498-4361-9b9d-9f9846e9eaca"
      },
      "source": [
        "#1.1.4 Average word length ---- Method 2\n",
        "with  open(\"file.txt\", \"r\", encoding='cp1252') as f:\n",
        "  w = [len(word) for line in f for word in line.rstrip().split(\" \")]\n",
        "  w_avg = sum(w)/len(w)\n",
        "  print(\"Average word length:- \", w_avg)"
      ],
      "execution_count": 122,
      "outputs": [
        {
          "output_type": "stream",
          "text": [
            "Average word length:-  4.478971336726493\n"
          ],
          "name": "stdout"
        }
      ]
    },
    {
      "cell_type": "code",
      "metadata": {
        "id": "ymPo7t4l3EWG",
        "colab_type": "code",
        "colab": {}
      },
      "source": [
        "pip install stop-words"
      ],
      "execution_count": 0,
      "outputs": []
    },
    {
      "cell_type": "code",
      "metadata": {
        "id": "5lxEiHnI73zw",
        "colab_type": "code",
        "colab": {}
      },
      "source": [
        "pip install nltk"
      ],
      "execution_count": 0,
      "outputs": []
    },
    {
      "cell_type": "code",
      "metadata": {
        "id": "_zSvQwjcNCUH",
        "colab_type": "code",
        "colab": {}
      },
      "source": [
        "#1.1.5 Number of stopwords\n"
      ],
      "execution_count": 0,
      "outputs": []
    },
    {
      "cell_type": "code",
      "metadata": {
        "id": "bwP0JUtMC1mm",
        "colab_type": "code",
        "colab": {
          "base_uri": "https://localhost:8080/",
          "height": 34
        },
        "outputId": "83e04795-a905-46c6-e471-c276b68afe01"
      },
      "source": [
        "#1.1.6 Number of Special Characters \n",
        "\n",
        "special_char = 0\n",
        "for line in f:\n",
        "  special_char += sum(not x.isalnum() for x in line)\n",
        "print(\"Total number of special characters in the file:=\", special_char)"
      ],
      "execution_count": 112,
      "outputs": [
        {
          "output_type": "stream",
          "text": [
            "Total number of special characters in the file:= 4550\n"
          ],
          "name": "stdout"
        }
      ]
    },
    {
      "cell_type": "code",
      "metadata": {
        "id": "8PSwdKEUISCn",
        "colab_type": "code",
        "colab": {
          "base_uri": "https://localhost:8080/",
          "height": 34
        },
        "outputId": "fc61c290-39ae-49cc-b908-29383665d913"
      },
      "source": [
        "#1.1.7 Number of numerics\n",
        "\n",
        "value = [ i for i in f]\n",
        "numerics = len(list(filter(lambda x: x.isdigit(), value)))\n",
        "print(\"The Number of numerics:-\", numerics)"
      ],
      "execution_count": 106,
      "outputs": [
        {
          "output_type": "stream",
          "text": [
            "The Number of numerics:- 356\n"
          ],
          "name": "stdout"
        }
      ]
    },
    {
      "cell_type": "code",
      "metadata": {
        "id": "LYDZKRqDDSk3",
        "colab_type": "code",
        "colab": {
          "base_uri": "https://localhost:8080/",
          "height": 34
        },
        "outputId": "38db03a3-3e97-44f8-b25c-e7eb2451c312"
      },
      "source": [
        "#1.1.8 Number of uppercase words. Method-1\n",
        "\n",
        "uppercase_words = len(list(filter(lambda x: x.isupper(), value)))\n",
        "print(\"The Number of uppercase words:-\", uppercase_words)"
      ],
      "execution_count": 156,
      "outputs": [
        {
          "output_type": "stream",
          "text": [
            "The Number of uppercase words:- 695\n"
          ],
          "name": "stdout"
        }
      ]
    },
    {
      "cell_type": "code",
      "metadata": {
        "id": "2Osft5sQEhqy",
        "colab_type": "code",
        "colab": {
          "base_uri": "https://localhost:8080/",
          "height": 34
        },
        "outputId": "fcdfe9ae-837b-4e13-feda-77656f7113b9"
      },
      "source": [
        "#1.1.8 Number of uppercase words. Method-2\n",
        "d = open(\"file.txt\", \"r\", encoding='cp1252')\n",
        "f = d.read()\n",
        "uppercase_words = 0\n",
        "uppercase =['A','B','C','D','E','F','G','H','I','J','K','L','M','N','O','P','Q','R','S','T','U','V','W','X','Y','Z']\n",
        "for character in f:\n",
        "  if character in uppercase:\n",
        "    uppercase_words += 1\n",
        "print('The Number of uppercase words is:-',uppercase_words)"
      ],
      "execution_count": 169,
      "outputs": [
        {
          "output_type": "stream",
          "text": [
            "The Number of uppercase words is:- 695\n"
          ],
          "name": "stdout"
        }
      ]
    },
    {
      "cell_type": "code",
      "metadata": {
        "id": "a9IZD7mzHgin",
        "colab_type": "code",
        "colab": {}
      },
      "source": [
        "#1.2.1 Lower casing all the data\n",
        "\n",
        "with open(\"file.txt\", \"r\", encoding='cp1252') as f:\n",
        "   for line in f:\n",
        "       line = line.lower()\n",
        "       print(line)"
      ],
      "execution_count": 0,
      "outputs": []
    },
    {
      "cell_type": "code",
      "metadata": {
        "id": "QkpQMvCzbozM",
        "colab_type": "code",
        "colab": {}
      },
      "source": [
        "#1.2.2  Punctuation removal for all the data \n",
        "import re\n",
        "string = open(\"file.txt\", \"r\", encoding='cp1252').read() # open the input text file and read\n",
        "no_specials_string = re.sub('[!#?,.:\";]', '', string) # remove the Punctuation\n",
        "print(no_specials_string)"
      ],
      "execution_count": 0,
      "outputs": []
    },
    {
      "cell_type": "code",
      "metadata": {
        "id": "ibvXKvN8e1V8",
        "colab_type": "code",
        "colab": {}
      },
      "source": [
        "#1.2.3 \n"
      ],
      "execution_count": 0,
      "outputs": []
    },
    {
      "cell_type": "code",
      "metadata": {
        "id": "jyjB7U48vz4V",
        "colab_type": "code",
        "colab": {}
      },
      "source": [
        ""
      ],
      "execution_count": 0,
      "outputs": []
    }
  ]
}